{
 "cells": [
  {
   "cell_type": "code",
   "execution_count": 118,
   "id": "initial_id",
   "metadata": {
    "collapsed": true,
    "ExecuteTime": {
     "end_time": "2024-07-19T06:06:12.463140Z",
     "start_time": "2024-07-19T06:06:12.268321Z"
    }
   },
   "outputs": [],
   "source": [
    "import pandas as pd\n",
    "import numpy as np"
   ]
  },
  {
   "cell_type": "code",
   "outputs": [
    {
     "data": {
      "text/plain": "'2.2.2'"
     },
     "execution_count": 119,
     "metadata": {},
     "output_type": "execute_result"
    }
   ],
   "source": [
    "pd.__version__"
   ],
   "metadata": {
    "collapsed": false,
    "ExecuteTime": {
     "end_time": "2024-07-19T06:06:12.487997Z",
     "start_time": "2024-07-19T06:06:12.465358Z"
    }
   },
   "id": "79b2ad709057acb5",
   "execution_count": 119
  },
  {
   "cell_type": "markdown",
   "source": [
    "## What is A DataFrame?"
   ],
   "metadata": {
    "collapsed": false
   },
   "id": "28224e0fa296982"
  },
  {
   "cell_type": "code",
   "outputs": [
    {
     "data": {
      "text/plain": "0    Daniel\n1      John\n2      Rudi\n3    Nicole\n4      Tess\n5      Musa\nName: name, dtype: object"
     },
     "execution_count": 120,
     "metadata": {},
     "output_type": "execute_result"
    }
   ],
   "source": [
    "# Python lists\n",
    "names = ['Daniel', 'John', 'Rudi', 'Nicole', 'Tess', 'Musa']\n",
    "ages = [25, 30, 35, 40, 38, 64]\n",
    "married = [True, False, False, False, True, True]\n",
    "\n",
    "# Panda series\n",
    "ser = pd.Series(names, name='name')\n",
    "ser"
   ],
   "metadata": {
    "collapsed": false,
    "ExecuteTime": {
     "end_time": "2024-07-19T06:06:12.505114Z",
     "start_time": "2024-07-19T06:06:12.479554Z"
    }
   },
   "id": "be0c8588c359ccc9",
   "execution_count": 120
  },
  {
   "cell_type": "markdown",
   "source": [
    "## Create Data Frame"
   ],
   "metadata": {
    "collapsed": false
   },
   "id": "4cbd522354062d8b"
  },
  {
   "cell_type": "code",
   "outputs": [
    {
     "data": {
      "text/plain": "     name  ages  married\n0  Daniel    25     True\n1    John    30    False\n2    Rudi    35    False\n3  Nicole    40    False\n4    Tess    38     True\n5    Musa    64     True",
      "text/html": "<div>\n<style scoped>\n    .dataframe tbody tr th:only-of-type {\n        vertical-align: middle;\n    }\n\n    .dataframe tbody tr th {\n        vertical-align: top;\n    }\n\n    .dataframe thead th {\n        text-align: right;\n    }\n</style>\n<table border=\"1\" class=\"dataframe\">\n  <thead>\n    <tr style=\"text-align: right;\">\n      <th></th>\n      <th>name</th>\n      <th>ages</th>\n      <th>married</th>\n    </tr>\n  </thead>\n  <tbody>\n    <tr>\n      <th>0</th>\n      <td>Daniel</td>\n      <td>25</td>\n      <td>True</td>\n    </tr>\n    <tr>\n      <th>1</th>\n      <td>John</td>\n      <td>30</td>\n      <td>False</td>\n    </tr>\n    <tr>\n      <th>2</th>\n      <td>Rudi</td>\n      <td>35</td>\n      <td>False</td>\n    </tr>\n    <tr>\n      <th>3</th>\n      <td>Nicole</td>\n      <td>40</td>\n      <td>False</td>\n    </tr>\n    <tr>\n      <th>4</th>\n      <td>Tess</td>\n      <td>38</td>\n      <td>True</td>\n    </tr>\n    <tr>\n      <th>5</th>\n      <td>Musa</td>\n      <td>64</td>\n      <td>True</td>\n    </tr>\n  </tbody>\n</table>\n</div>"
     },
     "execution_count": 121,
     "metadata": {},
     "output_type": "execute_result"
    }
   ],
   "source": [
    "# Panda df\n",
    "df = pd.DataFrame({\n",
    "    'name': names,\n",
    "    'ages': ages,\n",
    "    'married': married\n",
    "})\n",
    "df"
   ],
   "metadata": {
    "collapsed": false,
    "ExecuteTime": {
     "end_time": "2024-07-19T06:06:12.527288Z",
     "start_time": "2024-07-19T06:06:12.496504Z"
    }
   },
   "id": "ed56243e85583071",
   "execution_count": 121
  },
  {
   "cell_type": "code",
   "outputs": [
    {
     "data": {
      "text/plain": "'Rudi'"
     },
     "execution_count": 122,
     "metadata": {},
     "output_type": "execute_result"
    }
   ],
   "source": [
    "df.iloc[2, 0]"
   ],
   "metadata": {
    "collapsed": false,
    "ExecuteTime": {
     "end_time": "2024-07-19T06:06:12.544778Z",
     "start_time": "2024-07-19T06:06:12.528619Z"
    }
   },
   "id": "63c50b9d91d7f8f8",
   "execution_count": 122
  },
  {
   "cell_type": "code",
   "outputs": [
    {
     "data": {
      "text/plain": "name        Rudi\nages          35\nmarried    False\nName: 2, dtype: object"
     },
     "execution_count": 123,
     "metadata": {},
     "output_type": "execute_result"
    }
   ],
   "source": [
    "df.iloc[2]"
   ],
   "metadata": {
    "collapsed": false,
    "ExecuteTime": {
     "end_time": "2024-07-19T06:06:12.577887Z",
     "start_time": "2024-07-19T06:06:12.545799Z"
    }
   },
   "id": "5a3edd6492ea4983",
   "execution_count": 123
  },
  {
   "cell_type": "code",
   "outputs": [
    {
     "data": {
      "text/plain": "(1, 2)"
     },
     "execution_count": 124,
     "metadata": {},
     "output_type": "execute_result"
    }
   ],
   "source": [
    "# ndim\n",
    "\n",
    "ser.ndim, df.ndim"
   ],
   "metadata": {
    "collapsed": false,
    "ExecuteTime": {
     "end_time": "2024-07-19T06:06:12.593094Z",
     "start_time": "2024-07-19T06:06:12.561472Z"
    }
   },
   "id": "15aaa6d5165c43c6",
   "execution_count": 124
  },
  {
   "cell_type": "code",
   "outputs": [
    {
     "data": {
      "text/plain": "((6,), (6, 3))"
     },
     "execution_count": 125,
     "metadata": {},
     "output_type": "execute_result"
    }
   ],
   "source": [
    "ser.shape, df.shape"
   ],
   "metadata": {
    "collapsed": false,
    "ExecuteTime": {
     "end_time": "2024-07-19T06:06:12.647571Z",
     "start_time": "2024-07-19T06:06:12.583595Z"
    }
   },
   "id": "8a0cad27716de8b3",
   "execution_count": 125
  },
  {
   "cell_type": "markdown",
   "source": [
    "each column in a dataframe is a series\n",
    "dataframe is collation of series\n"
   ],
   "metadata": {
    "collapsed": false
   },
   "id": "b7193941b66b9cee"
  },
  {
   "cell_type": "code",
   "outputs": [
    {
     "data": {
      "text/plain": "0    Daniel\n1      John\n2      Rudi\n3    Nicole\n4      Tess\n5      Musa\nName: name, dtype: object"
     },
     "execution_count": 126,
     "metadata": {},
     "output_type": "execute_result"
    }
   ],
   "source": [
    "df.name"
   ],
   "metadata": {
    "collapsed": false,
    "ExecuteTime": {
     "end_time": "2024-07-19T06:06:12.658692Z",
     "start_time": "2024-07-19T06:06:12.600544Z"
    }
   },
   "id": "b466eedd641e4a42",
   "execution_count": 126
  },
  {
   "cell_type": "code",
   "outputs": [
    {
     "data": {
      "text/plain": "name       object\nages        int64\nmarried      bool\ndtype: object"
     },
     "execution_count": 127,
     "metadata": {},
     "output_type": "execute_result"
    }
   ],
   "source": [
    "df.dtypes"
   ],
   "metadata": {
    "collapsed": false,
    "ExecuteTime": {
     "end_time": "2024-07-19T06:06:12.704831Z",
     "start_time": "2024-07-19T06:06:12.661118Z"
    }
   },
   "id": "c41f51673a6be0fc",
   "execution_count": 127
  },
  {
   "cell_type": "markdown",
   "source": [
    "# Other Ways to Build DataFrames"
   ],
   "metadata": {
    "collapsed": false
   },
   "id": "2a20c08286f94857"
  },
  {
   "cell_type": "code",
   "outputs": [
    {
     "data": {
      "text/plain": "('Daniel', 'John', 'Rudi', 'Nicole', 'Tess', 'Musa')"
     },
     "execution_count": 128,
     "metadata": {},
     "output_type": "execute_result"
    }
   ],
   "source": [
    "# Dict of tuples\n",
    "\n",
    "tuple_names = tuple(names)\n",
    "tuple_ages = tuple(ages)\n",
    "tuple_married = tuple(married)\n",
    "\n",
    "tuple_names"
   ],
   "metadata": {
    "collapsed": false,
    "ExecuteTime": {
     "end_time": "2024-07-19T06:06:12.725474Z",
     "start_time": "2024-07-19T06:06:12.694583Z"
    }
   },
   "id": "8be16f1dc4499f30",
   "execution_count": 128
  },
  {
   "cell_type": "code",
   "outputs": [
    {
     "data": {
      "text/plain": "     name  ages  married\n0  Daniel    25     True\n1    John    30    False\n2    Rudi    35    False\n3  Nicole    40    False\n4    Tess    38     True\n5    Musa    64     True",
      "text/html": "<div>\n<style scoped>\n    .dataframe tbody tr th:only-of-type {\n        vertical-align: middle;\n    }\n\n    .dataframe tbody tr th {\n        vertical-align: top;\n    }\n\n    .dataframe thead th {\n        text-align: right;\n    }\n</style>\n<table border=\"1\" class=\"dataframe\">\n  <thead>\n    <tr style=\"text-align: right;\">\n      <th></th>\n      <th>name</th>\n      <th>ages</th>\n      <th>married</th>\n    </tr>\n  </thead>\n  <tbody>\n    <tr>\n      <th>0</th>\n      <td>Daniel</td>\n      <td>25</td>\n      <td>True</td>\n    </tr>\n    <tr>\n      <th>1</th>\n      <td>John</td>\n      <td>30</td>\n      <td>False</td>\n    </tr>\n    <tr>\n      <th>2</th>\n      <td>Rudi</td>\n      <td>35</td>\n      <td>False</td>\n    </tr>\n    <tr>\n      <th>3</th>\n      <td>Nicole</td>\n      <td>40</td>\n      <td>False</td>\n    </tr>\n    <tr>\n      <th>4</th>\n      <td>Tess</td>\n      <td>38</td>\n      <td>True</td>\n    </tr>\n    <tr>\n      <th>5</th>\n      <td>Musa</td>\n      <td>64</td>\n      <td>True</td>\n    </tr>\n  </tbody>\n</table>\n</div>"
     },
     "execution_count": 129,
     "metadata": {},
     "output_type": "execute_result"
    }
   ],
   "source": [
    "pd.DataFrame({\n",
    "    'name': tuple_names,\n",
    "    'ages': tuple_ages,\n",
    "    'married': tuple_married\n",
    "})"
   ],
   "metadata": {
    "collapsed": false,
    "ExecuteTime": {
     "end_time": "2024-07-19T06:06:12.753349Z",
     "start_time": "2024-07-19T06:06:12.729392Z"
    }
   },
   "id": "5384bd62dc808642",
   "execution_count": 129
  },
  {
   "cell_type": "code",
   "outputs": [
    {
     "data": {
      "text/plain": "0    Daniel\n1      John\n2      Rudi\n3    Nicole\n4      Tess\n5      Musa\ndtype: object"
     },
     "execution_count": 130,
     "metadata": {},
     "output_type": "execute_result"
    }
   ],
   "source": [
    "# Dict of series\n",
    "\n",
    "ser_names = pd.Series(names)\n",
    "ser_ages = pd.Series(ages)\n",
    "ser_married = pd.Series(married)\n",
    "\n",
    "ser_names"
   ],
   "metadata": {
    "collapsed": false,
    "ExecuteTime": {
     "end_time": "2024-07-19T06:06:12.787096Z",
     "start_time": "2024-07-19T06:06:12.746211Z"
    }
   },
   "id": "55020c197c82572b",
   "execution_count": 130
  },
  {
   "cell_type": "code",
   "outputs": [
    {
     "data": {
      "text/plain": "     name  ages  married\n0  Daniel    25     True\n1    John    30    False\n2    Rudi    35    False\n3  Nicole    40    False\n4    Tess    38     True\n5    Musa    64     True",
      "text/html": "<div>\n<style scoped>\n    .dataframe tbody tr th:only-of-type {\n        vertical-align: middle;\n    }\n\n    .dataframe tbody tr th {\n        vertical-align: top;\n    }\n\n    .dataframe thead th {\n        text-align: right;\n    }\n</style>\n<table border=\"1\" class=\"dataframe\">\n  <thead>\n    <tr style=\"text-align: right;\">\n      <th></th>\n      <th>name</th>\n      <th>ages</th>\n      <th>married</th>\n    </tr>\n  </thead>\n  <tbody>\n    <tr>\n      <th>0</th>\n      <td>Daniel</td>\n      <td>25</td>\n      <td>True</td>\n    </tr>\n    <tr>\n      <th>1</th>\n      <td>John</td>\n      <td>30</td>\n      <td>False</td>\n    </tr>\n    <tr>\n      <th>2</th>\n      <td>Rudi</td>\n      <td>35</td>\n      <td>False</td>\n    </tr>\n    <tr>\n      <th>3</th>\n      <td>Nicole</td>\n      <td>40</td>\n      <td>False</td>\n    </tr>\n    <tr>\n      <th>4</th>\n      <td>Tess</td>\n      <td>38</td>\n      <td>True</td>\n    </tr>\n    <tr>\n      <th>5</th>\n      <td>Musa</td>\n      <td>64</td>\n      <td>True</td>\n    </tr>\n  </tbody>\n</table>\n</div>"
     },
     "execution_count": 131,
     "metadata": {},
     "output_type": "execute_result"
    }
   ],
   "source": [
    "pd.DataFrame({\n",
    "    'name': ser_names,\n",
    "    'ages': ser_ages,\n",
    "    'married': ser_married\n",
    "})"
   ],
   "metadata": {
    "collapsed": false,
    "ExecuteTime": {
     "end_time": "2024-07-19T06:06:12.805886Z",
     "start_time": "2024-07-19T06:06:12.762252Z"
    }
   },
   "id": "5d27683bc6e3fde",
   "execution_count": 131
  },
  {
   "cell_type": "code",
   "outputs": [],
   "source": [
    "# Dict of dicts\n",
    "\n",
    "def convert_list_to_dict(l):\n",
    "    return {k:v for k,v in enumerate(l)}\n",
    "\n",
    "dict_names = convert_list_to_dict(names)\n",
    "dict_ages = convert_list_to_dict(ages)\n",
    "dict_married = convert_list_to_dict(married)\n"
   ],
   "metadata": {
    "collapsed": false,
    "ExecuteTime": {
     "end_time": "2024-07-19T06:06:12.849315Z",
     "start_time": "2024-07-19T06:06:12.796136Z"
    }
   },
   "id": "fd25f202ffba38b7",
   "execution_count": 132
  },
  {
   "cell_type": "code",
   "outputs": [
    {
     "data": {
      "text/plain": "     name  ages  married\n0  Daniel    25     True\n1    John    30    False\n2    Rudi    35    False\n3  Nicole    40    False\n4    Tess    38     True\n5    Musa    64     True",
      "text/html": "<div>\n<style scoped>\n    .dataframe tbody tr th:only-of-type {\n        vertical-align: middle;\n    }\n\n    .dataframe tbody tr th {\n        vertical-align: top;\n    }\n\n    .dataframe thead th {\n        text-align: right;\n    }\n</style>\n<table border=\"1\" class=\"dataframe\">\n  <thead>\n    <tr style=\"text-align: right;\">\n      <th></th>\n      <th>name</th>\n      <th>ages</th>\n      <th>married</th>\n    </tr>\n  </thead>\n  <tbody>\n    <tr>\n      <th>0</th>\n      <td>Daniel</td>\n      <td>25</td>\n      <td>True</td>\n    </tr>\n    <tr>\n      <th>1</th>\n      <td>John</td>\n      <td>30</td>\n      <td>False</td>\n    </tr>\n    <tr>\n      <th>2</th>\n      <td>Rudi</td>\n      <td>35</td>\n      <td>False</td>\n    </tr>\n    <tr>\n      <th>3</th>\n      <td>Nicole</td>\n      <td>40</td>\n      <td>False</td>\n    </tr>\n    <tr>\n      <th>4</th>\n      <td>Tess</td>\n      <td>38</td>\n      <td>True</td>\n    </tr>\n    <tr>\n      <th>5</th>\n      <td>Musa</td>\n      <td>64</td>\n      <td>True</td>\n    </tr>\n  </tbody>\n</table>\n</div>"
     },
     "execution_count": 133,
     "metadata": {},
     "output_type": "execute_result"
    }
   ],
   "source": [
    "pd.DataFrame({\n",
    "    'name': dict_names,\n",
    "    'ages': dict_ages,\n",
    "    'married': dict_married\n",
    "})"
   ],
   "metadata": {
    "collapsed": false,
    "ExecuteTime": {
     "end_time": "2024-07-19T06:06:12.895024Z",
     "start_time": "2024-07-19T06:06:12.839702Z"
    }
   },
   "id": "33ae7da91a018a9",
   "execution_count": 133
  },
  {
   "cell_type": "code",
   "outputs": [
    {
     "data": {
      "text/plain": "     name  ages  married\n0  Daniel    25     True\n1    John    30    False\n2    Rudi    35    False\n3  Nicole    40    False\n4    Tess    38     True\n5    Musa    64     True",
      "text/html": "<div>\n<style scoped>\n    .dataframe tbody tr th:only-of-type {\n        vertical-align: middle;\n    }\n\n    .dataframe tbody tr th {\n        vertical-align: top;\n    }\n\n    .dataframe thead th {\n        text-align: right;\n    }\n</style>\n<table border=\"1\" class=\"dataframe\">\n  <thead>\n    <tr style=\"text-align: right;\">\n      <th></th>\n      <th>name</th>\n      <th>ages</th>\n      <th>married</th>\n    </tr>\n  </thead>\n  <tbody>\n    <tr>\n      <th>0</th>\n      <td>Daniel</td>\n      <td>25</td>\n      <td>True</td>\n    </tr>\n    <tr>\n      <th>1</th>\n      <td>John</td>\n      <td>30</td>\n      <td>False</td>\n    </tr>\n    <tr>\n      <th>2</th>\n      <td>Rudi</td>\n      <td>35</td>\n      <td>False</td>\n    </tr>\n    <tr>\n      <th>3</th>\n      <td>Nicole</td>\n      <td>40</td>\n      <td>False</td>\n    </tr>\n    <tr>\n      <th>4</th>\n      <td>Tess</td>\n      <td>38</td>\n      <td>True</td>\n    </tr>\n    <tr>\n      <th>5</th>\n      <td>Musa</td>\n      <td>64</td>\n      <td>True</td>\n    </tr>\n  </tbody>\n</table>\n</div>"
     },
     "execution_count": 134,
     "metadata": {},
     "output_type": "execute_result"
    }
   ],
   "source": [
    "# List of dicts\n",
    "\n",
    "row_wise = [{ 'name': name, 'ages': ages, 'married': married} for name, ages, married in zip(names, ages, married)]\n",
    "\n",
    "pd.DataFrame(row_wise)"
   ],
   "metadata": {
    "collapsed": false,
    "ExecuteTime": {
     "end_time": "2024-07-19T06:06:12.935722Z",
     "start_time": "2024-07-19T06:06:12.896329Z"
    }
   },
   "id": "1a65b28261e6c1c0",
   "execution_count": 134
  },
  {
   "cell_type": "markdown",
   "source": [
    "## The info() method"
   ],
   "metadata": {
    "collapsed": false
   },
   "id": "e237d180669eefbd"
  },
  {
   "cell_type": "code",
   "outputs": [
    {
     "name": "stdout",
     "output_type": "stream",
     "text": [
      "<class 'pandas.core.frame.DataFrame'>\n",
      "RangeIndex: 6 entries, 0 to 5\n",
      "Data columns (total 3 columns):\n",
      " #   Column   Non-Null Count  Dtype \n",
      "---  ------   --------------  ----- \n",
      " 0   name     6 non-null      object\n",
      " 1   ages     6 non-null      int64 \n",
      " 2   married  6 non-null      bool  \n",
      "dtypes: bool(1), int64(1), object(1)\n",
      "memory usage: 230.0+ bytes\n"
     ]
    }
   ],
   "source": [
    "df.info()"
   ],
   "metadata": {
    "collapsed": false,
    "ExecuteTime": {
     "end_time": "2024-07-19T06:06:12.969898Z",
     "start_time": "2024-07-19T06:06:12.930388Z"
    }
   },
   "id": "1b60def164a5f6c",
   "execution_count": 135
  },
  {
   "cell_type": "code",
   "outputs": [
    {
     "name": "stdout",
     "output_type": "stream",
     "text": [
      "<class 'pandas.core.frame.DataFrame'>\n",
      "RangeIndex: 6 entries, 0 to 5\n",
      "Data columns (total 3 columns):\n",
      " #   Column   Non-Null Count  Dtype \n",
      "---  ------   --------------  ----- \n",
      " 0   name     6 non-null      object\n",
      " 1   ages     6 non-null      int64 \n",
      " 2   married  6 non-null      bool  \n",
      "dtypes: bool(1), int64(1), object(1)\n",
      "memory usage: 230.0+ bytes\n"
     ]
    }
   ],
   "source": [
    "df.info(verbose=True)"
   ],
   "metadata": {
    "collapsed": false,
    "ExecuteTime": {
     "end_time": "2024-07-19T06:06:13.021822Z",
     "start_time": "2024-07-19T06:06:12.974284Z"
    }
   },
   "id": "4ba8ca9291730aae",
   "execution_count": 136
  },
  {
   "cell_type": "code",
   "outputs": [
    {
     "name": "stdout",
     "output_type": "stream",
     "text": [
      "<class 'pandas.core.frame.DataFrame'>\n",
      "RangeIndex: 6 entries, 0 to 5\n",
      "Columns: 3 entries, name to married\n",
      "dtypes: bool(1), int64(1), object(1)\n",
      "memory usage: 230.0+ bytes\n"
     ]
    }
   ],
   "source": [
    "df.info(max_cols=2)"
   ],
   "metadata": {
    "collapsed": false,
    "ExecuteTime": {
     "end_time": "2024-07-19T06:06:13.079551Z",
     "start_time": "2024-07-19T06:06:13.025128Z"
    }
   },
   "id": "bdbc818992f56e89",
   "execution_count": 137
  },
  {
   "cell_type": "code",
   "outputs": [
    {
     "name": "stdout",
     "output_type": "stream",
     "text": [
      "<class 'pandas.core.frame.DataFrame'>\n",
      "RangeIndex: 6 entries, 0 to 5\n",
      "Data columns (total 3 columns):\n",
      " #   Column   Non-Null Count  Dtype \n",
      "---  ------   --------------  ----- \n",
      " 0   name     6 non-null      object\n",
      " 1   ages     6 non-null      int64 \n",
      " 2   married  6 non-null      bool  \n",
      "dtypes: bool(1), int64(1), object(1)\n",
      "memory usage: 552.0 bytes\n"
     ]
    }
   ],
   "source": [
    "df.info(memory_usage='deep')"
   ],
   "metadata": {
    "collapsed": false,
    "ExecuteTime": {
     "end_time": "2024-07-19T06:06:13.104115Z",
     "start_time": "2024-07-19T06:06:13.081137Z"
    }
   },
   "id": "8469b761131c5807",
   "execution_count": 138
  },
  {
   "cell_type": "markdown",
   "source": [
    "## Reading In Nutrition Data"
   ],
   "metadata": {
    "collapsed": false
   },
   "id": "73ec5db596cbc965"
  },
  {
   "cell_type": "code",
   "outputs": [],
   "source": [
    "data_url = 'https://andybek.com/pandas-nutrition'\n",
    "\n",
    "nutrition = pd.read_csv(data_url)"
   ],
   "metadata": {
    "collapsed": false,
    "ExecuteTime": {
     "end_time": "2024-07-19T06:06:14.667632Z",
     "start_time": "2024-07-19T06:06:13.095152Z"
    }
   },
   "id": "f34acc857f70558b",
   "execution_count": 139
  },
  {
   "cell_type": "code",
   "outputs": [
    {
     "data": {
      "text/plain": "   Unnamed: 0             name serving_size  calories total_fat saturated_fat  \\\n0           0       Cornstarch        100 g       381      0.1g           NaN   \n1           1     Nuts, pecans        100 g       691       72g          6.2g   \n2           2    Eggplant, raw        100 g        25      0.2g           NaN   \n3           3   Teff, uncooked        100 g       367      2.4g          0.4g   \n4           4  Sherbet, orange        100 g       144        2g          1.2g   \n\n  cholesterol    sodium  choline     folate  ...      fat  \\\n0           0   9.00 mg   0.4 mg   0.00 mcg  ...   0.05 g   \n1           0   0.00 mg  40.5 mg  22.00 mcg  ...  71.97 g   \n2           0   2.00 mg   6.9 mg  22.00 mcg  ...   0.18 g   \n3           0  12.00 mg  13.1 mg          0  ...   2.38 g   \n4         1mg  46.00 mg   7.7 mg   4.00 mcg  ...   2.00 g   \n\n  saturated_fatty_acids monounsaturated_fatty_acids  \\\n0               0.009 g                     0.016 g   \n1               6.180 g                    40.801 g   \n2               0.034 g                     0.016 g   \n3               0.449 g                     0.589 g   \n4               1.160 g                     0.530 g   \n\n  polyunsaturated_fatty_acids fatty_acids_total_trans alcohol     ash  \\\n0                     0.025 g                 0.00 mg   0.0 g  0.09 g   \n1                    21.614 g                 0.00 mg   0.0 g  1.49 g   \n2                     0.076 g                 0.00 mg   0.0 g  0.66 g   \n3                     1.071 g                       0       0  2.37 g   \n4                     0.080 g                 1.00 mg   0.0 g  0.40 g   \n\n  caffeine theobromine    water  \n0  0.00 mg     0.00 mg   8.32 g  \n1  0.00 mg     0.00 mg   3.52 g  \n2  0.00 mg     0.00 mg  92.30 g  \n3        0           0   8.82 g  \n4  0.00 mg     0.00 mg  66.10 g  \n\n[5 rows x 77 columns]",
      "text/html": "<div>\n<style scoped>\n    .dataframe tbody tr th:only-of-type {\n        vertical-align: middle;\n    }\n\n    .dataframe tbody tr th {\n        vertical-align: top;\n    }\n\n    .dataframe thead th {\n        text-align: right;\n    }\n</style>\n<table border=\"1\" class=\"dataframe\">\n  <thead>\n    <tr style=\"text-align: right;\">\n      <th></th>\n      <th>Unnamed: 0</th>\n      <th>name</th>\n      <th>serving_size</th>\n      <th>calories</th>\n      <th>total_fat</th>\n      <th>saturated_fat</th>\n      <th>cholesterol</th>\n      <th>sodium</th>\n      <th>choline</th>\n      <th>folate</th>\n      <th>...</th>\n      <th>fat</th>\n      <th>saturated_fatty_acids</th>\n      <th>monounsaturated_fatty_acids</th>\n      <th>polyunsaturated_fatty_acids</th>\n      <th>fatty_acids_total_trans</th>\n      <th>alcohol</th>\n      <th>ash</th>\n      <th>caffeine</th>\n      <th>theobromine</th>\n      <th>water</th>\n    </tr>\n  </thead>\n  <tbody>\n    <tr>\n      <th>0</th>\n      <td>0</td>\n      <td>Cornstarch</td>\n      <td>100 g</td>\n      <td>381</td>\n      <td>0.1g</td>\n      <td>NaN</td>\n      <td>0</td>\n      <td>9.00 mg</td>\n      <td>0.4 mg</td>\n      <td>0.00 mcg</td>\n      <td>...</td>\n      <td>0.05 g</td>\n      <td>0.009 g</td>\n      <td>0.016 g</td>\n      <td>0.025 g</td>\n      <td>0.00 mg</td>\n      <td>0.0 g</td>\n      <td>0.09 g</td>\n      <td>0.00 mg</td>\n      <td>0.00 mg</td>\n      <td>8.32 g</td>\n    </tr>\n    <tr>\n      <th>1</th>\n      <td>1</td>\n      <td>Nuts, pecans</td>\n      <td>100 g</td>\n      <td>691</td>\n      <td>72g</td>\n      <td>6.2g</td>\n      <td>0</td>\n      <td>0.00 mg</td>\n      <td>40.5 mg</td>\n      <td>22.00 mcg</td>\n      <td>...</td>\n      <td>71.97 g</td>\n      <td>6.180 g</td>\n      <td>40.801 g</td>\n      <td>21.614 g</td>\n      <td>0.00 mg</td>\n      <td>0.0 g</td>\n      <td>1.49 g</td>\n      <td>0.00 mg</td>\n      <td>0.00 mg</td>\n      <td>3.52 g</td>\n    </tr>\n    <tr>\n      <th>2</th>\n      <td>2</td>\n      <td>Eggplant, raw</td>\n      <td>100 g</td>\n      <td>25</td>\n      <td>0.2g</td>\n      <td>NaN</td>\n      <td>0</td>\n      <td>2.00 mg</td>\n      <td>6.9 mg</td>\n      <td>22.00 mcg</td>\n      <td>...</td>\n      <td>0.18 g</td>\n      <td>0.034 g</td>\n      <td>0.016 g</td>\n      <td>0.076 g</td>\n      <td>0.00 mg</td>\n      <td>0.0 g</td>\n      <td>0.66 g</td>\n      <td>0.00 mg</td>\n      <td>0.00 mg</td>\n      <td>92.30 g</td>\n    </tr>\n    <tr>\n      <th>3</th>\n      <td>3</td>\n      <td>Teff, uncooked</td>\n      <td>100 g</td>\n      <td>367</td>\n      <td>2.4g</td>\n      <td>0.4g</td>\n      <td>0</td>\n      <td>12.00 mg</td>\n      <td>13.1 mg</td>\n      <td>0</td>\n      <td>...</td>\n      <td>2.38 g</td>\n      <td>0.449 g</td>\n      <td>0.589 g</td>\n      <td>1.071 g</td>\n      <td>0</td>\n      <td>0</td>\n      <td>2.37 g</td>\n      <td>0</td>\n      <td>0</td>\n      <td>8.82 g</td>\n    </tr>\n    <tr>\n      <th>4</th>\n      <td>4</td>\n      <td>Sherbet, orange</td>\n      <td>100 g</td>\n      <td>144</td>\n      <td>2g</td>\n      <td>1.2g</td>\n      <td>1mg</td>\n      <td>46.00 mg</td>\n      <td>7.7 mg</td>\n      <td>4.00 mcg</td>\n      <td>...</td>\n      <td>2.00 g</td>\n      <td>1.160 g</td>\n      <td>0.530 g</td>\n      <td>0.080 g</td>\n      <td>1.00 mg</td>\n      <td>0.0 g</td>\n      <td>0.40 g</td>\n      <td>0.00 mg</td>\n      <td>0.00 mg</td>\n      <td>66.10 g</td>\n    </tr>\n  </tbody>\n</table>\n<p>5 rows × 77 columns</p>\n</div>"
     },
     "execution_count": 140,
     "metadata": {},
     "output_type": "execute_result"
    }
   ],
   "source": [
    "nutrition.head()"
   ],
   "metadata": {
    "collapsed": false,
    "ExecuteTime": {
     "end_time": "2024-07-19T06:06:14.675534Z",
     "start_time": "2024-07-19T06:06:14.673153Z"
    }
   },
   "id": "f53fa111a8ac2ed8",
   "execution_count": 140
  },
  {
   "cell_type": "code",
   "outputs": [
    {
     "name": "stdout",
     "output_type": "stream",
     "text": [
      "<class 'pandas.core.frame.DataFrame'>\n",
      "RangeIndex: 8789 entries, 0 to 8788\n",
      "Columns: 77 entries, Unnamed: 0 to water\n",
      "dtypes: int64(3), object(74)\n",
      "memory usage: 39.2 MB\n"
     ]
    }
   ],
   "source": [
    "nutrition.info(verbose=False, memory_usage='deep')"
   ],
   "metadata": {
    "collapsed": false,
    "ExecuteTime": {
     "end_time": "2024-07-19T06:06:14.737891Z",
     "start_time": "2024-07-19T06:06:14.695940Z"
    }
   },
   "id": "f8725b99621e0eae",
   "execution_count": 141
  },
  {
   "cell_type": "markdown",
   "source": [
    "## Cleanup: Removing The Duplicated Index"
   ],
   "metadata": {
    "collapsed": false
   },
   "id": "b695f693240fc2ac"
  },
  {
   "cell_type": "code",
   "outputs": [
    {
     "data": {
      "text/plain": "   Unnamed: 0             name serving_size  calories total_fat saturated_fat  \\\n0           0       Cornstarch        100 g       381      0.1g           NaN   \n1           1     Nuts, pecans        100 g       691       72g          6.2g   \n2           2    Eggplant, raw        100 g        25      0.2g           NaN   \n3           3   Teff, uncooked        100 g       367      2.4g          0.4g   \n4           4  Sherbet, orange        100 g       144        2g          1.2g   \n\n  cholesterol    sodium  choline     folate  ...      fat  \\\n0           0   9.00 mg   0.4 mg   0.00 mcg  ...   0.05 g   \n1           0   0.00 mg  40.5 mg  22.00 mcg  ...  71.97 g   \n2           0   2.00 mg   6.9 mg  22.00 mcg  ...   0.18 g   \n3           0  12.00 mg  13.1 mg          0  ...   2.38 g   \n4         1mg  46.00 mg   7.7 mg   4.00 mcg  ...   2.00 g   \n\n  saturated_fatty_acids monounsaturated_fatty_acids  \\\n0               0.009 g                     0.016 g   \n1               6.180 g                    40.801 g   \n2               0.034 g                     0.016 g   \n3               0.449 g                     0.589 g   \n4               1.160 g                     0.530 g   \n\n  polyunsaturated_fatty_acids fatty_acids_total_trans alcohol     ash  \\\n0                     0.025 g                 0.00 mg   0.0 g  0.09 g   \n1                    21.614 g                 0.00 mg   0.0 g  1.49 g   \n2                     0.076 g                 0.00 mg   0.0 g  0.66 g   \n3                     1.071 g                       0       0  2.37 g   \n4                     0.080 g                 1.00 mg   0.0 g  0.40 g   \n\n  caffeine theobromine    water  \n0  0.00 mg     0.00 mg   8.32 g  \n1  0.00 mg     0.00 mg   3.52 g  \n2  0.00 mg     0.00 mg  92.30 g  \n3        0           0   8.82 g  \n4  0.00 mg     0.00 mg  66.10 g  \n\n[5 rows x 77 columns]",
      "text/html": "<div>\n<style scoped>\n    .dataframe tbody tr th:only-of-type {\n        vertical-align: middle;\n    }\n\n    .dataframe tbody tr th {\n        vertical-align: top;\n    }\n\n    .dataframe thead th {\n        text-align: right;\n    }\n</style>\n<table border=\"1\" class=\"dataframe\">\n  <thead>\n    <tr style=\"text-align: right;\">\n      <th></th>\n      <th>Unnamed: 0</th>\n      <th>name</th>\n      <th>serving_size</th>\n      <th>calories</th>\n      <th>total_fat</th>\n      <th>saturated_fat</th>\n      <th>cholesterol</th>\n      <th>sodium</th>\n      <th>choline</th>\n      <th>folate</th>\n      <th>...</th>\n      <th>fat</th>\n      <th>saturated_fatty_acids</th>\n      <th>monounsaturated_fatty_acids</th>\n      <th>polyunsaturated_fatty_acids</th>\n      <th>fatty_acids_total_trans</th>\n      <th>alcohol</th>\n      <th>ash</th>\n      <th>caffeine</th>\n      <th>theobromine</th>\n      <th>water</th>\n    </tr>\n  </thead>\n  <tbody>\n    <tr>\n      <th>0</th>\n      <td>0</td>\n      <td>Cornstarch</td>\n      <td>100 g</td>\n      <td>381</td>\n      <td>0.1g</td>\n      <td>NaN</td>\n      <td>0</td>\n      <td>9.00 mg</td>\n      <td>0.4 mg</td>\n      <td>0.00 mcg</td>\n      <td>...</td>\n      <td>0.05 g</td>\n      <td>0.009 g</td>\n      <td>0.016 g</td>\n      <td>0.025 g</td>\n      <td>0.00 mg</td>\n      <td>0.0 g</td>\n      <td>0.09 g</td>\n      <td>0.00 mg</td>\n      <td>0.00 mg</td>\n      <td>8.32 g</td>\n    </tr>\n    <tr>\n      <th>1</th>\n      <td>1</td>\n      <td>Nuts, pecans</td>\n      <td>100 g</td>\n      <td>691</td>\n      <td>72g</td>\n      <td>6.2g</td>\n      <td>0</td>\n      <td>0.00 mg</td>\n      <td>40.5 mg</td>\n      <td>22.00 mcg</td>\n      <td>...</td>\n      <td>71.97 g</td>\n      <td>6.180 g</td>\n      <td>40.801 g</td>\n      <td>21.614 g</td>\n      <td>0.00 mg</td>\n      <td>0.0 g</td>\n      <td>1.49 g</td>\n      <td>0.00 mg</td>\n      <td>0.00 mg</td>\n      <td>3.52 g</td>\n    </tr>\n    <tr>\n      <th>2</th>\n      <td>2</td>\n      <td>Eggplant, raw</td>\n      <td>100 g</td>\n      <td>25</td>\n      <td>0.2g</td>\n      <td>NaN</td>\n      <td>0</td>\n      <td>2.00 mg</td>\n      <td>6.9 mg</td>\n      <td>22.00 mcg</td>\n      <td>...</td>\n      <td>0.18 g</td>\n      <td>0.034 g</td>\n      <td>0.016 g</td>\n      <td>0.076 g</td>\n      <td>0.00 mg</td>\n      <td>0.0 g</td>\n      <td>0.66 g</td>\n      <td>0.00 mg</td>\n      <td>0.00 mg</td>\n      <td>92.30 g</td>\n    </tr>\n    <tr>\n      <th>3</th>\n      <td>3</td>\n      <td>Teff, uncooked</td>\n      <td>100 g</td>\n      <td>367</td>\n      <td>2.4g</td>\n      <td>0.4g</td>\n      <td>0</td>\n      <td>12.00 mg</td>\n      <td>13.1 mg</td>\n      <td>0</td>\n      <td>...</td>\n      <td>2.38 g</td>\n      <td>0.449 g</td>\n      <td>0.589 g</td>\n      <td>1.071 g</td>\n      <td>0</td>\n      <td>0</td>\n      <td>2.37 g</td>\n      <td>0</td>\n      <td>0</td>\n      <td>8.82 g</td>\n    </tr>\n    <tr>\n      <th>4</th>\n      <td>4</td>\n      <td>Sherbet, orange</td>\n      <td>100 g</td>\n      <td>144</td>\n      <td>2g</td>\n      <td>1.2g</td>\n      <td>1mg</td>\n      <td>46.00 mg</td>\n      <td>7.7 mg</td>\n      <td>4.00 mcg</td>\n      <td>...</td>\n      <td>2.00 g</td>\n      <td>1.160 g</td>\n      <td>0.530 g</td>\n      <td>0.080 g</td>\n      <td>1.00 mg</td>\n      <td>0.0 g</td>\n      <td>0.40 g</td>\n      <td>0.00 mg</td>\n      <td>0.00 mg</td>\n      <td>66.10 g</td>\n    </tr>\n  </tbody>\n</table>\n<p>5 rows × 77 columns</p>\n</div>"
     },
     "execution_count": 142,
     "metadata": {},
     "output_type": "execute_result"
    }
   ],
   "source": [
    "nutrition.head()"
   ],
   "metadata": {
    "collapsed": false,
    "ExecuteTime": {
     "end_time": "2024-07-19T06:06:14.753639Z",
     "start_time": "2024-07-19T06:06:14.743851Z"
    }
   },
   "id": "2b81e4ef962a8761",
   "execution_count": 142
  },
  {
   "cell_type": "code",
   "outputs": [
    {
     "data": {
      "text/plain": "0          0\n1          1\n2          2\n3          3\n4          4\n        ... \n8784    8784\n8785    8785\n8786    8786\n8787    8787\n8788    8788\nName: Unnamed: 0, Length: 8789, dtype: int64"
     },
     "execution_count": 143,
     "metadata": {},
     "output_type": "execute_result"
    }
   ],
   "source": [
    "nutrition['Unnamed: 0']"
   ],
   "metadata": {
    "collapsed": false,
    "ExecuteTime": {
     "end_time": "2024-07-19T06:06:14.754678Z",
     "start_time": "2024-07-19T06:06:14.748613Z"
    }
   },
   "id": "7f1d9a3ba28136df",
   "execution_count": 143
  },
  {
   "cell_type": "code",
   "outputs": [
    {
     "data": {
      "text/plain": "                                                   name serving_size  \\\n0                                            Cornstarch        100 g   \n1                                          Nuts, pecans        100 g   \n2                                         Eggplant, raw        100 g   \n3                                        Teff, uncooked        100 g   \n4                                       Sherbet, orange        100 g   \n...                                                 ...          ...   \n8784  Beef, raw, all grades, trimmed to 0\" fat, sepa...        100 g   \n8785  Lamb, cooked, separable lean only, composite o...        100 g   \n8786  Lamb, raw, separable lean and fat, composite o...        100 g   \n8787  Beef, raw, all grades, trimmed to 0\" fat, sepa...        100 g   \n8788  Beef, raw, all grades, trimmed to 0\" fat, sepa...        100 g   \n\n      calories total_fat saturated_fat cholesterol    sodium  choline  \\\n0          381      0.1g           NaN           0   9.00 mg   0.4 mg   \n1          691       72g          6.2g           0   0.00 mg  40.5 mg   \n2           25      0.2g           NaN           0   2.00 mg   6.9 mg   \n3          367      2.4g          0.4g           0  12.00 mg  13.1 mg   \n4          144        2g          1.2g         1mg  46.00 mg   7.7 mg   \n...        ...       ...           ...         ...       ...      ...   \n8784       125      3.5g          1.4g        62mg  54.00 mg  64.5 mg   \n8785       206      8.9g          3.9g       109mg  50.00 mg        0   \n8786       277       23g           12g        78mg  39.00 mg        0   \n8787       121        3g          1.1g        60mg  53.00 mg  64.2 mg   \n8788       121        3g          1.1g        60mg  53.00 mg  64.2 mg   \n\n         folate folic_acid  ...      fat saturated_fatty_acids  \\\n0      0.00 mcg   0.00 mcg  ...   0.05 g               0.009 g   \n1     22.00 mcg   0.00 mcg  ...  71.97 g               6.180 g   \n2     22.00 mcg   0.00 mcg  ...   0.18 g               0.034 g   \n3             0          0  ...   2.38 g               0.449 g   \n4      4.00 mcg   0.00 mcg  ...   2.00 g               1.160 g   \n...         ...        ...  ...      ...                   ...   \n8784   4.00 mcg   0.00 mcg  ...   3.50 g               1.353 g   \n8785   0.00 mcg   0.00 mcg  ...   8.86 g               3.860 g   \n8786   1.00 mcg   0.00 mcg  ...  22.74 g              11.570 g   \n8787   4.00 mcg   0.00 mcg  ...   3.04 g               1.086 g   \n8788   4.00 mcg   0.00 mcg  ...   3.04 g               1.086 g   \n\n     monounsaturated_fatty_acids polyunsaturated_fatty_acids  \\\n0                        0.016 g                     0.025 g   \n1                       40.801 g                    21.614 g   \n2                        0.016 g                     0.076 g   \n3                        0.589 g                     1.071 g   \n4                        0.530 g                     0.080 g   \n...                          ...                         ...   \n8784                     1.554 g                     0.244 g   \n8785                     3.480 g                     0.520 g   \n8786                     8.720 g                     0.980 g   \n8787                     1.266 g                     0.233 g   \n8788                     1.266 g                     0.233 g   \n\n     fatty_acids_total_trans alcohol     ash caffeine theobromine    water  \n0                    0.00 mg   0.0 g  0.09 g  0.00 mg     0.00 mg   8.32 g  \n1                    0.00 mg   0.0 g  1.49 g  0.00 mg     0.00 mg   3.52 g  \n2                    0.00 mg   0.0 g  0.66 g  0.00 mg     0.00 mg  92.30 g  \n3                          0       0  2.37 g        0           0   8.82 g  \n4                    1.00 mg   0.0 g  0.40 g  0.00 mg     0.00 mg  66.10 g  \n...                      ...     ...     ...      ...         ...      ...  \n8784                62.00 mg   0.0 g  1.11 g  0.00 mg     0.00 mg  72.51 g  \n8785               109.00 mg       0  1.60 g        0           0  59.95 g  \n8786                78.00 mg       0  0.92 g        0           0  59.80 g  \n8787                60.00 mg   0.0 g  1.10 g  0.00 mg     0.00 mg  73.43 g  \n8788                60.00 mg   0.0 g  1.10 g  0.00 mg     0.00 mg  73.43 g  \n\n[8789 rows x 76 columns]",
      "text/html": "<div>\n<style scoped>\n    .dataframe tbody tr th:only-of-type {\n        vertical-align: middle;\n    }\n\n    .dataframe tbody tr th {\n        vertical-align: top;\n    }\n\n    .dataframe thead th {\n        text-align: right;\n    }\n</style>\n<table border=\"1\" class=\"dataframe\">\n  <thead>\n    <tr style=\"text-align: right;\">\n      <th></th>\n      <th>name</th>\n      <th>serving_size</th>\n      <th>calories</th>\n      <th>total_fat</th>\n      <th>saturated_fat</th>\n      <th>cholesterol</th>\n      <th>sodium</th>\n      <th>choline</th>\n      <th>folate</th>\n      <th>folic_acid</th>\n      <th>...</th>\n      <th>fat</th>\n      <th>saturated_fatty_acids</th>\n      <th>monounsaturated_fatty_acids</th>\n      <th>polyunsaturated_fatty_acids</th>\n      <th>fatty_acids_total_trans</th>\n      <th>alcohol</th>\n      <th>ash</th>\n      <th>caffeine</th>\n      <th>theobromine</th>\n      <th>water</th>\n    </tr>\n  </thead>\n  <tbody>\n    <tr>\n      <th>0</th>\n      <td>Cornstarch</td>\n      <td>100 g</td>\n      <td>381</td>\n      <td>0.1g</td>\n      <td>NaN</td>\n      <td>0</td>\n      <td>9.00 mg</td>\n      <td>0.4 mg</td>\n      <td>0.00 mcg</td>\n      <td>0.00 mcg</td>\n      <td>...</td>\n      <td>0.05 g</td>\n      <td>0.009 g</td>\n      <td>0.016 g</td>\n      <td>0.025 g</td>\n      <td>0.00 mg</td>\n      <td>0.0 g</td>\n      <td>0.09 g</td>\n      <td>0.00 mg</td>\n      <td>0.00 mg</td>\n      <td>8.32 g</td>\n    </tr>\n    <tr>\n      <th>1</th>\n      <td>Nuts, pecans</td>\n      <td>100 g</td>\n      <td>691</td>\n      <td>72g</td>\n      <td>6.2g</td>\n      <td>0</td>\n      <td>0.00 mg</td>\n      <td>40.5 mg</td>\n      <td>22.00 mcg</td>\n      <td>0.00 mcg</td>\n      <td>...</td>\n      <td>71.97 g</td>\n      <td>6.180 g</td>\n      <td>40.801 g</td>\n      <td>21.614 g</td>\n      <td>0.00 mg</td>\n      <td>0.0 g</td>\n      <td>1.49 g</td>\n      <td>0.00 mg</td>\n      <td>0.00 mg</td>\n      <td>3.52 g</td>\n    </tr>\n    <tr>\n      <th>2</th>\n      <td>Eggplant, raw</td>\n      <td>100 g</td>\n      <td>25</td>\n      <td>0.2g</td>\n      <td>NaN</td>\n      <td>0</td>\n      <td>2.00 mg</td>\n      <td>6.9 mg</td>\n      <td>22.00 mcg</td>\n      <td>0.00 mcg</td>\n      <td>...</td>\n      <td>0.18 g</td>\n      <td>0.034 g</td>\n      <td>0.016 g</td>\n      <td>0.076 g</td>\n      <td>0.00 mg</td>\n      <td>0.0 g</td>\n      <td>0.66 g</td>\n      <td>0.00 mg</td>\n      <td>0.00 mg</td>\n      <td>92.30 g</td>\n    </tr>\n    <tr>\n      <th>3</th>\n      <td>Teff, uncooked</td>\n      <td>100 g</td>\n      <td>367</td>\n      <td>2.4g</td>\n      <td>0.4g</td>\n      <td>0</td>\n      <td>12.00 mg</td>\n      <td>13.1 mg</td>\n      <td>0</td>\n      <td>0</td>\n      <td>...</td>\n      <td>2.38 g</td>\n      <td>0.449 g</td>\n      <td>0.589 g</td>\n      <td>1.071 g</td>\n      <td>0</td>\n      <td>0</td>\n      <td>2.37 g</td>\n      <td>0</td>\n      <td>0</td>\n      <td>8.82 g</td>\n    </tr>\n    <tr>\n      <th>4</th>\n      <td>Sherbet, orange</td>\n      <td>100 g</td>\n      <td>144</td>\n      <td>2g</td>\n      <td>1.2g</td>\n      <td>1mg</td>\n      <td>46.00 mg</td>\n      <td>7.7 mg</td>\n      <td>4.00 mcg</td>\n      <td>0.00 mcg</td>\n      <td>...</td>\n      <td>2.00 g</td>\n      <td>1.160 g</td>\n      <td>0.530 g</td>\n      <td>0.080 g</td>\n      <td>1.00 mg</td>\n      <td>0.0 g</td>\n      <td>0.40 g</td>\n      <td>0.00 mg</td>\n      <td>0.00 mg</td>\n      <td>66.10 g</td>\n    </tr>\n    <tr>\n      <th>...</th>\n      <td>...</td>\n      <td>...</td>\n      <td>...</td>\n      <td>...</td>\n      <td>...</td>\n      <td>...</td>\n      <td>...</td>\n      <td>...</td>\n      <td>...</td>\n      <td>...</td>\n      <td>...</td>\n      <td>...</td>\n      <td>...</td>\n      <td>...</td>\n      <td>...</td>\n      <td>...</td>\n      <td>...</td>\n      <td>...</td>\n      <td>...</td>\n      <td>...</td>\n      <td>...</td>\n    </tr>\n    <tr>\n      <th>8784</th>\n      <td>Beef, raw, all grades, trimmed to 0\" fat, sepa...</td>\n      <td>100 g</td>\n      <td>125</td>\n      <td>3.5g</td>\n      <td>1.4g</td>\n      <td>62mg</td>\n      <td>54.00 mg</td>\n      <td>64.5 mg</td>\n      <td>4.00 mcg</td>\n      <td>0.00 mcg</td>\n      <td>...</td>\n      <td>3.50 g</td>\n      <td>1.353 g</td>\n      <td>1.554 g</td>\n      <td>0.244 g</td>\n      <td>62.00 mg</td>\n      <td>0.0 g</td>\n      <td>1.11 g</td>\n      <td>0.00 mg</td>\n      <td>0.00 mg</td>\n      <td>72.51 g</td>\n    </tr>\n    <tr>\n      <th>8785</th>\n      <td>Lamb, cooked, separable lean only, composite o...</td>\n      <td>100 g</td>\n      <td>206</td>\n      <td>8.9g</td>\n      <td>3.9g</td>\n      <td>109mg</td>\n      <td>50.00 mg</td>\n      <td>0</td>\n      <td>0.00 mcg</td>\n      <td>0.00 mcg</td>\n      <td>...</td>\n      <td>8.86 g</td>\n      <td>3.860 g</td>\n      <td>3.480 g</td>\n      <td>0.520 g</td>\n      <td>109.00 mg</td>\n      <td>0</td>\n      <td>1.60 g</td>\n      <td>0</td>\n      <td>0</td>\n      <td>59.95 g</td>\n    </tr>\n    <tr>\n      <th>8786</th>\n      <td>Lamb, raw, separable lean and fat, composite o...</td>\n      <td>100 g</td>\n      <td>277</td>\n      <td>23g</td>\n      <td>12g</td>\n      <td>78mg</td>\n      <td>39.00 mg</td>\n      <td>0</td>\n      <td>1.00 mcg</td>\n      <td>0.00 mcg</td>\n      <td>...</td>\n      <td>22.74 g</td>\n      <td>11.570 g</td>\n      <td>8.720 g</td>\n      <td>0.980 g</td>\n      <td>78.00 mg</td>\n      <td>0</td>\n      <td>0.92 g</td>\n      <td>0</td>\n      <td>0</td>\n      <td>59.80 g</td>\n    </tr>\n    <tr>\n      <th>8787</th>\n      <td>Beef, raw, all grades, trimmed to 0\" fat, sepa...</td>\n      <td>100 g</td>\n      <td>121</td>\n      <td>3g</td>\n      <td>1.1g</td>\n      <td>60mg</td>\n      <td>53.00 mg</td>\n      <td>64.2 mg</td>\n      <td>4.00 mcg</td>\n      <td>0.00 mcg</td>\n      <td>...</td>\n      <td>3.04 g</td>\n      <td>1.086 g</td>\n      <td>1.266 g</td>\n      <td>0.233 g</td>\n      <td>60.00 mg</td>\n      <td>0.0 g</td>\n      <td>1.10 g</td>\n      <td>0.00 mg</td>\n      <td>0.00 mg</td>\n      <td>73.43 g</td>\n    </tr>\n    <tr>\n      <th>8788</th>\n      <td>Beef, raw, all grades, trimmed to 0\" fat, sepa...</td>\n      <td>100 g</td>\n      <td>121</td>\n      <td>3g</td>\n      <td>1.1g</td>\n      <td>60mg</td>\n      <td>53.00 mg</td>\n      <td>64.2 mg</td>\n      <td>4.00 mcg</td>\n      <td>0.00 mcg</td>\n      <td>...</td>\n      <td>3.04 g</td>\n      <td>1.086 g</td>\n      <td>1.266 g</td>\n      <td>0.233 g</td>\n      <td>60.00 mg</td>\n      <td>0.0 g</td>\n      <td>1.10 g</td>\n      <td>0.00 mg</td>\n      <td>0.00 mg</td>\n      <td>73.43 g</td>\n    </tr>\n  </tbody>\n</table>\n<p>8789 rows × 76 columns</p>\n</div>"
     },
     "execution_count": 144,
     "metadata": {},
     "output_type": "execute_result"
    }
   ],
   "source": [
    "nutrition.drop('Unnamed: 0', axis=1)"
   ],
   "metadata": {
    "collapsed": false,
    "ExecuteTime": {
     "end_time": "2024-07-19T06:06:14.789991Z",
     "start_time": "2024-07-19T06:06:14.752228Z"
    }
   },
   "id": "5fef69b381f71475",
   "execution_count": 144
  },
  {
   "cell_type": "code",
   "outputs": [
    {
     "data": {
      "text/plain": "                                                         name serving_size  \\\nUnnamed: 0                                                                   \n0                                                  Cornstarch        100 g   \n1                                                Nuts, pecans        100 g   \n2                                               Eggplant, raw        100 g   \n3                                              Teff, uncooked        100 g   \n4                                             Sherbet, orange        100 g   \n...                                                       ...          ...   \n8784        Beef, raw, all grades, trimmed to 0\" fat, sepa...        100 g   \n8785        Lamb, cooked, separable lean only, composite o...        100 g   \n8786        Lamb, raw, separable lean and fat, composite o...        100 g   \n8787        Beef, raw, all grades, trimmed to 0\" fat, sepa...        100 g   \n8788        Beef, raw, all grades, trimmed to 0\" fat, sepa...        100 g   \n\n            calories total_fat saturated_fat cholesterol    sodium  choline  \\\nUnnamed: 0                                                                    \n0                381      0.1g           NaN           0   9.00 mg   0.4 mg   \n1                691       72g          6.2g           0   0.00 mg  40.5 mg   \n2                 25      0.2g           NaN           0   2.00 mg   6.9 mg   \n3                367      2.4g          0.4g           0  12.00 mg  13.1 mg   \n4                144        2g          1.2g         1mg  46.00 mg   7.7 mg   \n...              ...       ...           ...         ...       ...      ...   \n8784             125      3.5g          1.4g        62mg  54.00 mg  64.5 mg   \n8785             206      8.9g          3.9g       109mg  50.00 mg        0   \n8786             277       23g           12g        78mg  39.00 mg        0   \n8787             121        3g          1.1g        60mg  53.00 mg  64.2 mg   \n8788             121        3g          1.1g        60mg  53.00 mg  64.2 mg   \n\n               folate folic_acid  ...      fat saturated_fatty_acids  \\\nUnnamed: 0                        ...                                  \n0            0.00 mcg   0.00 mcg  ...   0.05 g               0.009 g   \n1           22.00 mcg   0.00 mcg  ...  71.97 g               6.180 g   \n2           22.00 mcg   0.00 mcg  ...   0.18 g               0.034 g   \n3                   0          0  ...   2.38 g               0.449 g   \n4            4.00 mcg   0.00 mcg  ...   2.00 g               1.160 g   \n...               ...        ...  ...      ...                   ...   \n8784         4.00 mcg   0.00 mcg  ...   3.50 g               1.353 g   \n8785         0.00 mcg   0.00 mcg  ...   8.86 g               3.860 g   \n8786         1.00 mcg   0.00 mcg  ...  22.74 g              11.570 g   \n8787         4.00 mcg   0.00 mcg  ...   3.04 g               1.086 g   \n8788         4.00 mcg   0.00 mcg  ...   3.04 g               1.086 g   \n\n           monounsaturated_fatty_acids polyunsaturated_fatty_acids  \\\nUnnamed: 0                                                           \n0                              0.016 g                     0.025 g   \n1                             40.801 g                    21.614 g   \n2                              0.016 g                     0.076 g   \n3                              0.589 g                     1.071 g   \n4                              0.530 g                     0.080 g   \n...                                ...                         ...   \n8784                           1.554 g                     0.244 g   \n8785                           3.480 g                     0.520 g   \n8786                           8.720 g                     0.980 g   \n8787                           1.266 g                     0.233 g   \n8788                           1.266 g                     0.233 g   \n\n           fatty_acids_total_trans alcohol     ash caffeine theobromine  \\\nUnnamed: 0                                                                \n0                          0.00 mg   0.0 g  0.09 g  0.00 mg     0.00 mg   \n1                          0.00 mg   0.0 g  1.49 g  0.00 mg     0.00 mg   \n2                          0.00 mg   0.0 g  0.66 g  0.00 mg     0.00 mg   \n3                                0       0  2.37 g        0           0   \n4                          1.00 mg   0.0 g  0.40 g  0.00 mg     0.00 mg   \n...                            ...     ...     ...      ...         ...   \n8784                      62.00 mg   0.0 g  1.11 g  0.00 mg     0.00 mg   \n8785                     109.00 mg       0  1.60 g        0           0   \n8786                      78.00 mg       0  0.92 g        0           0   \n8787                      60.00 mg   0.0 g  1.10 g  0.00 mg     0.00 mg   \n8788                      60.00 mg   0.0 g  1.10 g  0.00 mg     0.00 mg   \n\n              water  \nUnnamed: 0           \n0            8.32 g  \n1            3.52 g  \n2           92.30 g  \n3            8.82 g  \n4           66.10 g  \n...             ...  \n8784        72.51 g  \n8785        59.95 g  \n8786        59.80 g  \n8787        73.43 g  \n8788        73.43 g  \n\n[8789 rows x 76 columns]",
      "text/html": "<div>\n<style scoped>\n    .dataframe tbody tr th:only-of-type {\n        vertical-align: middle;\n    }\n\n    .dataframe tbody tr th {\n        vertical-align: top;\n    }\n\n    .dataframe thead th {\n        text-align: right;\n    }\n</style>\n<table border=\"1\" class=\"dataframe\">\n  <thead>\n    <tr style=\"text-align: right;\">\n      <th></th>\n      <th>name</th>\n      <th>serving_size</th>\n      <th>calories</th>\n      <th>total_fat</th>\n      <th>saturated_fat</th>\n      <th>cholesterol</th>\n      <th>sodium</th>\n      <th>choline</th>\n      <th>folate</th>\n      <th>folic_acid</th>\n      <th>...</th>\n      <th>fat</th>\n      <th>saturated_fatty_acids</th>\n      <th>monounsaturated_fatty_acids</th>\n      <th>polyunsaturated_fatty_acids</th>\n      <th>fatty_acids_total_trans</th>\n      <th>alcohol</th>\n      <th>ash</th>\n      <th>caffeine</th>\n      <th>theobromine</th>\n      <th>water</th>\n    </tr>\n    <tr>\n      <th>Unnamed: 0</th>\n      <th></th>\n      <th></th>\n      <th></th>\n      <th></th>\n      <th></th>\n      <th></th>\n      <th></th>\n      <th></th>\n      <th></th>\n      <th></th>\n      <th></th>\n      <th></th>\n      <th></th>\n      <th></th>\n      <th></th>\n      <th></th>\n      <th></th>\n      <th></th>\n      <th></th>\n      <th></th>\n      <th></th>\n    </tr>\n  </thead>\n  <tbody>\n    <tr>\n      <th>0</th>\n      <td>Cornstarch</td>\n      <td>100 g</td>\n      <td>381</td>\n      <td>0.1g</td>\n      <td>NaN</td>\n      <td>0</td>\n      <td>9.00 mg</td>\n      <td>0.4 mg</td>\n      <td>0.00 mcg</td>\n      <td>0.00 mcg</td>\n      <td>...</td>\n      <td>0.05 g</td>\n      <td>0.009 g</td>\n      <td>0.016 g</td>\n      <td>0.025 g</td>\n      <td>0.00 mg</td>\n      <td>0.0 g</td>\n      <td>0.09 g</td>\n      <td>0.00 mg</td>\n      <td>0.00 mg</td>\n      <td>8.32 g</td>\n    </tr>\n    <tr>\n      <th>1</th>\n      <td>Nuts, pecans</td>\n      <td>100 g</td>\n      <td>691</td>\n      <td>72g</td>\n      <td>6.2g</td>\n      <td>0</td>\n      <td>0.00 mg</td>\n      <td>40.5 mg</td>\n      <td>22.00 mcg</td>\n      <td>0.00 mcg</td>\n      <td>...</td>\n      <td>71.97 g</td>\n      <td>6.180 g</td>\n      <td>40.801 g</td>\n      <td>21.614 g</td>\n      <td>0.00 mg</td>\n      <td>0.0 g</td>\n      <td>1.49 g</td>\n      <td>0.00 mg</td>\n      <td>0.00 mg</td>\n      <td>3.52 g</td>\n    </tr>\n    <tr>\n      <th>2</th>\n      <td>Eggplant, raw</td>\n      <td>100 g</td>\n      <td>25</td>\n      <td>0.2g</td>\n      <td>NaN</td>\n      <td>0</td>\n      <td>2.00 mg</td>\n      <td>6.9 mg</td>\n      <td>22.00 mcg</td>\n      <td>0.00 mcg</td>\n      <td>...</td>\n      <td>0.18 g</td>\n      <td>0.034 g</td>\n      <td>0.016 g</td>\n      <td>0.076 g</td>\n      <td>0.00 mg</td>\n      <td>0.0 g</td>\n      <td>0.66 g</td>\n      <td>0.00 mg</td>\n      <td>0.00 mg</td>\n      <td>92.30 g</td>\n    </tr>\n    <tr>\n      <th>3</th>\n      <td>Teff, uncooked</td>\n      <td>100 g</td>\n      <td>367</td>\n      <td>2.4g</td>\n      <td>0.4g</td>\n      <td>0</td>\n      <td>12.00 mg</td>\n      <td>13.1 mg</td>\n      <td>0</td>\n      <td>0</td>\n      <td>...</td>\n      <td>2.38 g</td>\n      <td>0.449 g</td>\n      <td>0.589 g</td>\n      <td>1.071 g</td>\n      <td>0</td>\n      <td>0</td>\n      <td>2.37 g</td>\n      <td>0</td>\n      <td>0</td>\n      <td>8.82 g</td>\n    </tr>\n    <tr>\n      <th>4</th>\n      <td>Sherbet, orange</td>\n      <td>100 g</td>\n      <td>144</td>\n      <td>2g</td>\n      <td>1.2g</td>\n      <td>1mg</td>\n      <td>46.00 mg</td>\n      <td>7.7 mg</td>\n      <td>4.00 mcg</td>\n      <td>0.00 mcg</td>\n      <td>...</td>\n      <td>2.00 g</td>\n      <td>1.160 g</td>\n      <td>0.530 g</td>\n      <td>0.080 g</td>\n      <td>1.00 mg</td>\n      <td>0.0 g</td>\n      <td>0.40 g</td>\n      <td>0.00 mg</td>\n      <td>0.00 mg</td>\n      <td>66.10 g</td>\n    </tr>\n    <tr>\n      <th>...</th>\n      <td>...</td>\n      <td>...</td>\n      <td>...</td>\n      <td>...</td>\n      <td>...</td>\n      <td>...</td>\n      <td>...</td>\n      <td>...</td>\n      <td>...</td>\n      <td>...</td>\n      <td>...</td>\n      <td>...</td>\n      <td>...</td>\n      <td>...</td>\n      <td>...</td>\n      <td>...</td>\n      <td>...</td>\n      <td>...</td>\n      <td>...</td>\n      <td>...</td>\n      <td>...</td>\n    </tr>\n    <tr>\n      <th>8784</th>\n      <td>Beef, raw, all grades, trimmed to 0\" fat, sepa...</td>\n      <td>100 g</td>\n      <td>125</td>\n      <td>3.5g</td>\n      <td>1.4g</td>\n      <td>62mg</td>\n      <td>54.00 mg</td>\n      <td>64.5 mg</td>\n      <td>4.00 mcg</td>\n      <td>0.00 mcg</td>\n      <td>...</td>\n      <td>3.50 g</td>\n      <td>1.353 g</td>\n      <td>1.554 g</td>\n      <td>0.244 g</td>\n      <td>62.00 mg</td>\n      <td>0.0 g</td>\n      <td>1.11 g</td>\n      <td>0.00 mg</td>\n      <td>0.00 mg</td>\n      <td>72.51 g</td>\n    </tr>\n    <tr>\n      <th>8785</th>\n      <td>Lamb, cooked, separable lean only, composite o...</td>\n      <td>100 g</td>\n      <td>206</td>\n      <td>8.9g</td>\n      <td>3.9g</td>\n      <td>109mg</td>\n      <td>50.00 mg</td>\n      <td>0</td>\n      <td>0.00 mcg</td>\n      <td>0.00 mcg</td>\n      <td>...</td>\n      <td>8.86 g</td>\n      <td>3.860 g</td>\n      <td>3.480 g</td>\n      <td>0.520 g</td>\n      <td>109.00 mg</td>\n      <td>0</td>\n      <td>1.60 g</td>\n      <td>0</td>\n      <td>0</td>\n      <td>59.95 g</td>\n    </tr>\n    <tr>\n      <th>8786</th>\n      <td>Lamb, raw, separable lean and fat, composite o...</td>\n      <td>100 g</td>\n      <td>277</td>\n      <td>23g</td>\n      <td>12g</td>\n      <td>78mg</td>\n      <td>39.00 mg</td>\n      <td>0</td>\n      <td>1.00 mcg</td>\n      <td>0.00 mcg</td>\n      <td>...</td>\n      <td>22.74 g</td>\n      <td>11.570 g</td>\n      <td>8.720 g</td>\n      <td>0.980 g</td>\n      <td>78.00 mg</td>\n      <td>0</td>\n      <td>0.92 g</td>\n      <td>0</td>\n      <td>0</td>\n      <td>59.80 g</td>\n    </tr>\n    <tr>\n      <th>8787</th>\n      <td>Beef, raw, all grades, trimmed to 0\" fat, sepa...</td>\n      <td>100 g</td>\n      <td>121</td>\n      <td>3g</td>\n      <td>1.1g</td>\n      <td>60mg</td>\n      <td>53.00 mg</td>\n      <td>64.2 mg</td>\n      <td>4.00 mcg</td>\n      <td>0.00 mcg</td>\n      <td>...</td>\n      <td>3.04 g</td>\n      <td>1.086 g</td>\n      <td>1.266 g</td>\n      <td>0.233 g</td>\n      <td>60.00 mg</td>\n      <td>0.0 g</td>\n      <td>1.10 g</td>\n      <td>0.00 mg</td>\n      <td>0.00 mg</td>\n      <td>73.43 g</td>\n    </tr>\n    <tr>\n      <th>8788</th>\n      <td>Beef, raw, all grades, trimmed to 0\" fat, sepa...</td>\n      <td>100 g</td>\n      <td>121</td>\n      <td>3g</td>\n      <td>1.1g</td>\n      <td>60mg</td>\n      <td>53.00 mg</td>\n      <td>64.2 mg</td>\n      <td>4.00 mcg</td>\n      <td>0.00 mcg</td>\n      <td>...</td>\n      <td>3.04 g</td>\n      <td>1.086 g</td>\n      <td>1.266 g</td>\n      <td>0.233 g</td>\n      <td>60.00 mg</td>\n      <td>0.0 g</td>\n      <td>1.10 g</td>\n      <td>0.00 mg</td>\n      <td>0.00 mg</td>\n      <td>73.43 g</td>\n    </tr>\n  </tbody>\n</table>\n<p>8789 rows × 76 columns</p>\n</div>"
     },
     "execution_count": 145,
     "metadata": {},
     "output_type": "execute_result"
    }
   ],
   "source": [
    "nutrition.set_index('Unnamed: 0')"
   ],
   "metadata": {
    "collapsed": false,
    "ExecuteTime": {
     "end_time": "2024-07-19T06:06:14.803405Z",
     "start_time": "2024-07-19T06:06:14.770944Z"
    }
   },
   "id": "f43b3099451aaec8",
   "execution_count": 145
  },
  {
   "cell_type": "code",
   "outputs": [
    {
     "data": {
      "text/plain": "   Unnamed: 0             name serving_size  calories total_fat saturated_fat  \\\n0           0       Cornstarch        100 g       381      0.1g           NaN   \n1           1     Nuts, pecans        100 g       691       72g          6.2g   \n2           2    Eggplant, raw        100 g        25      0.2g           NaN   \n3           3   Teff, uncooked        100 g       367      2.4g          0.4g   \n4           4  Sherbet, orange        100 g       144        2g          1.2g   \n\n  cholesterol    sodium  choline     folate  ...      fat  \\\n0           0   9.00 mg   0.4 mg   0.00 mcg  ...   0.05 g   \n1           0   0.00 mg  40.5 mg  22.00 mcg  ...  71.97 g   \n2           0   2.00 mg   6.9 mg  22.00 mcg  ...   0.18 g   \n3           0  12.00 mg  13.1 mg          0  ...   2.38 g   \n4         1mg  46.00 mg   7.7 mg   4.00 mcg  ...   2.00 g   \n\n  saturated_fatty_acids monounsaturated_fatty_acids  \\\n0               0.009 g                     0.016 g   \n1               6.180 g                    40.801 g   \n2               0.034 g                     0.016 g   \n3               0.449 g                     0.589 g   \n4               1.160 g                     0.530 g   \n\n  polyunsaturated_fatty_acids fatty_acids_total_trans alcohol     ash  \\\n0                     0.025 g                 0.00 mg   0.0 g  0.09 g   \n1                    21.614 g                 0.00 mg   0.0 g  1.49 g   \n2                     0.076 g                 0.00 mg   0.0 g  0.66 g   \n3                     1.071 g                       0       0  2.37 g   \n4                     0.080 g                 1.00 mg   0.0 g  0.40 g   \n\n  caffeine theobromine    water  \n0  0.00 mg     0.00 mg   8.32 g  \n1  0.00 mg     0.00 mg   3.52 g  \n2  0.00 mg     0.00 mg  92.30 g  \n3        0           0   8.82 g  \n4  0.00 mg     0.00 mg  66.10 g  \n\n[5 rows x 77 columns]",
      "text/html": "<div>\n<style scoped>\n    .dataframe tbody tr th:only-of-type {\n        vertical-align: middle;\n    }\n\n    .dataframe tbody tr th {\n        vertical-align: top;\n    }\n\n    .dataframe thead th {\n        text-align: right;\n    }\n</style>\n<table border=\"1\" class=\"dataframe\">\n  <thead>\n    <tr style=\"text-align: right;\">\n      <th></th>\n      <th>Unnamed: 0</th>\n      <th>name</th>\n      <th>serving_size</th>\n      <th>calories</th>\n      <th>total_fat</th>\n      <th>saturated_fat</th>\n      <th>cholesterol</th>\n      <th>sodium</th>\n      <th>choline</th>\n      <th>folate</th>\n      <th>...</th>\n      <th>fat</th>\n      <th>saturated_fatty_acids</th>\n      <th>monounsaturated_fatty_acids</th>\n      <th>polyunsaturated_fatty_acids</th>\n      <th>fatty_acids_total_trans</th>\n      <th>alcohol</th>\n      <th>ash</th>\n      <th>caffeine</th>\n      <th>theobromine</th>\n      <th>water</th>\n    </tr>\n  </thead>\n  <tbody>\n    <tr>\n      <th>0</th>\n      <td>0</td>\n      <td>Cornstarch</td>\n      <td>100 g</td>\n      <td>381</td>\n      <td>0.1g</td>\n      <td>NaN</td>\n      <td>0</td>\n      <td>9.00 mg</td>\n      <td>0.4 mg</td>\n      <td>0.00 mcg</td>\n      <td>...</td>\n      <td>0.05 g</td>\n      <td>0.009 g</td>\n      <td>0.016 g</td>\n      <td>0.025 g</td>\n      <td>0.00 mg</td>\n      <td>0.0 g</td>\n      <td>0.09 g</td>\n      <td>0.00 mg</td>\n      <td>0.00 mg</td>\n      <td>8.32 g</td>\n    </tr>\n    <tr>\n      <th>1</th>\n      <td>1</td>\n      <td>Nuts, pecans</td>\n      <td>100 g</td>\n      <td>691</td>\n      <td>72g</td>\n      <td>6.2g</td>\n      <td>0</td>\n      <td>0.00 mg</td>\n      <td>40.5 mg</td>\n      <td>22.00 mcg</td>\n      <td>...</td>\n      <td>71.97 g</td>\n      <td>6.180 g</td>\n      <td>40.801 g</td>\n      <td>21.614 g</td>\n      <td>0.00 mg</td>\n      <td>0.0 g</td>\n      <td>1.49 g</td>\n      <td>0.00 mg</td>\n      <td>0.00 mg</td>\n      <td>3.52 g</td>\n    </tr>\n    <tr>\n      <th>2</th>\n      <td>2</td>\n      <td>Eggplant, raw</td>\n      <td>100 g</td>\n      <td>25</td>\n      <td>0.2g</td>\n      <td>NaN</td>\n      <td>0</td>\n      <td>2.00 mg</td>\n      <td>6.9 mg</td>\n      <td>22.00 mcg</td>\n      <td>...</td>\n      <td>0.18 g</td>\n      <td>0.034 g</td>\n      <td>0.016 g</td>\n      <td>0.076 g</td>\n      <td>0.00 mg</td>\n      <td>0.0 g</td>\n      <td>0.66 g</td>\n      <td>0.00 mg</td>\n      <td>0.00 mg</td>\n      <td>92.30 g</td>\n    </tr>\n    <tr>\n      <th>3</th>\n      <td>3</td>\n      <td>Teff, uncooked</td>\n      <td>100 g</td>\n      <td>367</td>\n      <td>2.4g</td>\n      <td>0.4g</td>\n      <td>0</td>\n      <td>12.00 mg</td>\n      <td>13.1 mg</td>\n      <td>0</td>\n      <td>...</td>\n      <td>2.38 g</td>\n      <td>0.449 g</td>\n      <td>0.589 g</td>\n      <td>1.071 g</td>\n      <td>0</td>\n      <td>0</td>\n      <td>2.37 g</td>\n      <td>0</td>\n      <td>0</td>\n      <td>8.82 g</td>\n    </tr>\n    <tr>\n      <th>4</th>\n      <td>4</td>\n      <td>Sherbet, orange</td>\n      <td>100 g</td>\n      <td>144</td>\n      <td>2g</td>\n      <td>1.2g</td>\n      <td>1mg</td>\n      <td>46.00 mg</td>\n      <td>7.7 mg</td>\n      <td>4.00 mcg</td>\n      <td>...</td>\n      <td>2.00 g</td>\n      <td>1.160 g</td>\n      <td>0.530 g</td>\n      <td>0.080 g</td>\n      <td>1.00 mg</td>\n      <td>0.0 g</td>\n      <td>0.40 g</td>\n      <td>0.00 mg</td>\n      <td>0.00 mg</td>\n      <td>66.10 g</td>\n    </tr>\n  </tbody>\n</table>\n<p>5 rows × 77 columns</p>\n</div>"
     },
     "execution_count": 146,
     "metadata": {},
     "output_type": "execute_result"
    }
   ],
   "source": [
    "nutrition.head()"
   ],
   "metadata": {
    "collapsed": false,
    "ExecuteTime": {
     "end_time": "2024-07-19T06:06:14.839623Z",
     "start_time": "2024-07-19T06:06:14.795969Z"
    }
   },
   "id": "a4a8c7f0bc64b354",
   "execution_count": 146
  },
  {
   "cell_type": "code",
   "outputs": [
    {
     "data": {
      "text/plain": "              name serving_size  calories total_fat saturated_fat cholesterol  \\\n0       Cornstarch        100 g       381      0.1g           NaN           0   \n1     Nuts, pecans        100 g       691       72g          6.2g           0   \n2    Eggplant, raw        100 g        25      0.2g           NaN           0   \n3   Teff, uncooked        100 g       367      2.4g          0.4g           0   \n4  Sherbet, orange        100 g       144        2g          1.2g         1mg   \n\n     sodium  choline     folate folic_acid  ...      fat  \\\n0   9.00 mg   0.4 mg   0.00 mcg   0.00 mcg  ...   0.05 g   \n1   0.00 mg  40.5 mg  22.00 mcg   0.00 mcg  ...  71.97 g   \n2   2.00 mg   6.9 mg  22.00 mcg   0.00 mcg  ...   0.18 g   \n3  12.00 mg  13.1 mg          0          0  ...   2.38 g   \n4  46.00 mg   7.7 mg   4.00 mcg   0.00 mcg  ...   2.00 g   \n\n  saturated_fatty_acids monounsaturated_fatty_acids  \\\n0               0.009 g                     0.016 g   \n1               6.180 g                    40.801 g   \n2               0.034 g                     0.016 g   \n3               0.449 g                     0.589 g   \n4               1.160 g                     0.530 g   \n\n  polyunsaturated_fatty_acids fatty_acids_total_trans alcohol     ash  \\\n0                     0.025 g                 0.00 mg   0.0 g  0.09 g   \n1                    21.614 g                 0.00 mg   0.0 g  1.49 g   \n2                     0.076 g                 0.00 mg   0.0 g  0.66 g   \n3                     1.071 g                       0       0  2.37 g   \n4                     0.080 g                 1.00 mg   0.0 g  0.40 g   \n\n  caffeine theobromine    water  \n0  0.00 mg     0.00 mg   8.32 g  \n1  0.00 mg     0.00 mg   3.52 g  \n2  0.00 mg     0.00 mg  92.30 g  \n3        0           0   8.82 g  \n4  0.00 mg     0.00 mg  66.10 g  \n\n[5 rows x 76 columns]",
      "text/html": "<div>\n<style scoped>\n    .dataframe tbody tr th:only-of-type {\n        vertical-align: middle;\n    }\n\n    .dataframe tbody tr th {\n        vertical-align: top;\n    }\n\n    .dataframe thead th {\n        text-align: right;\n    }\n</style>\n<table border=\"1\" class=\"dataframe\">\n  <thead>\n    <tr style=\"text-align: right;\">\n      <th></th>\n      <th>name</th>\n      <th>serving_size</th>\n      <th>calories</th>\n      <th>total_fat</th>\n      <th>saturated_fat</th>\n      <th>cholesterol</th>\n      <th>sodium</th>\n      <th>choline</th>\n      <th>folate</th>\n      <th>folic_acid</th>\n      <th>...</th>\n      <th>fat</th>\n      <th>saturated_fatty_acids</th>\n      <th>monounsaturated_fatty_acids</th>\n      <th>polyunsaturated_fatty_acids</th>\n      <th>fatty_acids_total_trans</th>\n      <th>alcohol</th>\n      <th>ash</th>\n      <th>caffeine</th>\n      <th>theobromine</th>\n      <th>water</th>\n    </tr>\n  </thead>\n  <tbody>\n    <tr>\n      <th>0</th>\n      <td>Cornstarch</td>\n      <td>100 g</td>\n      <td>381</td>\n      <td>0.1g</td>\n      <td>NaN</td>\n      <td>0</td>\n      <td>9.00 mg</td>\n      <td>0.4 mg</td>\n      <td>0.00 mcg</td>\n      <td>0.00 mcg</td>\n      <td>...</td>\n      <td>0.05 g</td>\n      <td>0.009 g</td>\n      <td>0.016 g</td>\n      <td>0.025 g</td>\n      <td>0.00 mg</td>\n      <td>0.0 g</td>\n      <td>0.09 g</td>\n      <td>0.00 mg</td>\n      <td>0.00 mg</td>\n      <td>8.32 g</td>\n    </tr>\n    <tr>\n      <th>1</th>\n      <td>Nuts, pecans</td>\n      <td>100 g</td>\n      <td>691</td>\n      <td>72g</td>\n      <td>6.2g</td>\n      <td>0</td>\n      <td>0.00 mg</td>\n      <td>40.5 mg</td>\n      <td>22.00 mcg</td>\n      <td>0.00 mcg</td>\n      <td>...</td>\n      <td>71.97 g</td>\n      <td>6.180 g</td>\n      <td>40.801 g</td>\n      <td>21.614 g</td>\n      <td>0.00 mg</td>\n      <td>0.0 g</td>\n      <td>1.49 g</td>\n      <td>0.00 mg</td>\n      <td>0.00 mg</td>\n      <td>3.52 g</td>\n    </tr>\n    <tr>\n      <th>2</th>\n      <td>Eggplant, raw</td>\n      <td>100 g</td>\n      <td>25</td>\n      <td>0.2g</td>\n      <td>NaN</td>\n      <td>0</td>\n      <td>2.00 mg</td>\n      <td>6.9 mg</td>\n      <td>22.00 mcg</td>\n      <td>0.00 mcg</td>\n      <td>...</td>\n      <td>0.18 g</td>\n      <td>0.034 g</td>\n      <td>0.016 g</td>\n      <td>0.076 g</td>\n      <td>0.00 mg</td>\n      <td>0.0 g</td>\n      <td>0.66 g</td>\n      <td>0.00 mg</td>\n      <td>0.00 mg</td>\n      <td>92.30 g</td>\n    </tr>\n    <tr>\n      <th>3</th>\n      <td>Teff, uncooked</td>\n      <td>100 g</td>\n      <td>367</td>\n      <td>2.4g</td>\n      <td>0.4g</td>\n      <td>0</td>\n      <td>12.00 mg</td>\n      <td>13.1 mg</td>\n      <td>0</td>\n      <td>0</td>\n      <td>...</td>\n      <td>2.38 g</td>\n      <td>0.449 g</td>\n      <td>0.589 g</td>\n      <td>1.071 g</td>\n      <td>0</td>\n      <td>0</td>\n      <td>2.37 g</td>\n      <td>0</td>\n      <td>0</td>\n      <td>8.82 g</td>\n    </tr>\n    <tr>\n      <th>4</th>\n      <td>Sherbet, orange</td>\n      <td>100 g</td>\n      <td>144</td>\n      <td>2g</td>\n      <td>1.2g</td>\n      <td>1mg</td>\n      <td>46.00 mg</td>\n      <td>7.7 mg</td>\n      <td>4.00 mcg</td>\n      <td>0.00 mcg</td>\n      <td>...</td>\n      <td>2.00 g</td>\n      <td>1.160 g</td>\n      <td>0.530 g</td>\n      <td>0.080 g</td>\n      <td>1.00 mg</td>\n      <td>0.0 g</td>\n      <td>0.40 g</td>\n      <td>0.00 mg</td>\n      <td>0.00 mg</td>\n      <td>66.10 g</td>\n    </tr>\n  </tbody>\n</table>\n<p>5 rows × 76 columns</p>\n</div>"
     },
     "execution_count": 147,
     "metadata": {},
     "output_type": "execute_result"
    }
   ],
   "source": [
    "nutrition = pd.read_csv(data_url, index_col=[0])\n",
    "nutrition.head()"
   ],
   "metadata": {
    "collapsed": false,
    "ExecuteTime": {
     "end_time": "2024-07-19T06:06:15.967286Z",
     "start_time": "2024-07-19T06:06:14.798834Z"
    }
   },
   "id": "f0b2fb83645cb112",
   "execution_count": 147
  },
  {
   "cell_type": "markdown",
   "source": [
    "## The sample() Method"
   ],
   "metadata": {
    "collapsed": false
   },
   "id": "71f22b6ce8f44162"
  },
  {
   "cell_type": "code",
   "outputs": [
    {
     "data": {
      "text/plain": "                                 name serving_size  calories total_fat  \\\n1839  Game meat, roasted, cooked, elk        100 g       146      1.9g   \n\n     saturated_fat cholesterol    sodium choline    folate folic_acid  ...  \\\n1839          0.7g        73mg  61.00 mg       0  9.00 mcg   0.00 mcg  ...   \n\n         fat saturated_fatty_acids monounsaturated_fatty_acids  \\\n1839  1.90 g               0.700 g                     0.480 g   \n\n     polyunsaturated_fatty_acids fatty_acids_total_trans alcohol     ash  \\\n1839                     0.400 g                73.00 mg       0  1.32 g   \n\n     caffeine theobromine    water  \n1839        0           0  66.28 g  \n\n[1 rows x 76 columns]",
      "text/html": "<div>\n<style scoped>\n    .dataframe tbody tr th:only-of-type {\n        vertical-align: middle;\n    }\n\n    .dataframe tbody tr th {\n        vertical-align: top;\n    }\n\n    .dataframe thead th {\n        text-align: right;\n    }\n</style>\n<table border=\"1\" class=\"dataframe\">\n  <thead>\n    <tr style=\"text-align: right;\">\n      <th></th>\n      <th>name</th>\n      <th>serving_size</th>\n      <th>calories</th>\n      <th>total_fat</th>\n      <th>saturated_fat</th>\n      <th>cholesterol</th>\n      <th>sodium</th>\n      <th>choline</th>\n      <th>folate</th>\n      <th>folic_acid</th>\n      <th>...</th>\n      <th>fat</th>\n      <th>saturated_fatty_acids</th>\n      <th>monounsaturated_fatty_acids</th>\n      <th>polyunsaturated_fatty_acids</th>\n      <th>fatty_acids_total_trans</th>\n      <th>alcohol</th>\n      <th>ash</th>\n      <th>caffeine</th>\n      <th>theobromine</th>\n      <th>water</th>\n    </tr>\n  </thead>\n  <tbody>\n    <tr>\n      <th>1839</th>\n      <td>Game meat, roasted, cooked, elk</td>\n      <td>100 g</td>\n      <td>146</td>\n      <td>1.9g</td>\n      <td>0.7g</td>\n      <td>73mg</td>\n      <td>61.00 mg</td>\n      <td>0</td>\n      <td>9.00 mcg</td>\n      <td>0.00 mcg</td>\n      <td>...</td>\n      <td>1.90 g</td>\n      <td>0.700 g</td>\n      <td>0.480 g</td>\n      <td>0.400 g</td>\n      <td>73.00 mg</td>\n      <td>0</td>\n      <td>1.32 g</td>\n      <td>0</td>\n      <td>0</td>\n      <td>66.28 g</td>\n    </tr>\n  </tbody>\n</table>\n<p>1 rows × 76 columns</p>\n</div>"
     },
     "execution_count": 148,
     "metadata": {},
     "output_type": "execute_result"
    }
   ],
   "source": [
    "nutrition.sample(random_state=42)"
   ],
   "metadata": {
    "collapsed": false,
    "ExecuteTime": {
     "end_time": "2024-07-19T06:06:15.977238Z",
     "start_time": "2024-07-19T06:06:15.974468Z"
    }
   },
   "id": "9516a57a5bd52c60",
   "execution_count": 148
  },
  {
   "cell_type": "code",
   "outputs": [
    {
     "data": {
      "text/plain": "                                                   name serving_size  \\\n2645                Beef, jellied, luncheon meat, cured        100 g   \n413                                    Spearmint, dried        100 g   \n4718  Alcoholic beverage, BUDWEISER SELECT, light, beer        100 g   \n\n      calories total_fat saturated_fat cholesterol      sodium choline  \\\n2645       111      3.3g          1.4g        34mg  1322.00 mg       0   \n413        285        6g          1.6g           0   344.00 mg       0   \n4718        28        0g           NaN           0           0       0   \n\n          folate folic_acid  ...     fat saturated_fatty_acids  \\\n2645    7.00 mcg   0.00 mcg  ...  3.30 g               1.410 g   \n413   530.00 mcg   0.00 mcg  ...  6.03 g               1.577 g   \n4718           0          0  ...  0.00 g                     0   \n\n     monounsaturated_fatty_acids polyunsaturated_fatty_acids  \\\n2645                     1.450 g                     0.170 g   \n413                      0.210 g                     3.257 g   \n4718                           0                           0   \n\n     fatty_acids_total_trans alcohol      ash caffeine theobromine    water  \n2645                34.00 mg       0   3.40 g        0           0  74.60 g  \n413                  0.00 mg       0  10.70 g        0           0  11.30 g  \n4718                 0.00 mg   3.4 g   0.08 g        0           0  95.30 g  \n\n[3 rows x 76 columns]",
      "text/html": "<div>\n<style scoped>\n    .dataframe tbody tr th:only-of-type {\n        vertical-align: middle;\n    }\n\n    .dataframe tbody tr th {\n        vertical-align: top;\n    }\n\n    .dataframe thead th {\n        text-align: right;\n    }\n</style>\n<table border=\"1\" class=\"dataframe\">\n  <thead>\n    <tr style=\"text-align: right;\">\n      <th></th>\n      <th>name</th>\n      <th>serving_size</th>\n      <th>calories</th>\n      <th>total_fat</th>\n      <th>saturated_fat</th>\n      <th>cholesterol</th>\n      <th>sodium</th>\n      <th>choline</th>\n      <th>folate</th>\n      <th>folic_acid</th>\n      <th>...</th>\n      <th>fat</th>\n      <th>saturated_fatty_acids</th>\n      <th>monounsaturated_fatty_acids</th>\n      <th>polyunsaturated_fatty_acids</th>\n      <th>fatty_acids_total_trans</th>\n      <th>alcohol</th>\n      <th>ash</th>\n      <th>caffeine</th>\n      <th>theobromine</th>\n      <th>water</th>\n    </tr>\n  </thead>\n  <tbody>\n    <tr>\n      <th>2645</th>\n      <td>Beef, jellied, luncheon meat, cured</td>\n      <td>100 g</td>\n      <td>111</td>\n      <td>3.3g</td>\n      <td>1.4g</td>\n      <td>34mg</td>\n      <td>1322.00 mg</td>\n      <td>0</td>\n      <td>7.00 mcg</td>\n      <td>0.00 mcg</td>\n      <td>...</td>\n      <td>3.30 g</td>\n      <td>1.410 g</td>\n      <td>1.450 g</td>\n      <td>0.170 g</td>\n      <td>34.00 mg</td>\n      <td>0</td>\n      <td>3.40 g</td>\n      <td>0</td>\n      <td>0</td>\n      <td>74.60 g</td>\n    </tr>\n    <tr>\n      <th>413</th>\n      <td>Spearmint, dried</td>\n      <td>100 g</td>\n      <td>285</td>\n      <td>6g</td>\n      <td>1.6g</td>\n      <td>0</td>\n      <td>344.00 mg</td>\n      <td>0</td>\n      <td>530.00 mcg</td>\n      <td>0.00 mcg</td>\n      <td>...</td>\n      <td>6.03 g</td>\n      <td>1.577 g</td>\n      <td>0.210 g</td>\n      <td>3.257 g</td>\n      <td>0.00 mg</td>\n      <td>0</td>\n      <td>10.70 g</td>\n      <td>0</td>\n      <td>0</td>\n      <td>11.30 g</td>\n    </tr>\n    <tr>\n      <th>4718</th>\n      <td>Alcoholic beverage, BUDWEISER SELECT, light, beer</td>\n      <td>100 g</td>\n      <td>28</td>\n      <td>0g</td>\n      <td>NaN</td>\n      <td>0</td>\n      <td>0</td>\n      <td>0</td>\n      <td>0</td>\n      <td>0</td>\n      <td>...</td>\n      <td>0.00 g</td>\n      <td>0</td>\n      <td>0</td>\n      <td>0</td>\n      <td>0.00 mg</td>\n      <td>3.4 g</td>\n      <td>0.08 g</td>\n      <td>0</td>\n      <td>0</td>\n      <td>95.30 g</td>\n    </tr>\n  </tbody>\n</table>\n<p>3 rows × 76 columns</p>\n</div>"
     },
     "execution_count": 149,
     "metadata": {},
     "output_type": "execute_result"
    }
   ],
   "source": [
    "nutrition.sample(n=3)"
   ],
   "metadata": {
    "collapsed": false,
    "ExecuteTime": {
     "end_time": "2024-07-19T06:06:15.987040Z",
     "start_time": "2024-07-19T06:06:15.982732Z"
    }
   },
   "id": "aa126220a396226e",
   "execution_count": 149
  },
  {
   "cell_type": "code",
   "outputs": [
    {
     "data": {
      "text/plain": "                                                   name serving_size  \\\n1430                 Candies, WHATCHAMACALLIT Candy Bar        100 g   \n3635    Potatoes, unprepared, plain, frozen, hash brown        100 g   \n1085                          Egg, fried, cooked, whole        100 g   \n6286  Turnip greens and turnips, with salt, drained,...        100 g   \n6725  KELLOGG'S, Frosted Wild Fruit Fusion Toaster P...        100 g   \n2287             Babyfood, junior, chicken sticks, meat        100 g   \n6916  Lamb, broiled, cooked, separable lean and fat,...        100 g   \n3041         Fish, dry heat, cooked, greenland, halibut        100 g   \n3969      Carrots, drained solids, regular pack, canned        100 g   \n\n      calories total_fat saturated_fat cholesterol     sodium   choline  \\\n1430       494       24g           17g        12mg  299.00 mg   25.0 mg   \n3635        82      0.6g          0.2g           0   22.00 mg         0   \n1085       196       15g          4.3g       401mg  207.00 mg  317.1 mg   \n6286        34      0.4g          0.1g           0  255.00 mg    2.1 mg   \n6725       391      9.7g          3.1g           0  334.00 mg         0   \n2287       188       14g          4.1g        78mg  408.00 mg   43.2 mg   \n6916       315       24g           12g       112mg   49.00 mg   95.0 mg   \n3041       239       18g          3.1g        59mg  103.00 mg         0   \n3969        25      0.2g           NaN           0  242.00 mg    6.3 mg   \n\n         folate folic_acid  ...      fat saturated_fatty_acids  \\\n1430  18.00 mcg   0.00 mcg  ...  23.68 g              17.040 g   \n3635   4.00 mcg   0.00 mcg  ...   0.62 g               0.163 g   \n1085  51.00 mcg   0.00 mcg  ...  14.84 g               4.323 g   \n6286  33.00 mcg   0.00 mcg  ...   0.38 g               0.085 g   \n6725  80.00 mcg          0  ...   9.70 g               3.100 g   \n2287  11.00 mcg   0.00 mcg  ...  14.40 g               4.094 g   \n6916   1.00 mcg   0.00 mcg  ...  23.88 g              11.960 g   \n3041   1.00 mcg   0.00 mcg  ...  17.74 g               3.102 g   \n3969   9.00 mcg   0.00 mcg  ...   0.19 g               0.036 g   \n\n     monounsaturated_fatty_acids polyunsaturated_fatty_acids  \\\n1430                     3.780 g                     0.830 g   \n3635                     0.014 g                     0.269 g   \n1085                     6.182 g                     3.251 g   \n6286                     0.024 g                     0.160 g   \n6725                     2.100 g                     3.600 g   \n2287                     6.267 g                     2.986 g   \n6916                     9.200 g                     1.090 g   \n3041                    10.742 g                     1.753 g   \n3969                     0.009 g                     0.092 g   \n\n     fatty_acids_total_trans alcohol     ash  caffeine theobromine    water  \n1430                12.00 mg   0.0 g  1.66 g  10.00 mg   100.00 mg   3.04 g  \n3635                       0       0  0.75 g         0           0  78.85 g  \n1085               401.00 mg   0.0 g  1.26 g   0.00 mg     0.00 mg  69.47 g  \n6286                 0.00 mg       0  0.85 g   0.00 mg     0.00 mg  91.04 g  \n6725                 0.00 mg       0       0         0           0  12.75 g  \n2287                78.00 mg   0.0 g  1.20 g   0.00 mg     0.00 mg  68.30 g  \n6916               112.00 mg   0.0 g  1.30 g   0.00 mg     0.00 mg  50.44 g  \n3041                59.00 mg       0  1.28 g         0           0  61.88 g  \n3969                 0.00 mg   0.0 g  0.68 g   0.00 mg     0.00 mg  92.95 g  \n\n[9 rows x 76 columns]",
      "text/html": "<div>\n<style scoped>\n    .dataframe tbody tr th:only-of-type {\n        vertical-align: middle;\n    }\n\n    .dataframe tbody tr th {\n        vertical-align: top;\n    }\n\n    .dataframe thead th {\n        text-align: right;\n    }\n</style>\n<table border=\"1\" class=\"dataframe\">\n  <thead>\n    <tr style=\"text-align: right;\">\n      <th></th>\n      <th>name</th>\n      <th>serving_size</th>\n      <th>calories</th>\n      <th>total_fat</th>\n      <th>saturated_fat</th>\n      <th>cholesterol</th>\n      <th>sodium</th>\n      <th>choline</th>\n      <th>folate</th>\n      <th>folic_acid</th>\n      <th>...</th>\n      <th>fat</th>\n      <th>saturated_fatty_acids</th>\n      <th>monounsaturated_fatty_acids</th>\n      <th>polyunsaturated_fatty_acids</th>\n      <th>fatty_acids_total_trans</th>\n      <th>alcohol</th>\n      <th>ash</th>\n      <th>caffeine</th>\n      <th>theobromine</th>\n      <th>water</th>\n    </tr>\n  </thead>\n  <tbody>\n    <tr>\n      <th>1430</th>\n      <td>Candies, WHATCHAMACALLIT Candy Bar</td>\n      <td>100 g</td>\n      <td>494</td>\n      <td>24g</td>\n      <td>17g</td>\n      <td>12mg</td>\n      <td>299.00 mg</td>\n      <td>25.0 mg</td>\n      <td>18.00 mcg</td>\n      <td>0.00 mcg</td>\n      <td>...</td>\n      <td>23.68 g</td>\n      <td>17.040 g</td>\n      <td>3.780 g</td>\n      <td>0.830 g</td>\n      <td>12.00 mg</td>\n      <td>0.0 g</td>\n      <td>1.66 g</td>\n      <td>10.00 mg</td>\n      <td>100.00 mg</td>\n      <td>3.04 g</td>\n    </tr>\n    <tr>\n      <th>3635</th>\n      <td>Potatoes, unprepared, plain, frozen, hash brown</td>\n      <td>100 g</td>\n      <td>82</td>\n      <td>0.6g</td>\n      <td>0.2g</td>\n      <td>0</td>\n      <td>22.00 mg</td>\n      <td>0</td>\n      <td>4.00 mcg</td>\n      <td>0.00 mcg</td>\n      <td>...</td>\n      <td>0.62 g</td>\n      <td>0.163 g</td>\n      <td>0.014 g</td>\n      <td>0.269 g</td>\n      <td>0</td>\n      <td>0</td>\n      <td>0.75 g</td>\n      <td>0</td>\n      <td>0</td>\n      <td>78.85 g</td>\n    </tr>\n    <tr>\n      <th>1085</th>\n      <td>Egg, fried, cooked, whole</td>\n      <td>100 g</td>\n      <td>196</td>\n      <td>15g</td>\n      <td>4.3g</td>\n      <td>401mg</td>\n      <td>207.00 mg</td>\n      <td>317.1 mg</td>\n      <td>51.00 mcg</td>\n      <td>0.00 mcg</td>\n      <td>...</td>\n      <td>14.84 g</td>\n      <td>4.323 g</td>\n      <td>6.182 g</td>\n      <td>3.251 g</td>\n      <td>401.00 mg</td>\n      <td>0.0 g</td>\n      <td>1.26 g</td>\n      <td>0.00 mg</td>\n      <td>0.00 mg</td>\n      <td>69.47 g</td>\n    </tr>\n    <tr>\n      <th>6286</th>\n      <td>Turnip greens and turnips, with salt, drained,...</td>\n      <td>100 g</td>\n      <td>34</td>\n      <td>0.4g</td>\n      <td>0.1g</td>\n      <td>0</td>\n      <td>255.00 mg</td>\n      <td>2.1 mg</td>\n      <td>33.00 mcg</td>\n      <td>0.00 mcg</td>\n      <td>...</td>\n      <td>0.38 g</td>\n      <td>0.085 g</td>\n      <td>0.024 g</td>\n      <td>0.160 g</td>\n      <td>0.00 mg</td>\n      <td>0</td>\n      <td>0.85 g</td>\n      <td>0.00 mg</td>\n      <td>0.00 mg</td>\n      <td>91.04 g</td>\n    </tr>\n    <tr>\n      <th>6725</th>\n      <td>KELLOGG'S, Frosted Wild Fruit Fusion Toaster P...</td>\n      <td>100 g</td>\n      <td>391</td>\n      <td>9.7g</td>\n      <td>3.1g</td>\n      <td>0</td>\n      <td>334.00 mg</td>\n      <td>0</td>\n      <td>80.00 mcg</td>\n      <td>0</td>\n      <td>...</td>\n      <td>9.70 g</td>\n      <td>3.100 g</td>\n      <td>2.100 g</td>\n      <td>3.600 g</td>\n      <td>0.00 mg</td>\n      <td>0</td>\n      <td>0</td>\n      <td>0</td>\n      <td>0</td>\n      <td>12.75 g</td>\n    </tr>\n    <tr>\n      <th>2287</th>\n      <td>Babyfood, junior, chicken sticks, meat</td>\n      <td>100 g</td>\n      <td>188</td>\n      <td>14g</td>\n      <td>4.1g</td>\n      <td>78mg</td>\n      <td>408.00 mg</td>\n      <td>43.2 mg</td>\n      <td>11.00 mcg</td>\n      <td>0.00 mcg</td>\n      <td>...</td>\n      <td>14.40 g</td>\n      <td>4.094 g</td>\n      <td>6.267 g</td>\n      <td>2.986 g</td>\n      <td>78.00 mg</td>\n      <td>0.0 g</td>\n      <td>1.20 g</td>\n      <td>0.00 mg</td>\n      <td>0.00 mg</td>\n      <td>68.30 g</td>\n    </tr>\n    <tr>\n      <th>6916</th>\n      <td>Lamb, broiled, cooked, separable lean and fat,...</td>\n      <td>100 g</td>\n      <td>315</td>\n      <td>24g</td>\n      <td>12g</td>\n      <td>112mg</td>\n      <td>49.00 mg</td>\n      <td>95.0 mg</td>\n      <td>1.00 mcg</td>\n      <td>0.00 mcg</td>\n      <td>...</td>\n      <td>23.88 g</td>\n      <td>11.960 g</td>\n      <td>9.200 g</td>\n      <td>1.090 g</td>\n      <td>112.00 mg</td>\n      <td>0.0 g</td>\n      <td>1.30 g</td>\n      <td>0.00 mg</td>\n      <td>0.00 mg</td>\n      <td>50.44 g</td>\n    </tr>\n    <tr>\n      <th>3041</th>\n      <td>Fish, dry heat, cooked, greenland, halibut</td>\n      <td>100 g</td>\n      <td>239</td>\n      <td>18g</td>\n      <td>3.1g</td>\n      <td>59mg</td>\n      <td>103.00 mg</td>\n      <td>0</td>\n      <td>1.00 mcg</td>\n      <td>0.00 mcg</td>\n      <td>...</td>\n      <td>17.74 g</td>\n      <td>3.102 g</td>\n      <td>10.742 g</td>\n      <td>1.753 g</td>\n      <td>59.00 mg</td>\n      <td>0</td>\n      <td>1.28 g</td>\n      <td>0</td>\n      <td>0</td>\n      <td>61.88 g</td>\n    </tr>\n    <tr>\n      <th>3969</th>\n      <td>Carrots, drained solids, regular pack, canned</td>\n      <td>100 g</td>\n      <td>25</td>\n      <td>0.2g</td>\n      <td>NaN</td>\n      <td>0</td>\n      <td>242.00 mg</td>\n      <td>6.3 mg</td>\n      <td>9.00 mcg</td>\n      <td>0.00 mcg</td>\n      <td>...</td>\n      <td>0.19 g</td>\n      <td>0.036 g</td>\n      <td>0.009 g</td>\n      <td>0.092 g</td>\n      <td>0.00 mg</td>\n      <td>0.0 g</td>\n      <td>0.68 g</td>\n      <td>0.00 mg</td>\n      <td>0.00 mg</td>\n      <td>92.95 g</td>\n    </tr>\n  </tbody>\n</table>\n<p>9 rows × 76 columns</p>\n</div>"
     },
     "execution_count": 150,
     "metadata": {},
     "output_type": "execute_result"
    }
   ],
   "source": [
    "nutrition.sample(frac=0.001)"
   ],
   "metadata": {
    "collapsed": false,
    "ExecuteTime": {
     "end_time": "2024-07-19T06:06:16.043823Z",
     "start_time": "2024-07-19T06:06:15.995306Z"
    }
   },
   "id": "a9d1031e1b54fb77",
   "execution_count": 150
  },
  {
   "cell_type": "code",
   "outputs": [
    {
     "data": {
      "text/plain": "8.789"
     },
     "execution_count": 151,
     "metadata": {},
     "output_type": "execute_result"
    }
   ],
   "source": [
    "nutrition.shape[0] * 0.001"
   ],
   "metadata": {
    "collapsed": false,
    "ExecuteTime": {
     "end_time": "2024-07-19T06:06:16.044993Z",
     "start_time": "2024-07-19T06:06:15.999035Z"
    }
   },
   "id": "76b9d9fd4cd2a4c5",
   "execution_count": 151
  },
  {
   "cell_type": "markdown",
   "source": [
    "## Sampling With Replacement or Weights"
   ],
   "metadata": {
    "collapsed": false
   },
   "id": "926bf02f6a05d10c"
  },
  {
   "cell_type": "code",
   "outputs": [
    {
     "data": {
      "text/plain": "                                                   name serving_size  \\\n7625  Pork, raw, with added solution, separable lean...        100 g   \n6914  Turkey from whole, roasted, cooked, with added...        100 g   \n5306  KFC, Skin and Breading, ORIGINAL RECIPE, Fried...        100 g   \n\n      calories total_fat saturated_fat cholesterol      sodium  choline  \\\n7625       171       10g          2.5g        56mg   251.00 mg  53.0 mg   \n6914       157      5.6g          1.6g        76mg   237.00 mg  70.2 mg   \n5306       384       28g          6.3g        82mg  1042.00 mg        0   \n\n        folate folic_acid  ...      fat saturated_fatty_acids  \\\n7625  0.00 mcg   0.00 mcg  ...  10.26 g               2.530 g   \n6914  8.00 mcg   0.00 mcg  ...   5.64 g               1.593 g   \n5306         0          0  ...  28.01 g               6.343 g   \n\n     monounsaturated_fatty_acids polyunsaturated_fatty_acids  \\\n7625                     5.801 g                     1.925 g   \n6914                     1.971 g                     1.585 g   \n5306                    14.448 g                     5.375 g   \n\n     fatty_acids_total_trans alcohol     ash caffeine theobromine    water  \n7625                56.00 mg   0.0 g  1.55 g  0.00 mg     0.00 mg  68.65 g  \n6914                76.00 mg   0.0 g  1.43 g  0.00 mg     0.00 mg  67.09 g  \n5306                82.00 mg       0  3.51 g        0           0  35.52 g  \n\n[3 rows x 76 columns]",
      "text/html": "<div>\n<style scoped>\n    .dataframe tbody tr th:only-of-type {\n        vertical-align: middle;\n    }\n\n    .dataframe tbody tr th {\n        vertical-align: top;\n    }\n\n    .dataframe thead th {\n        text-align: right;\n    }\n</style>\n<table border=\"1\" class=\"dataframe\">\n  <thead>\n    <tr style=\"text-align: right;\">\n      <th></th>\n      <th>name</th>\n      <th>serving_size</th>\n      <th>calories</th>\n      <th>total_fat</th>\n      <th>saturated_fat</th>\n      <th>cholesterol</th>\n      <th>sodium</th>\n      <th>choline</th>\n      <th>folate</th>\n      <th>folic_acid</th>\n      <th>...</th>\n      <th>fat</th>\n      <th>saturated_fatty_acids</th>\n      <th>monounsaturated_fatty_acids</th>\n      <th>polyunsaturated_fatty_acids</th>\n      <th>fatty_acids_total_trans</th>\n      <th>alcohol</th>\n      <th>ash</th>\n      <th>caffeine</th>\n      <th>theobromine</th>\n      <th>water</th>\n    </tr>\n  </thead>\n  <tbody>\n    <tr>\n      <th>7625</th>\n      <td>Pork, raw, with added solution, separable lean...</td>\n      <td>100 g</td>\n      <td>171</td>\n      <td>10g</td>\n      <td>2.5g</td>\n      <td>56mg</td>\n      <td>251.00 mg</td>\n      <td>53.0 mg</td>\n      <td>0.00 mcg</td>\n      <td>0.00 mcg</td>\n      <td>...</td>\n      <td>10.26 g</td>\n      <td>2.530 g</td>\n      <td>5.801 g</td>\n      <td>1.925 g</td>\n      <td>56.00 mg</td>\n      <td>0.0 g</td>\n      <td>1.55 g</td>\n      <td>0.00 mg</td>\n      <td>0.00 mg</td>\n      <td>68.65 g</td>\n    </tr>\n    <tr>\n      <th>6914</th>\n      <td>Turkey from whole, roasted, cooked, with added...</td>\n      <td>100 g</td>\n      <td>157</td>\n      <td>5.6g</td>\n      <td>1.6g</td>\n      <td>76mg</td>\n      <td>237.00 mg</td>\n      <td>70.2 mg</td>\n      <td>8.00 mcg</td>\n      <td>0.00 mcg</td>\n      <td>...</td>\n      <td>5.64 g</td>\n      <td>1.593 g</td>\n      <td>1.971 g</td>\n      <td>1.585 g</td>\n      <td>76.00 mg</td>\n      <td>0.0 g</td>\n      <td>1.43 g</td>\n      <td>0.00 mg</td>\n      <td>0.00 mg</td>\n      <td>67.09 g</td>\n    </tr>\n    <tr>\n      <th>5306</th>\n      <td>KFC, Skin and Breading, ORIGINAL RECIPE, Fried...</td>\n      <td>100 g</td>\n      <td>384</td>\n      <td>28g</td>\n      <td>6.3g</td>\n      <td>82mg</td>\n      <td>1042.00 mg</td>\n      <td>0</td>\n      <td>0</td>\n      <td>0</td>\n      <td>...</td>\n      <td>28.01 g</td>\n      <td>6.343 g</td>\n      <td>14.448 g</td>\n      <td>5.375 g</td>\n      <td>82.00 mg</td>\n      <td>0</td>\n      <td>3.51 g</td>\n      <td>0</td>\n      <td>0</td>\n      <td>35.52 g</td>\n    </tr>\n  </tbody>\n</table>\n<p>3 rows × 76 columns</p>\n</div>"
     },
     "execution_count": 152,
     "metadata": {},
     "output_type": "execute_result"
    }
   ],
   "source": [
    "# Replacement\n",
    "\n",
    "nutrition.sample(n=3, replace=True)"
   ],
   "metadata": {
    "collapsed": false,
    "ExecuteTime": {
     "end_time": "2024-07-19T06:06:16.076945Z",
     "start_time": "2024-07-19T06:06:16.009268Z"
    }
   },
   "id": "78ed28295a2cb436",
   "execution_count": 152
  },
  {
   "cell_type": "code",
   "outputs": [
    {
     "data": {
      "text/plain": "7     10\n17    10\n29    10\n5      1\n6      2\ndtype: int64"
     },
     "execution_count": 153,
     "metadata": {},
     "output_type": "execute_result"
    }
   ],
   "source": [
    "# Weighted Sampling\n",
    "\n",
    "weights = pd.Series(data=[10, 10, 10, 1, 2], index=[7, 17, 29, 5, 6])\n",
    "weights"
   ],
   "metadata": {
    "collapsed": false,
    "ExecuteTime": {
     "end_time": "2024-07-19T06:06:16.104123Z",
     "start_time": "2024-07-19T06:06:16.014330Z"
    }
   },
   "id": "aaeca5a9d0fec56c",
   "execution_count": 153
  },
  {
   "cell_type": "code",
   "outputs": [
    {
     "data": {
      "text/plain": "                      name serving_size  calories total_fat saturated_fat  \\\n7        Lamb, raw, ground        100 g       282       23g           10g   \n6         Taro leaves, raw        100 g        42      0.7g          0.2g   \n29  Nuts, dried, pine nuts        100 g       673       68g          4.9g   \n\n   cholesterol    sodium  choline      folate folic_acid  ...      fat  \\\n7         73mg  59.00 mg  69.3 mg   18.00 mcg   0.00 mcg  ...  23.41 g   \n6            0   3.00 mg  12.8 mg  126.00 mcg   0.00 mcg  ...   0.74 g   \n29           0   2.00 mg  55.8 mg   34.00 mcg   0.00 mcg  ...  68.37 g   \n\n   saturated_fatty_acids monounsaturated_fatty_acids  \\\n7               10.190 g                     9.600 g   \n6                0.151 g                     0.060 g   \n29               4.899 g                    18.764 g   \n\n   polyunsaturated_fatty_acids fatty_acids_total_trans alcohol     ash  \\\n7                      1.850 g                73.00 mg   0.0 g  0.87 g   \n6                      0.307 g                 0.00 mg   0.0 g  1.92 g   \n29                    34.071 g                 0.00 mg   0.0 g  2.59 g   \n\n   caffeine theobromine    water  \n7   0.00 mg     0.00 mg  59.47 g  \n6   0.00 mg     0.00 mg  85.66 g  \n29  0.00 mg     0.00 mg   2.28 g  \n\n[3 rows x 76 columns]",
      "text/html": "<div>\n<style scoped>\n    .dataframe tbody tr th:only-of-type {\n        vertical-align: middle;\n    }\n\n    .dataframe tbody tr th {\n        vertical-align: top;\n    }\n\n    .dataframe thead th {\n        text-align: right;\n    }\n</style>\n<table border=\"1\" class=\"dataframe\">\n  <thead>\n    <tr style=\"text-align: right;\">\n      <th></th>\n      <th>name</th>\n      <th>serving_size</th>\n      <th>calories</th>\n      <th>total_fat</th>\n      <th>saturated_fat</th>\n      <th>cholesterol</th>\n      <th>sodium</th>\n      <th>choline</th>\n      <th>folate</th>\n      <th>folic_acid</th>\n      <th>...</th>\n      <th>fat</th>\n      <th>saturated_fatty_acids</th>\n      <th>monounsaturated_fatty_acids</th>\n      <th>polyunsaturated_fatty_acids</th>\n      <th>fatty_acids_total_trans</th>\n      <th>alcohol</th>\n      <th>ash</th>\n      <th>caffeine</th>\n      <th>theobromine</th>\n      <th>water</th>\n    </tr>\n  </thead>\n  <tbody>\n    <tr>\n      <th>7</th>\n      <td>Lamb, raw, ground</td>\n      <td>100 g</td>\n      <td>282</td>\n      <td>23g</td>\n      <td>10g</td>\n      <td>73mg</td>\n      <td>59.00 mg</td>\n      <td>69.3 mg</td>\n      <td>18.00 mcg</td>\n      <td>0.00 mcg</td>\n      <td>...</td>\n      <td>23.41 g</td>\n      <td>10.190 g</td>\n      <td>9.600 g</td>\n      <td>1.850 g</td>\n      <td>73.00 mg</td>\n      <td>0.0 g</td>\n      <td>0.87 g</td>\n      <td>0.00 mg</td>\n      <td>0.00 mg</td>\n      <td>59.47 g</td>\n    </tr>\n    <tr>\n      <th>6</th>\n      <td>Taro leaves, raw</td>\n      <td>100 g</td>\n      <td>42</td>\n      <td>0.7g</td>\n      <td>0.2g</td>\n      <td>0</td>\n      <td>3.00 mg</td>\n      <td>12.8 mg</td>\n      <td>126.00 mcg</td>\n      <td>0.00 mcg</td>\n      <td>...</td>\n      <td>0.74 g</td>\n      <td>0.151 g</td>\n      <td>0.060 g</td>\n      <td>0.307 g</td>\n      <td>0.00 mg</td>\n      <td>0.0 g</td>\n      <td>1.92 g</td>\n      <td>0.00 mg</td>\n      <td>0.00 mg</td>\n      <td>85.66 g</td>\n    </tr>\n    <tr>\n      <th>29</th>\n      <td>Nuts, dried, pine nuts</td>\n      <td>100 g</td>\n      <td>673</td>\n      <td>68g</td>\n      <td>4.9g</td>\n      <td>0</td>\n      <td>2.00 mg</td>\n      <td>55.8 mg</td>\n      <td>34.00 mcg</td>\n      <td>0.00 mcg</td>\n      <td>...</td>\n      <td>68.37 g</td>\n      <td>4.899 g</td>\n      <td>18.764 g</td>\n      <td>34.071 g</td>\n      <td>0.00 mg</td>\n      <td>0.0 g</td>\n      <td>2.59 g</td>\n      <td>0.00 mg</td>\n      <td>0.00 mg</td>\n      <td>2.28 g</td>\n    </tr>\n  </tbody>\n</table>\n<p>3 rows × 76 columns</p>\n</div>"
     },
     "execution_count": 154,
     "metadata": {},
     "output_type": "execute_result"
    }
   ],
   "source": [
    "nutrition.sample(n=3, weights=weights)"
   ],
   "metadata": {
    "collapsed": false,
    "ExecuteTime": {
     "end_time": "2024-07-19T06:06:16.127334Z",
     "start_time": "2024-07-19T06:06:16.017918Z"
    }
   },
   "id": "a8b7870088172b8d",
   "execution_count": 154
  },
  {
   "cell_type": "markdown",
   "source": [
    "## DataFrame Axes"
   ],
   "metadata": {
    "collapsed": false
   },
   "id": "13cb4040c2e90b6e"
  },
  {
   "cell_type": "code",
   "outputs": [
    {
     "data": {
      "text/plain": "[Index([   0,    1,    2,    3,    4,    5,    6,    7,    8,    9,\n        ...\n        8779, 8780, 8781, 8782, 8783, 8784, 8785, 8786, 8787, 8788],\n       dtype='int64', length=8789),\n Index(['name', 'serving_size', 'calories', 'total_fat', 'saturated_fat',\n        'cholesterol', 'sodium', 'choline', 'folate', 'folic_acid', 'niacin',\n        'pantothenic_acid', 'riboflavin', 'thiamin', 'vitamin_a',\n        'vitamin_a_rae', 'carotene_alpha', 'carotene_beta',\n        'cryptoxanthin_beta', 'lutein_zeaxanthin', 'lucopene', 'vitamin_b12',\n        'vitamin_b6', 'vitamin_c', 'vitamin_d', 'vitamin_e', 'tocopherol_alpha',\n        'vitamin_k', 'calcium', 'copper', 'irom', 'magnesium', 'manganese',\n        'phosphorous', 'potassium', 'selenium', 'zink', 'protein', 'alanine',\n        'arginine', 'aspartic_acid', 'cystine', 'glutamic_acid', 'glycine',\n        'histidine', 'hydroxyproline', 'isoleucine', 'leucine', 'lysine',\n        'methionine', 'phenylalanine', 'proline', 'serine', 'threonine',\n        'tryptophan', 'tyrosine', 'valine', 'carbohydrate', 'fiber', 'sugars',\n        'fructose', 'galactose', 'glucose', 'lactose', 'maltose', 'sucrose',\n        'fat', 'saturated_fatty_acids', 'monounsaturated_fatty_acids',\n        'polyunsaturated_fatty_acids', 'fatty_acids_total_trans', 'alcohol',\n        'ash', 'caffeine', 'theobromine', 'water'],\n       dtype='object')]"
     },
     "execution_count": 155,
     "metadata": {},
     "output_type": "execute_result"
    }
   ],
   "source": [
    "nutrition.axes"
   ],
   "metadata": {
    "collapsed": false,
    "ExecuteTime": {
     "end_time": "2024-07-19T06:06:16.128499Z",
     "start_time": "2024-07-19T06:06:16.027291Z"
    }
   },
   "id": "ad97b40183937546",
   "execution_count": 155
  },
  {
   "cell_type": "code",
   "outputs": [
    {
     "data": {
      "text/plain": "(np.int64(30), np.int64(30))"
     },
     "execution_count": 156,
     "metadata": {},
     "output_type": "execute_result"
    }
   ],
   "source": [
    "nutrition.axes[0][30], nutrition.index[30]"
   ],
   "metadata": {
    "collapsed": false,
    "ExecuteTime": {
     "end_time": "2024-07-19T06:06:16.136604Z",
     "start_time": "2024-07-19T06:06:16.032038Z"
    }
   },
   "id": "b912bb14364d6b88",
   "execution_count": 156
  },
  {
   "cell_type": "code",
   "outputs": [
    {
     "data": {
      "text/plain": "('histidine', 'histidine')"
     },
     "execution_count": 157,
     "metadata": {},
     "output_type": "execute_result"
    }
   ],
   "source": [
    "nutrition.axes[1][44], nutrition.columns[44]"
   ],
   "metadata": {
    "collapsed": false,
    "ExecuteTime": {
     "end_time": "2024-07-19T06:06:16.147661Z",
     "start_time": "2024-07-19T06:06:16.035711Z"
    }
   },
   "id": "dac67c320d30d0af",
   "execution_count": 157
  },
  {
   "cell_type": "code",
   "outputs": [
    {
     "data": {
      "text/plain": "                                                   name serving_size  \\\n1                                          Nuts, pecans        100 g   \n3                                        Teff, uncooked        100 g   \n4                                       Sherbet, orange        100 g   \n5                                      Cauliflower, raw        100 g   \n6                                      Taro leaves, raw        100 g   \n...                                                 ...          ...   \n8784  Beef, raw, all grades, trimmed to 0\" fat, sepa...        100 g   \n8785  Lamb, cooked, separable lean only, composite o...        100 g   \n8786  Lamb, raw, separable lean and fat, composite o...        100 g   \n8787  Beef, raw, all grades, trimmed to 0\" fat, sepa...        100 g   \n8788  Beef, raw, all grades, trimmed to 0\" fat, sepa...        100 g   \n\n      calories total_fat saturated_fat cholesterol    sodium  choline  \\\n1          691       72g          6.2g           0   0.00 mg  40.5 mg   \n3          367      2.4g          0.4g           0  12.00 mg  13.1 mg   \n4          144        2g          1.2g         1mg  46.00 mg   7.7 mg   \n5           25      0.3g          0.1g           0  30.00 mg  44.3 mg   \n6           42      0.7g          0.2g           0   3.00 mg  12.8 mg   \n...        ...       ...           ...         ...       ...      ...   \n8784       125      3.5g          1.4g        62mg  54.00 mg  64.5 mg   \n8785       206      8.9g          3.9g       109mg  50.00 mg        0   \n8786       277       23g           12g        78mg  39.00 mg        0   \n8787       121        3g          1.1g        60mg  53.00 mg  64.2 mg   \n8788       121        3g          1.1g        60mg  53.00 mg  64.2 mg   \n\n          folate folic_acid  ...      fat saturated_fatty_acids  \\\n1      22.00 mcg   0.00 mcg  ...  71.97 g               6.180 g   \n3              0          0  ...   2.38 g               0.449 g   \n4       4.00 mcg   0.00 mcg  ...   2.00 g               1.160 g   \n5      57.00 mcg   0.00 mcg  ...   0.28 g               0.130 g   \n6     126.00 mcg   0.00 mcg  ...   0.74 g               0.151 g   \n...          ...        ...  ...      ...                   ...   \n8784    4.00 mcg   0.00 mcg  ...   3.50 g               1.353 g   \n8785    0.00 mcg   0.00 mcg  ...   8.86 g               3.860 g   \n8786    1.00 mcg   0.00 mcg  ...  22.74 g              11.570 g   \n8787    4.00 mcg   0.00 mcg  ...   3.04 g               1.086 g   \n8788    4.00 mcg   0.00 mcg  ...   3.04 g               1.086 g   \n\n     monounsaturated_fatty_acids polyunsaturated_fatty_acids  \\\n1                       40.801 g                    21.614 g   \n3                        0.589 g                     1.071 g   \n4                        0.530 g                     0.080 g   \n5                        0.034 g                     0.031 g   \n6                        0.060 g                     0.307 g   \n...                          ...                         ...   \n8784                     1.554 g                     0.244 g   \n8785                     3.480 g                     0.520 g   \n8786                     8.720 g                     0.980 g   \n8787                     1.266 g                     0.233 g   \n8788                     1.266 g                     0.233 g   \n\n     fatty_acids_total_trans alcohol     ash caffeine theobromine    water  \n1                    0.00 mg   0.0 g  1.49 g  0.00 mg     0.00 mg   3.52 g  \n3                          0       0  2.37 g        0           0   8.82 g  \n4                    1.00 mg   0.0 g  0.40 g  0.00 mg     0.00 mg  66.10 g  \n5                    0.00 mg   0.0 g  0.76 g  0.00 mg     0.00 mg  92.07 g  \n6                    0.00 mg   0.0 g  1.92 g  0.00 mg     0.00 mg  85.66 g  \n...                      ...     ...     ...      ...         ...      ...  \n8784                62.00 mg   0.0 g  1.11 g  0.00 mg     0.00 mg  72.51 g  \n8785               109.00 mg       0  1.60 g        0           0  59.95 g  \n8786                78.00 mg       0  0.92 g        0           0  59.80 g  \n8787                60.00 mg   0.0 g  1.10 g  0.00 mg     0.00 mg  73.43 g  \n8788                60.00 mg   0.0 g  1.10 g  0.00 mg     0.00 mg  73.43 g  \n\n[7199 rows x 76 columns]",
      "text/html": "<div>\n<style scoped>\n    .dataframe tbody tr th:only-of-type {\n        vertical-align: middle;\n    }\n\n    .dataframe tbody tr th {\n        vertical-align: top;\n    }\n\n    .dataframe thead th {\n        text-align: right;\n    }\n</style>\n<table border=\"1\" class=\"dataframe\">\n  <thead>\n    <tr style=\"text-align: right;\">\n      <th></th>\n      <th>name</th>\n      <th>serving_size</th>\n      <th>calories</th>\n      <th>total_fat</th>\n      <th>saturated_fat</th>\n      <th>cholesterol</th>\n      <th>sodium</th>\n      <th>choline</th>\n      <th>folate</th>\n      <th>folic_acid</th>\n      <th>...</th>\n      <th>fat</th>\n      <th>saturated_fatty_acids</th>\n      <th>monounsaturated_fatty_acids</th>\n      <th>polyunsaturated_fatty_acids</th>\n      <th>fatty_acids_total_trans</th>\n      <th>alcohol</th>\n      <th>ash</th>\n      <th>caffeine</th>\n      <th>theobromine</th>\n      <th>water</th>\n    </tr>\n  </thead>\n  <tbody>\n    <tr>\n      <th>1</th>\n      <td>Nuts, pecans</td>\n      <td>100 g</td>\n      <td>691</td>\n      <td>72g</td>\n      <td>6.2g</td>\n      <td>0</td>\n      <td>0.00 mg</td>\n      <td>40.5 mg</td>\n      <td>22.00 mcg</td>\n      <td>0.00 mcg</td>\n      <td>...</td>\n      <td>71.97 g</td>\n      <td>6.180 g</td>\n      <td>40.801 g</td>\n      <td>21.614 g</td>\n      <td>0.00 mg</td>\n      <td>0.0 g</td>\n      <td>1.49 g</td>\n      <td>0.00 mg</td>\n      <td>0.00 mg</td>\n      <td>3.52 g</td>\n    </tr>\n    <tr>\n      <th>3</th>\n      <td>Teff, uncooked</td>\n      <td>100 g</td>\n      <td>367</td>\n      <td>2.4g</td>\n      <td>0.4g</td>\n      <td>0</td>\n      <td>12.00 mg</td>\n      <td>13.1 mg</td>\n      <td>0</td>\n      <td>0</td>\n      <td>...</td>\n      <td>2.38 g</td>\n      <td>0.449 g</td>\n      <td>0.589 g</td>\n      <td>1.071 g</td>\n      <td>0</td>\n      <td>0</td>\n      <td>2.37 g</td>\n      <td>0</td>\n      <td>0</td>\n      <td>8.82 g</td>\n    </tr>\n    <tr>\n      <th>4</th>\n      <td>Sherbet, orange</td>\n      <td>100 g</td>\n      <td>144</td>\n      <td>2g</td>\n      <td>1.2g</td>\n      <td>1mg</td>\n      <td>46.00 mg</td>\n      <td>7.7 mg</td>\n      <td>4.00 mcg</td>\n      <td>0.00 mcg</td>\n      <td>...</td>\n      <td>2.00 g</td>\n      <td>1.160 g</td>\n      <td>0.530 g</td>\n      <td>0.080 g</td>\n      <td>1.00 mg</td>\n      <td>0.0 g</td>\n      <td>0.40 g</td>\n      <td>0.00 mg</td>\n      <td>0.00 mg</td>\n      <td>66.10 g</td>\n    </tr>\n    <tr>\n      <th>5</th>\n      <td>Cauliflower, raw</td>\n      <td>100 g</td>\n      <td>25</td>\n      <td>0.3g</td>\n      <td>0.1g</td>\n      <td>0</td>\n      <td>30.00 mg</td>\n      <td>44.3 mg</td>\n      <td>57.00 mcg</td>\n      <td>0.00 mcg</td>\n      <td>...</td>\n      <td>0.28 g</td>\n      <td>0.130 g</td>\n      <td>0.034 g</td>\n      <td>0.031 g</td>\n      <td>0.00 mg</td>\n      <td>0.0 g</td>\n      <td>0.76 g</td>\n      <td>0.00 mg</td>\n      <td>0.00 mg</td>\n      <td>92.07 g</td>\n    </tr>\n    <tr>\n      <th>6</th>\n      <td>Taro leaves, raw</td>\n      <td>100 g</td>\n      <td>42</td>\n      <td>0.7g</td>\n      <td>0.2g</td>\n      <td>0</td>\n      <td>3.00 mg</td>\n      <td>12.8 mg</td>\n      <td>126.00 mcg</td>\n      <td>0.00 mcg</td>\n      <td>...</td>\n      <td>0.74 g</td>\n      <td>0.151 g</td>\n      <td>0.060 g</td>\n      <td>0.307 g</td>\n      <td>0.00 mg</td>\n      <td>0.0 g</td>\n      <td>1.92 g</td>\n      <td>0.00 mg</td>\n      <td>0.00 mg</td>\n      <td>85.66 g</td>\n    </tr>\n    <tr>\n      <th>...</th>\n      <td>...</td>\n      <td>...</td>\n      <td>...</td>\n      <td>...</td>\n      <td>...</td>\n      <td>...</td>\n      <td>...</td>\n      <td>...</td>\n      <td>...</td>\n      <td>...</td>\n      <td>...</td>\n      <td>...</td>\n      <td>...</td>\n      <td>...</td>\n      <td>...</td>\n      <td>...</td>\n      <td>...</td>\n      <td>...</td>\n      <td>...</td>\n      <td>...</td>\n      <td>...</td>\n    </tr>\n    <tr>\n      <th>8784</th>\n      <td>Beef, raw, all grades, trimmed to 0\" fat, sepa...</td>\n      <td>100 g</td>\n      <td>125</td>\n      <td>3.5g</td>\n      <td>1.4g</td>\n      <td>62mg</td>\n      <td>54.00 mg</td>\n      <td>64.5 mg</td>\n      <td>4.00 mcg</td>\n      <td>0.00 mcg</td>\n      <td>...</td>\n      <td>3.50 g</td>\n      <td>1.353 g</td>\n      <td>1.554 g</td>\n      <td>0.244 g</td>\n      <td>62.00 mg</td>\n      <td>0.0 g</td>\n      <td>1.11 g</td>\n      <td>0.00 mg</td>\n      <td>0.00 mg</td>\n      <td>72.51 g</td>\n    </tr>\n    <tr>\n      <th>8785</th>\n      <td>Lamb, cooked, separable lean only, composite o...</td>\n      <td>100 g</td>\n      <td>206</td>\n      <td>8.9g</td>\n      <td>3.9g</td>\n      <td>109mg</td>\n      <td>50.00 mg</td>\n      <td>0</td>\n      <td>0.00 mcg</td>\n      <td>0.00 mcg</td>\n      <td>...</td>\n      <td>8.86 g</td>\n      <td>3.860 g</td>\n      <td>3.480 g</td>\n      <td>0.520 g</td>\n      <td>109.00 mg</td>\n      <td>0</td>\n      <td>1.60 g</td>\n      <td>0</td>\n      <td>0</td>\n      <td>59.95 g</td>\n    </tr>\n    <tr>\n      <th>8786</th>\n      <td>Lamb, raw, separable lean and fat, composite o...</td>\n      <td>100 g</td>\n      <td>277</td>\n      <td>23g</td>\n      <td>12g</td>\n      <td>78mg</td>\n      <td>39.00 mg</td>\n      <td>0</td>\n      <td>1.00 mcg</td>\n      <td>0.00 mcg</td>\n      <td>...</td>\n      <td>22.74 g</td>\n      <td>11.570 g</td>\n      <td>8.720 g</td>\n      <td>0.980 g</td>\n      <td>78.00 mg</td>\n      <td>0</td>\n      <td>0.92 g</td>\n      <td>0</td>\n      <td>0</td>\n      <td>59.80 g</td>\n    </tr>\n    <tr>\n      <th>8787</th>\n      <td>Beef, raw, all grades, trimmed to 0\" fat, sepa...</td>\n      <td>100 g</td>\n      <td>121</td>\n      <td>3g</td>\n      <td>1.1g</td>\n      <td>60mg</td>\n      <td>53.00 mg</td>\n      <td>64.2 mg</td>\n      <td>4.00 mcg</td>\n      <td>0.00 mcg</td>\n      <td>...</td>\n      <td>3.04 g</td>\n      <td>1.086 g</td>\n      <td>1.266 g</td>\n      <td>0.233 g</td>\n      <td>60.00 mg</td>\n      <td>0.0 g</td>\n      <td>1.10 g</td>\n      <td>0.00 mg</td>\n      <td>0.00 mg</td>\n      <td>73.43 g</td>\n    </tr>\n    <tr>\n      <th>8788</th>\n      <td>Beef, raw, all grades, trimmed to 0\" fat, sepa...</td>\n      <td>100 g</td>\n      <td>121</td>\n      <td>3g</td>\n      <td>1.1g</td>\n      <td>60mg</td>\n      <td>53.00 mg</td>\n      <td>64.2 mg</td>\n      <td>4.00 mcg</td>\n      <td>0.00 mcg</td>\n      <td>...</td>\n      <td>3.04 g</td>\n      <td>1.086 g</td>\n      <td>1.266 g</td>\n      <td>0.233 g</td>\n      <td>60.00 mg</td>\n      <td>0.0 g</td>\n      <td>1.10 g</td>\n      <td>0.00 mg</td>\n      <td>0.00 mg</td>\n      <td>73.43 g</td>\n    </tr>\n  </tbody>\n</table>\n<p>7199 rows × 76 columns</p>\n</div>"
     },
     "execution_count": 158,
     "metadata": {},
     "output_type": "execute_result"
    }
   ],
   "source": [
    "# Axis param\n",
    "\n",
    "nutrition.dropna(axis=0) # 0: rows, 1: columns"
   ],
   "metadata": {
    "collapsed": false,
    "ExecuteTime": {
     "end_time": "2024-07-19T06:06:16.162999Z",
     "start_time": "2024-07-19T06:06:16.053410Z"
    }
   },
   "id": "a781771ca7be2b6b",
   "execution_count": 158
  },
  {
   "cell_type": "markdown",
   "source": [
    "## Changing The Index"
   ],
   "metadata": {
    "collapsed": false
   },
   "id": "3de387de700b51ee"
  },
  {
   "cell_type": "code",
   "outputs": [
    {
     "data": {
      "text/plain": "Index([   0,    1,    2,    3,    4,    5,    6,    7,    8,    9,\n       ...\n       8779, 8780, 8781, 8782, 8783, 8784, 8785, 8786, 8787, 8788],\n      dtype='int64', length=8789)"
     },
     "execution_count": 159,
     "metadata": {},
     "output_type": "execute_result"
    }
   ],
   "source": [
    "nutrition.index"
   ],
   "metadata": {
    "collapsed": false,
    "ExecuteTime": {
     "end_time": "2024-07-19T06:06:16.164682Z",
     "start_time": "2024-07-19T06:06:16.071605Z"
    }
   },
   "id": "8c3aa17f7cb73d7c",
   "execution_count": 159
  },
  {
   "cell_type": "code",
   "outputs": [
    {
     "data": {
      "text/plain": "pandas.core.indexes.base.Index"
     },
     "execution_count": 160,
     "metadata": {},
     "output_type": "execute_result"
    }
   ],
   "source": [
    "type(nutrition.index)"
   ],
   "metadata": {
    "collapsed": false,
    "ExecuteTime": {
     "end_time": "2024-07-19T06:06:16.180042Z",
     "start_time": "2024-07-19T06:06:16.078708Z"
    }
   },
   "id": "c0b01d2cc5e6178b",
   "execution_count": 160
  },
  {
   "cell_type": "code",
   "outputs": [
    {
     "data": {
      "text/plain": "pandas.core.indexes.range.RangeIndex"
     },
     "execution_count": 161,
     "metadata": {},
     "output_type": "execute_result"
    }
   ],
   "source": [
    "nutrition.index = pd.RangeIndex(start=0, stop=8789, step=1)\n",
    "type(nutrition.index)"
   ],
   "metadata": {
    "collapsed": false,
    "ExecuteTime": {
     "end_time": "2024-07-19T06:06:16.181214Z",
     "start_time": "2024-07-19T06:06:16.084775Z"
    }
   },
   "id": "fb13635ed05354f4",
   "execution_count": 161
  },
  {
   "cell_type": "code",
   "outputs": [
    {
     "data": {
      "text/plain": "                serving_size  calories total_fat saturated_fat cholesterol  \\\nname                                                                         \nCornstarch             100 g       381      0.1g           NaN           0   \nNuts, pecans           100 g       691       72g          6.2g           0   \nEggplant, raw          100 g        25      0.2g           NaN           0   \nTeff, uncooked         100 g       367      2.4g          0.4g           0   \nSherbet, orange        100 g       144        2g          1.2g         1mg   \n\n                   sodium  choline     folate folic_acid    niacin  ...  \\\nname                                                                ...   \nCornstarch        9.00 mg   0.4 mg   0.00 mcg   0.00 mcg  0.000 mg  ...   \nNuts, pecans      0.00 mg  40.5 mg  22.00 mcg   0.00 mcg  1.167 mg  ...   \nEggplant, raw     2.00 mg   6.9 mg  22.00 mcg   0.00 mcg  0.649 mg  ...   \nTeff, uncooked   12.00 mg  13.1 mg          0          0  3.363 mg  ...   \nSherbet, orange  46.00 mg   7.7 mg   4.00 mcg   0.00 mcg  0.063 mg  ...   \n\n                     fat saturated_fatty_acids monounsaturated_fatty_acids  \\\nname                                                                         \nCornstarch        0.05 g               0.009 g                     0.016 g   \nNuts, pecans     71.97 g               6.180 g                    40.801 g   \nEggplant, raw     0.18 g               0.034 g                     0.016 g   \nTeff, uncooked    2.38 g               0.449 g                     0.589 g   \nSherbet, orange   2.00 g               1.160 g                     0.530 g   \n\n                polyunsaturated_fatty_acids fatty_acids_total_trans alcohol  \\\nname                                                                          \nCornstarch                          0.025 g                 0.00 mg   0.0 g   \nNuts, pecans                       21.614 g                 0.00 mg   0.0 g   \nEggplant, raw                       0.076 g                 0.00 mg   0.0 g   \nTeff, uncooked                      1.071 g                       0       0   \nSherbet, orange                     0.080 g                 1.00 mg   0.0 g   \n\n                    ash caffeine theobromine    water  \nname                                                   \nCornstarch       0.09 g  0.00 mg     0.00 mg   8.32 g  \nNuts, pecans     1.49 g  0.00 mg     0.00 mg   3.52 g  \nEggplant, raw    0.66 g  0.00 mg     0.00 mg  92.30 g  \nTeff, uncooked   2.37 g        0           0   8.82 g  \nSherbet, orange  0.40 g  0.00 mg     0.00 mg  66.10 g  \n\n[5 rows x 75 columns]",
      "text/html": "<div>\n<style scoped>\n    .dataframe tbody tr th:only-of-type {\n        vertical-align: middle;\n    }\n\n    .dataframe tbody tr th {\n        vertical-align: top;\n    }\n\n    .dataframe thead th {\n        text-align: right;\n    }\n</style>\n<table border=\"1\" class=\"dataframe\">\n  <thead>\n    <tr style=\"text-align: right;\">\n      <th></th>\n      <th>serving_size</th>\n      <th>calories</th>\n      <th>total_fat</th>\n      <th>saturated_fat</th>\n      <th>cholesterol</th>\n      <th>sodium</th>\n      <th>choline</th>\n      <th>folate</th>\n      <th>folic_acid</th>\n      <th>niacin</th>\n      <th>...</th>\n      <th>fat</th>\n      <th>saturated_fatty_acids</th>\n      <th>monounsaturated_fatty_acids</th>\n      <th>polyunsaturated_fatty_acids</th>\n      <th>fatty_acids_total_trans</th>\n      <th>alcohol</th>\n      <th>ash</th>\n      <th>caffeine</th>\n      <th>theobromine</th>\n      <th>water</th>\n    </tr>\n    <tr>\n      <th>name</th>\n      <th></th>\n      <th></th>\n      <th></th>\n      <th></th>\n      <th></th>\n      <th></th>\n      <th></th>\n      <th></th>\n      <th></th>\n      <th></th>\n      <th></th>\n      <th></th>\n      <th></th>\n      <th></th>\n      <th></th>\n      <th></th>\n      <th></th>\n      <th></th>\n      <th></th>\n      <th></th>\n      <th></th>\n    </tr>\n  </thead>\n  <tbody>\n    <tr>\n      <th>Cornstarch</th>\n      <td>100 g</td>\n      <td>381</td>\n      <td>0.1g</td>\n      <td>NaN</td>\n      <td>0</td>\n      <td>9.00 mg</td>\n      <td>0.4 mg</td>\n      <td>0.00 mcg</td>\n      <td>0.00 mcg</td>\n      <td>0.000 mg</td>\n      <td>...</td>\n      <td>0.05 g</td>\n      <td>0.009 g</td>\n      <td>0.016 g</td>\n      <td>0.025 g</td>\n      <td>0.00 mg</td>\n      <td>0.0 g</td>\n      <td>0.09 g</td>\n      <td>0.00 mg</td>\n      <td>0.00 mg</td>\n      <td>8.32 g</td>\n    </tr>\n    <tr>\n      <th>Nuts, pecans</th>\n      <td>100 g</td>\n      <td>691</td>\n      <td>72g</td>\n      <td>6.2g</td>\n      <td>0</td>\n      <td>0.00 mg</td>\n      <td>40.5 mg</td>\n      <td>22.00 mcg</td>\n      <td>0.00 mcg</td>\n      <td>1.167 mg</td>\n      <td>...</td>\n      <td>71.97 g</td>\n      <td>6.180 g</td>\n      <td>40.801 g</td>\n      <td>21.614 g</td>\n      <td>0.00 mg</td>\n      <td>0.0 g</td>\n      <td>1.49 g</td>\n      <td>0.00 mg</td>\n      <td>0.00 mg</td>\n      <td>3.52 g</td>\n    </tr>\n    <tr>\n      <th>Eggplant, raw</th>\n      <td>100 g</td>\n      <td>25</td>\n      <td>0.2g</td>\n      <td>NaN</td>\n      <td>0</td>\n      <td>2.00 mg</td>\n      <td>6.9 mg</td>\n      <td>22.00 mcg</td>\n      <td>0.00 mcg</td>\n      <td>0.649 mg</td>\n      <td>...</td>\n      <td>0.18 g</td>\n      <td>0.034 g</td>\n      <td>0.016 g</td>\n      <td>0.076 g</td>\n      <td>0.00 mg</td>\n      <td>0.0 g</td>\n      <td>0.66 g</td>\n      <td>0.00 mg</td>\n      <td>0.00 mg</td>\n      <td>92.30 g</td>\n    </tr>\n    <tr>\n      <th>Teff, uncooked</th>\n      <td>100 g</td>\n      <td>367</td>\n      <td>2.4g</td>\n      <td>0.4g</td>\n      <td>0</td>\n      <td>12.00 mg</td>\n      <td>13.1 mg</td>\n      <td>0</td>\n      <td>0</td>\n      <td>3.363 mg</td>\n      <td>...</td>\n      <td>2.38 g</td>\n      <td>0.449 g</td>\n      <td>0.589 g</td>\n      <td>1.071 g</td>\n      <td>0</td>\n      <td>0</td>\n      <td>2.37 g</td>\n      <td>0</td>\n      <td>0</td>\n      <td>8.82 g</td>\n    </tr>\n    <tr>\n      <th>Sherbet, orange</th>\n      <td>100 g</td>\n      <td>144</td>\n      <td>2g</td>\n      <td>1.2g</td>\n      <td>1mg</td>\n      <td>46.00 mg</td>\n      <td>7.7 mg</td>\n      <td>4.00 mcg</td>\n      <td>0.00 mcg</td>\n      <td>0.063 mg</td>\n      <td>...</td>\n      <td>2.00 g</td>\n      <td>1.160 g</td>\n      <td>0.530 g</td>\n      <td>0.080 g</td>\n      <td>1.00 mg</td>\n      <td>0.0 g</td>\n      <td>0.40 g</td>\n      <td>0.00 mg</td>\n      <td>0.00 mg</td>\n      <td>66.10 g</td>\n    </tr>\n  </tbody>\n</table>\n<p>5 rows × 75 columns</p>\n</div>"
     },
     "execution_count": 162,
     "metadata": {},
     "output_type": "execute_result"
    }
   ],
   "source": [
    "nutrition.set_index('name', inplace=True)\n",
    "nutrition.head()"
   ],
   "metadata": {
    "collapsed": false,
    "ExecuteTime": {
     "end_time": "2024-07-19T06:06:16.197270Z",
     "start_time": "2024-07-19T06:06:16.093113Z"
    }
   },
   "id": "29f944e40e21142f",
   "execution_count": 162
  },
  {
   "cell_type": "code",
   "outputs": [
    {
     "data": {
      "text/plain": "                           serving_size  calories total_fat saturated_fat  \\\nname            folic_acid                                                  \nCornstarch      0.00 mcg          100 g       381      0.1g           NaN   \nNuts, pecans    0.00 mcg          100 g       691       72g          6.2g   \nEggplant, raw   0.00 mcg          100 g        25      0.2g           NaN   \nTeff, uncooked  0                 100 g       367      2.4g          0.4g   \nSherbet, orange 0.00 mcg          100 g       144        2g          1.2g   \n\n                           cholesterol    sodium  choline     folate  \\\nname            folic_acid                                             \nCornstarch      0.00 mcg             0   9.00 mg   0.4 mg   0.00 mcg   \nNuts, pecans    0.00 mcg             0   0.00 mg  40.5 mg  22.00 mcg   \nEggplant, raw   0.00 mcg             0   2.00 mg   6.9 mg  22.00 mcg   \nTeff, uncooked  0                    0  12.00 mg  13.1 mg          0   \nSherbet, orange 0.00 mcg           1mg  46.00 mg   7.7 mg   4.00 mcg   \n\n                              niacin pantothenic_acid  ...      fat  \\\nname            folic_acid                             ...            \nCornstarch      0.00 mcg    0.000 mg         0.000 mg  ...   0.05 g   \nNuts, pecans    0.00 mcg    1.167 mg         0.863 mg  ...  71.97 g   \nEggplant, raw   0.00 mcg    0.649 mg         0.281 mg  ...   0.18 g   \nTeff, uncooked  0           3.363 mg         0.942 mg  ...   2.38 g   \nSherbet, orange 0.00 mcg    0.063 mg         0.224 mg  ...   2.00 g   \n\n                           saturated_fatty_acids monounsaturated_fatty_acids  \\\nname            folic_acid                                                     \nCornstarch      0.00 mcg                 0.009 g                     0.016 g   \nNuts, pecans    0.00 mcg                 6.180 g                    40.801 g   \nEggplant, raw   0.00 mcg                 0.034 g                     0.016 g   \nTeff, uncooked  0                        0.449 g                     0.589 g   \nSherbet, orange 0.00 mcg                 1.160 g                     0.530 g   \n\n                           polyunsaturated_fatty_acids  \\\nname            folic_acid                               \nCornstarch      0.00 mcg                       0.025 g   \nNuts, pecans    0.00 mcg                      21.614 g   \nEggplant, raw   0.00 mcg                       0.076 g   \nTeff, uncooked  0                              1.071 g   \nSherbet, orange 0.00 mcg                       0.080 g   \n\n                           fatty_acids_total_trans alcohol     ash caffeine  \\\nname            folic_acid                                                    \nCornstarch      0.00 mcg                   0.00 mg   0.0 g  0.09 g  0.00 mg   \nNuts, pecans    0.00 mcg                   0.00 mg   0.0 g  1.49 g  0.00 mg   \nEggplant, raw   0.00 mcg                   0.00 mg   0.0 g  0.66 g  0.00 mg   \nTeff, uncooked  0                                0       0  2.37 g        0   \nSherbet, orange 0.00 mcg                   1.00 mg   0.0 g  0.40 g  0.00 mg   \n\n                            theobromine    water  \nname            folic_acid                        \nCornstarch      0.00 mcg        0.00 mg   8.32 g  \nNuts, pecans    0.00 mcg        0.00 mg   3.52 g  \nEggplant, raw   0.00 mcg        0.00 mg  92.30 g  \nTeff, uncooked  0                     0   8.82 g  \nSherbet, orange 0.00 mcg        0.00 mg  66.10 g  \n\n[5 rows x 74 columns]",
      "text/html": "<div>\n<style scoped>\n    .dataframe tbody tr th:only-of-type {\n        vertical-align: middle;\n    }\n\n    .dataframe tbody tr th {\n        vertical-align: top;\n    }\n\n    .dataframe thead th {\n        text-align: right;\n    }\n</style>\n<table border=\"1\" class=\"dataframe\">\n  <thead>\n    <tr style=\"text-align: right;\">\n      <th></th>\n      <th></th>\n      <th>serving_size</th>\n      <th>calories</th>\n      <th>total_fat</th>\n      <th>saturated_fat</th>\n      <th>cholesterol</th>\n      <th>sodium</th>\n      <th>choline</th>\n      <th>folate</th>\n      <th>niacin</th>\n      <th>pantothenic_acid</th>\n      <th>...</th>\n      <th>fat</th>\n      <th>saturated_fatty_acids</th>\n      <th>monounsaturated_fatty_acids</th>\n      <th>polyunsaturated_fatty_acids</th>\n      <th>fatty_acids_total_trans</th>\n      <th>alcohol</th>\n      <th>ash</th>\n      <th>caffeine</th>\n      <th>theobromine</th>\n      <th>water</th>\n    </tr>\n    <tr>\n      <th>name</th>\n      <th>folic_acid</th>\n      <th></th>\n      <th></th>\n      <th></th>\n      <th></th>\n      <th></th>\n      <th></th>\n      <th></th>\n      <th></th>\n      <th></th>\n      <th></th>\n      <th></th>\n      <th></th>\n      <th></th>\n      <th></th>\n      <th></th>\n      <th></th>\n      <th></th>\n      <th></th>\n      <th></th>\n      <th></th>\n      <th></th>\n    </tr>\n  </thead>\n  <tbody>\n    <tr>\n      <th>Cornstarch</th>\n      <th>0.00 mcg</th>\n      <td>100 g</td>\n      <td>381</td>\n      <td>0.1g</td>\n      <td>NaN</td>\n      <td>0</td>\n      <td>9.00 mg</td>\n      <td>0.4 mg</td>\n      <td>0.00 mcg</td>\n      <td>0.000 mg</td>\n      <td>0.000 mg</td>\n      <td>...</td>\n      <td>0.05 g</td>\n      <td>0.009 g</td>\n      <td>0.016 g</td>\n      <td>0.025 g</td>\n      <td>0.00 mg</td>\n      <td>0.0 g</td>\n      <td>0.09 g</td>\n      <td>0.00 mg</td>\n      <td>0.00 mg</td>\n      <td>8.32 g</td>\n    </tr>\n    <tr>\n      <th>Nuts, pecans</th>\n      <th>0.00 mcg</th>\n      <td>100 g</td>\n      <td>691</td>\n      <td>72g</td>\n      <td>6.2g</td>\n      <td>0</td>\n      <td>0.00 mg</td>\n      <td>40.5 mg</td>\n      <td>22.00 mcg</td>\n      <td>1.167 mg</td>\n      <td>0.863 mg</td>\n      <td>...</td>\n      <td>71.97 g</td>\n      <td>6.180 g</td>\n      <td>40.801 g</td>\n      <td>21.614 g</td>\n      <td>0.00 mg</td>\n      <td>0.0 g</td>\n      <td>1.49 g</td>\n      <td>0.00 mg</td>\n      <td>0.00 mg</td>\n      <td>3.52 g</td>\n    </tr>\n    <tr>\n      <th>Eggplant, raw</th>\n      <th>0.00 mcg</th>\n      <td>100 g</td>\n      <td>25</td>\n      <td>0.2g</td>\n      <td>NaN</td>\n      <td>0</td>\n      <td>2.00 mg</td>\n      <td>6.9 mg</td>\n      <td>22.00 mcg</td>\n      <td>0.649 mg</td>\n      <td>0.281 mg</td>\n      <td>...</td>\n      <td>0.18 g</td>\n      <td>0.034 g</td>\n      <td>0.016 g</td>\n      <td>0.076 g</td>\n      <td>0.00 mg</td>\n      <td>0.0 g</td>\n      <td>0.66 g</td>\n      <td>0.00 mg</td>\n      <td>0.00 mg</td>\n      <td>92.30 g</td>\n    </tr>\n    <tr>\n      <th>Teff, uncooked</th>\n      <th>0</th>\n      <td>100 g</td>\n      <td>367</td>\n      <td>2.4g</td>\n      <td>0.4g</td>\n      <td>0</td>\n      <td>12.00 mg</td>\n      <td>13.1 mg</td>\n      <td>0</td>\n      <td>3.363 mg</td>\n      <td>0.942 mg</td>\n      <td>...</td>\n      <td>2.38 g</td>\n      <td>0.449 g</td>\n      <td>0.589 g</td>\n      <td>1.071 g</td>\n      <td>0</td>\n      <td>0</td>\n      <td>2.37 g</td>\n      <td>0</td>\n      <td>0</td>\n      <td>8.82 g</td>\n    </tr>\n    <tr>\n      <th>Sherbet, orange</th>\n      <th>0.00 mcg</th>\n      <td>100 g</td>\n      <td>144</td>\n      <td>2g</td>\n      <td>1.2g</td>\n      <td>1mg</td>\n      <td>46.00 mg</td>\n      <td>7.7 mg</td>\n      <td>4.00 mcg</td>\n      <td>0.063 mg</td>\n      <td>0.224 mg</td>\n      <td>...</td>\n      <td>2.00 g</td>\n      <td>1.160 g</td>\n      <td>0.530 g</td>\n      <td>0.080 g</td>\n      <td>1.00 mg</td>\n      <td>0.0 g</td>\n      <td>0.40 g</td>\n      <td>0.00 mg</td>\n      <td>0.00 mg</td>\n      <td>66.10 g</td>\n    </tr>\n  </tbody>\n</table>\n<p>5 rows × 74 columns</p>\n</div>"
     },
     "execution_count": 164,
     "metadata": {},
     "output_type": "execute_result"
    }
   ],
   "source": [
    "nutrition.set_index('folic_acid', drop=True, append=True, verify_integrity=True).head()"
   ],
   "metadata": {
    "collapsed": false,
    "ExecuteTime": {
     "end_time": "2024-07-19T06:06:44.234839Z",
     "start_time": "2024-07-19T06:06:44.185634Z"
    }
   },
   "id": "d9fedefdf691e9a6",
   "execution_count": 164
  },
  {
   "cell_type": "code",
   "outputs": [
    {
     "data": {
      "text/plain": "calories\n884    78\n47     45\n56     43\n0      39\n50     38\n       ..\n549     1\n643     1\n556     1\n584     1\n605     1\nName: count, Length: 671, dtype: int64"
     },
     "execution_count": 165,
     "metadata": {},
     "output_type": "execute_result"
    }
   ],
   "source": [
    "nutrition.calories.value_counts()"
   ],
   "metadata": {
    "collapsed": false,
    "ExecuteTime": {
     "end_time": "2024-07-19T06:07:14.260700Z",
     "start_time": "2024-07-19T06:07:14.228671Z"
    }
   },
   "id": "fda43a87c339ab49",
   "execution_count": 165
  },
  {
   "cell_type": "code",
   "outputs": [
    {
     "data": {
      "text/plain": "         serving_size total_fat saturated_fat cholesterol    sodium  choline  \\\ncalories                                                                       \n381             100 g      0.1g           NaN           0   9.00 mg   0.4 mg   \n691             100 g       72g          6.2g           0   0.00 mg  40.5 mg   \n25              100 g      0.2g           NaN           0   2.00 mg   6.9 mg   \n367             100 g      2.4g          0.4g           0  12.00 mg  13.1 mg   \n144             100 g        2g          1.2g         1mg  46.00 mg   7.7 mg   \n\n             folate folic_acid    niacin pantothenic_acid  ...      fat  \\\ncalories                                                   ...            \n381        0.00 mcg   0.00 mcg  0.000 mg         0.000 mg  ...   0.05 g   \n691       22.00 mcg   0.00 mcg  1.167 mg         0.863 mg  ...  71.97 g   \n25        22.00 mcg   0.00 mcg  0.649 mg         0.281 mg  ...   0.18 g   \n367               0          0  3.363 mg         0.942 mg  ...   2.38 g   \n144        4.00 mcg   0.00 mcg  0.063 mg         0.224 mg  ...   2.00 g   \n\n         saturated_fatty_acids monounsaturated_fatty_acids  \\\ncalories                                                     \n381                    0.009 g                     0.016 g   \n691                    6.180 g                    40.801 g   \n25                     0.034 g                     0.016 g   \n367                    0.449 g                     0.589 g   \n144                    1.160 g                     0.530 g   \n\n         polyunsaturated_fatty_acids fatty_acids_total_trans alcohol     ash  \\\ncalories                                                                       \n381                          0.025 g                 0.00 mg   0.0 g  0.09 g   \n691                         21.614 g                 0.00 mg   0.0 g  1.49 g   \n25                           0.076 g                 0.00 mg   0.0 g  0.66 g   \n367                          1.071 g                       0       0  2.37 g   \n144                          0.080 g                 1.00 mg   0.0 g  0.40 g   \n\n         caffeine  theobromine    water  \ncalories                                 \n381       0.00 mg      0.00 mg   8.32 g  \n691       0.00 mg      0.00 mg   3.52 g  \n25        0.00 mg      0.00 mg  92.30 g  \n367             0            0   8.82 g  \n144       0.00 mg      0.00 mg  66.10 g  \n\n[5 rows x 74 columns]",
      "text/html": "<div>\n<style scoped>\n    .dataframe tbody tr th:only-of-type {\n        vertical-align: middle;\n    }\n\n    .dataframe tbody tr th {\n        vertical-align: top;\n    }\n\n    .dataframe thead th {\n        text-align: right;\n    }\n</style>\n<table border=\"1\" class=\"dataframe\">\n  <thead>\n    <tr style=\"text-align: right;\">\n      <th></th>\n      <th>serving_size</th>\n      <th>total_fat</th>\n      <th>saturated_fat</th>\n      <th>cholesterol</th>\n      <th>sodium</th>\n      <th>choline</th>\n      <th>folate</th>\n      <th>folic_acid</th>\n      <th>niacin</th>\n      <th>pantothenic_acid</th>\n      <th>...</th>\n      <th>fat</th>\n      <th>saturated_fatty_acids</th>\n      <th>monounsaturated_fatty_acids</th>\n      <th>polyunsaturated_fatty_acids</th>\n      <th>fatty_acids_total_trans</th>\n      <th>alcohol</th>\n      <th>ash</th>\n      <th>caffeine</th>\n      <th>theobromine</th>\n      <th>water</th>\n    </tr>\n    <tr>\n      <th>calories</th>\n      <th></th>\n      <th></th>\n      <th></th>\n      <th></th>\n      <th></th>\n      <th></th>\n      <th></th>\n      <th></th>\n      <th></th>\n      <th></th>\n      <th></th>\n      <th></th>\n      <th></th>\n      <th></th>\n      <th></th>\n      <th></th>\n      <th></th>\n      <th></th>\n      <th></th>\n      <th></th>\n      <th></th>\n    </tr>\n  </thead>\n  <tbody>\n    <tr>\n      <th>381</th>\n      <td>100 g</td>\n      <td>0.1g</td>\n      <td>NaN</td>\n      <td>0</td>\n      <td>9.00 mg</td>\n      <td>0.4 mg</td>\n      <td>0.00 mcg</td>\n      <td>0.00 mcg</td>\n      <td>0.000 mg</td>\n      <td>0.000 mg</td>\n      <td>...</td>\n      <td>0.05 g</td>\n      <td>0.009 g</td>\n      <td>0.016 g</td>\n      <td>0.025 g</td>\n      <td>0.00 mg</td>\n      <td>0.0 g</td>\n      <td>0.09 g</td>\n      <td>0.00 mg</td>\n      <td>0.00 mg</td>\n      <td>8.32 g</td>\n    </tr>\n    <tr>\n      <th>691</th>\n      <td>100 g</td>\n      <td>72g</td>\n      <td>6.2g</td>\n      <td>0</td>\n      <td>0.00 mg</td>\n      <td>40.5 mg</td>\n      <td>22.00 mcg</td>\n      <td>0.00 mcg</td>\n      <td>1.167 mg</td>\n      <td>0.863 mg</td>\n      <td>...</td>\n      <td>71.97 g</td>\n      <td>6.180 g</td>\n      <td>40.801 g</td>\n      <td>21.614 g</td>\n      <td>0.00 mg</td>\n      <td>0.0 g</td>\n      <td>1.49 g</td>\n      <td>0.00 mg</td>\n      <td>0.00 mg</td>\n      <td>3.52 g</td>\n    </tr>\n    <tr>\n      <th>25</th>\n      <td>100 g</td>\n      <td>0.2g</td>\n      <td>NaN</td>\n      <td>0</td>\n      <td>2.00 mg</td>\n      <td>6.9 mg</td>\n      <td>22.00 mcg</td>\n      <td>0.00 mcg</td>\n      <td>0.649 mg</td>\n      <td>0.281 mg</td>\n      <td>...</td>\n      <td>0.18 g</td>\n      <td>0.034 g</td>\n      <td>0.016 g</td>\n      <td>0.076 g</td>\n      <td>0.00 mg</td>\n      <td>0.0 g</td>\n      <td>0.66 g</td>\n      <td>0.00 mg</td>\n      <td>0.00 mg</td>\n      <td>92.30 g</td>\n    </tr>\n    <tr>\n      <th>367</th>\n      <td>100 g</td>\n      <td>2.4g</td>\n      <td>0.4g</td>\n      <td>0</td>\n      <td>12.00 mg</td>\n      <td>13.1 mg</td>\n      <td>0</td>\n      <td>0</td>\n      <td>3.363 mg</td>\n      <td>0.942 mg</td>\n      <td>...</td>\n      <td>2.38 g</td>\n      <td>0.449 g</td>\n      <td>0.589 g</td>\n      <td>1.071 g</td>\n      <td>0</td>\n      <td>0</td>\n      <td>2.37 g</td>\n      <td>0</td>\n      <td>0</td>\n      <td>8.82 g</td>\n    </tr>\n    <tr>\n      <th>144</th>\n      <td>100 g</td>\n      <td>2g</td>\n      <td>1.2g</td>\n      <td>1mg</td>\n      <td>46.00 mg</td>\n      <td>7.7 mg</td>\n      <td>4.00 mcg</td>\n      <td>0.00 mcg</td>\n      <td>0.063 mg</td>\n      <td>0.224 mg</td>\n      <td>...</td>\n      <td>2.00 g</td>\n      <td>1.160 g</td>\n      <td>0.530 g</td>\n      <td>0.080 g</td>\n      <td>1.00 mg</td>\n      <td>0.0 g</td>\n      <td>0.40 g</td>\n      <td>0.00 mg</td>\n      <td>0.00 mg</td>\n      <td>66.10 g</td>\n    </tr>\n  </tbody>\n</table>\n<p>5 rows × 74 columns</p>\n</div>"
     },
     "execution_count": 167,
     "metadata": {},
     "output_type": "execute_result"
    }
   ],
   "source": [
    "# nutrition.set_index('calories', verify_integrity=True).head()\n",
    "nutrition.set_index('calories', verify_integrity=False).head()"
   ],
   "metadata": {
    "collapsed": false,
    "ExecuteTime": {
     "end_time": "2024-07-19T06:08:05.790347Z",
     "start_time": "2024-07-19T06:08:05.770697Z"
    }
   },
   "id": "db78e222f04f268e",
   "execution_count": 167
  },
  {
   "cell_type": "markdown",
   "source": [
    "## Extracting From DataFrame By Label"
   ],
   "metadata": {
    "collapsed": false
   },
   "id": "8ef74dc4aab4b46d"
  },
  {
   "cell_type": "code",
   "outputs": [
    {
     "data": {
      "text/plain": "                serving_size  calories total_fat saturated_fat cholesterol  \\\nname                                                                         \nCornstarch             100 g       381      0.1g           NaN           0   \nNuts, pecans           100 g       691       72g          6.2g           0   \nEggplant, raw          100 g        25      0.2g           NaN           0   \nTeff, uncooked         100 g       367      2.4g          0.4g           0   \nSherbet, orange        100 g       144        2g          1.2g         1mg   \n\n                   sodium  choline     folate folic_acid    niacin  ...  \\\nname                                                                ...   \nCornstarch        9.00 mg   0.4 mg   0.00 mcg   0.00 mcg  0.000 mg  ...   \nNuts, pecans      0.00 mg  40.5 mg  22.00 mcg   0.00 mcg  1.167 mg  ...   \nEggplant, raw     2.00 mg   6.9 mg  22.00 mcg   0.00 mcg  0.649 mg  ...   \nTeff, uncooked   12.00 mg  13.1 mg          0          0  3.363 mg  ...   \nSherbet, orange  46.00 mg   7.7 mg   4.00 mcg   0.00 mcg  0.063 mg  ...   \n\n                     fat saturated_fatty_acids monounsaturated_fatty_acids  \\\nname                                                                         \nCornstarch        0.05 g               0.009 g                     0.016 g   \nNuts, pecans     71.97 g               6.180 g                    40.801 g   \nEggplant, raw     0.18 g               0.034 g                     0.016 g   \nTeff, uncooked    2.38 g               0.449 g                     0.589 g   \nSherbet, orange   2.00 g               1.160 g                     0.530 g   \n\n                polyunsaturated_fatty_acids fatty_acids_total_trans alcohol  \\\nname                                                                          \nCornstarch                          0.025 g                 0.00 mg   0.0 g   \nNuts, pecans                       21.614 g                 0.00 mg   0.0 g   \nEggplant, raw                       0.076 g                 0.00 mg   0.0 g   \nTeff, uncooked                      1.071 g                       0       0   \nSherbet, orange                     0.080 g                 1.00 mg   0.0 g   \n\n                    ash caffeine theobromine    water  \nname                                                   \nCornstarch       0.09 g  0.00 mg     0.00 mg   8.32 g  \nNuts, pecans     1.49 g  0.00 mg     0.00 mg   3.52 g  \nEggplant, raw    0.66 g  0.00 mg     0.00 mg  92.30 g  \nTeff, uncooked   2.37 g        0           0   8.82 g  \nSherbet, orange  0.40 g  0.00 mg     0.00 mg  66.10 g  \n\n[5 rows x 75 columns]",
      "text/html": "<div>\n<style scoped>\n    .dataframe tbody tr th:only-of-type {\n        vertical-align: middle;\n    }\n\n    .dataframe tbody tr th {\n        vertical-align: top;\n    }\n\n    .dataframe thead th {\n        text-align: right;\n    }\n</style>\n<table border=\"1\" class=\"dataframe\">\n  <thead>\n    <tr style=\"text-align: right;\">\n      <th></th>\n      <th>serving_size</th>\n      <th>calories</th>\n      <th>total_fat</th>\n      <th>saturated_fat</th>\n      <th>cholesterol</th>\n      <th>sodium</th>\n      <th>choline</th>\n      <th>folate</th>\n      <th>folic_acid</th>\n      <th>niacin</th>\n      <th>...</th>\n      <th>fat</th>\n      <th>saturated_fatty_acids</th>\n      <th>monounsaturated_fatty_acids</th>\n      <th>polyunsaturated_fatty_acids</th>\n      <th>fatty_acids_total_trans</th>\n      <th>alcohol</th>\n      <th>ash</th>\n      <th>caffeine</th>\n      <th>theobromine</th>\n      <th>water</th>\n    </tr>\n    <tr>\n      <th>name</th>\n      <th></th>\n      <th></th>\n      <th></th>\n      <th></th>\n      <th></th>\n      <th></th>\n      <th></th>\n      <th></th>\n      <th></th>\n      <th></th>\n      <th></th>\n      <th></th>\n      <th></th>\n      <th></th>\n      <th></th>\n      <th></th>\n      <th></th>\n      <th></th>\n      <th></th>\n      <th></th>\n      <th></th>\n    </tr>\n  </thead>\n  <tbody>\n    <tr>\n      <th>Cornstarch</th>\n      <td>100 g</td>\n      <td>381</td>\n      <td>0.1g</td>\n      <td>NaN</td>\n      <td>0</td>\n      <td>9.00 mg</td>\n      <td>0.4 mg</td>\n      <td>0.00 mcg</td>\n      <td>0.00 mcg</td>\n      <td>0.000 mg</td>\n      <td>...</td>\n      <td>0.05 g</td>\n      <td>0.009 g</td>\n      <td>0.016 g</td>\n      <td>0.025 g</td>\n      <td>0.00 mg</td>\n      <td>0.0 g</td>\n      <td>0.09 g</td>\n      <td>0.00 mg</td>\n      <td>0.00 mg</td>\n      <td>8.32 g</td>\n    </tr>\n    <tr>\n      <th>Nuts, pecans</th>\n      <td>100 g</td>\n      <td>691</td>\n      <td>72g</td>\n      <td>6.2g</td>\n      <td>0</td>\n      <td>0.00 mg</td>\n      <td>40.5 mg</td>\n      <td>22.00 mcg</td>\n      <td>0.00 mcg</td>\n      <td>1.167 mg</td>\n      <td>...</td>\n      <td>71.97 g</td>\n      <td>6.180 g</td>\n      <td>40.801 g</td>\n      <td>21.614 g</td>\n      <td>0.00 mg</td>\n      <td>0.0 g</td>\n      <td>1.49 g</td>\n      <td>0.00 mg</td>\n      <td>0.00 mg</td>\n      <td>3.52 g</td>\n    </tr>\n    <tr>\n      <th>Eggplant, raw</th>\n      <td>100 g</td>\n      <td>25</td>\n      <td>0.2g</td>\n      <td>NaN</td>\n      <td>0</td>\n      <td>2.00 mg</td>\n      <td>6.9 mg</td>\n      <td>22.00 mcg</td>\n      <td>0.00 mcg</td>\n      <td>0.649 mg</td>\n      <td>...</td>\n      <td>0.18 g</td>\n      <td>0.034 g</td>\n      <td>0.016 g</td>\n      <td>0.076 g</td>\n      <td>0.00 mg</td>\n      <td>0.0 g</td>\n      <td>0.66 g</td>\n      <td>0.00 mg</td>\n      <td>0.00 mg</td>\n      <td>92.30 g</td>\n    </tr>\n    <tr>\n      <th>Teff, uncooked</th>\n      <td>100 g</td>\n      <td>367</td>\n      <td>2.4g</td>\n      <td>0.4g</td>\n      <td>0</td>\n      <td>12.00 mg</td>\n      <td>13.1 mg</td>\n      <td>0</td>\n      <td>0</td>\n      <td>3.363 mg</td>\n      <td>...</td>\n      <td>2.38 g</td>\n      <td>0.449 g</td>\n      <td>0.589 g</td>\n      <td>1.071 g</td>\n      <td>0</td>\n      <td>0</td>\n      <td>2.37 g</td>\n      <td>0</td>\n      <td>0</td>\n      <td>8.82 g</td>\n    </tr>\n    <tr>\n      <th>Sherbet, orange</th>\n      <td>100 g</td>\n      <td>144</td>\n      <td>2g</td>\n      <td>1.2g</td>\n      <td>1mg</td>\n      <td>46.00 mg</td>\n      <td>7.7 mg</td>\n      <td>4.00 mcg</td>\n      <td>0.00 mcg</td>\n      <td>0.063 mg</td>\n      <td>...</td>\n      <td>2.00 g</td>\n      <td>1.160 g</td>\n      <td>0.530 g</td>\n      <td>0.080 g</td>\n      <td>1.00 mg</td>\n      <td>0.0 g</td>\n      <td>0.40 g</td>\n      <td>0.00 mg</td>\n      <td>0.00 mg</td>\n      <td>66.10 g</td>\n    </tr>\n  </tbody>\n</table>\n<p>5 rows × 75 columns</p>\n</div>"
     },
     "execution_count": 168,
     "metadata": {},
     "output_type": "execute_result"
    }
   ],
   "source": [
    "nutrition.head()"
   ],
   "metadata": {
    "collapsed": false,
    "ExecuteTime": {
     "end_time": "2024-07-19T06:09:28.689248Z",
     "start_time": "2024-07-19T06:09:28.674070Z"
    }
   },
   "id": "63e3e4f94ef096cd",
   "execution_count": 168
  },
  {
   "cell_type": "code",
   "outputs": [
    {
     "data": {
      "text/plain": "serving_size       100 g\ncalories              25\ntotal_fat           0.2g\nsaturated_fat        NaN\ncholesterol            0\n                  ...   \nalcohol            0.0 g\nash               0.66 g\ncaffeine         0.00 mg\ntheobromine      0.00 mg\nwater            92.30 g\nName: Eggplant, raw, Length: 75, dtype: object"
     },
     "execution_count": 170,
     "metadata": {},
     "output_type": "execute_result"
    }
   ],
   "source": [
    "nutrition.loc['Eggplant, raw']"
   ],
   "metadata": {
    "collapsed": false,
    "ExecuteTime": {
     "end_time": "2024-07-19T06:09:51.115392Z",
     "start_time": "2024-07-19T06:09:51.088548Z"
    }
   },
   "id": "c8ddcb54d8f892b0",
   "execution_count": 170
  },
  {
   "cell_type": "code",
   "outputs": [
    {
     "data": {
      "text/plain": "pandas.core.series.Series"
     },
     "execution_count": 173,
     "metadata": {},
     "output_type": "execute_result"
    }
   ],
   "source": [
    "type(nutrition.loc['Eggplant, raw'])"
   ],
   "metadata": {
    "collapsed": false,
    "ExecuteTime": {
     "end_time": "2024-07-19T06:10:21.971634Z",
     "start_time": "2024-07-19T06:10:21.956312Z"
    }
   },
   "id": "5f99b5b3fa1bd6f4",
   "execution_count": 173
  },
  {
   "cell_type": "code",
   "outputs": [
    {
     "data": {
      "text/plain": "(np.int64(25), np.int64(25))"
     },
     "execution_count": 176,
     "metadata": {},
     "output_type": "execute_result"
    }
   ],
   "source": [
    "nutrition.loc['Eggplant, raw']['calories'], nutrition.loc['Eggplant, raw', 'calories']"
   ],
   "metadata": {
    "collapsed": false,
    "ExecuteTime": {
     "end_time": "2024-07-19T06:11:41.461169Z",
     "start_time": "2024-07-19T06:11:41.449112Z"
    }
   },
   "id": "f14f81a9075b66ed",
   "execution_count": 176
  },
  {
   "cell_type": "code",
   "outputs": [
    {
     "data": {
      "text/plain": "                 calories total_fat saturated_fat cholesterol\nname                                                         \nEggplant, raw          25      0.2g           NaN           0\nTeff, uncooked        367      2.4g          0.4g           0\nSherbet, orange       144        2g          1.2g         1mg",
      "text/html": "<div>\n<style scoped>\n    .dataframe tbody tr th:only-of-type {\n        vertical-align: middle;\n    }\n\n    .dataframe tbody tr th {\n        vertical-align: top;\n    }\n\n    .dataframe thead th {\n        text-align: right;\n    }\n</style>\n<table border=\"1\" class=\"dataframe\">\n  <thead>\n    <tr style=\"text-align: right;\">\n      <th></th>\n      <th>calories</th>\n      <th>total_fat</th>\n      <th>saturated_fat</th>\n      <th>cholesterol</th>\n    </tr>\n    <tr>\n      <th>name</th>\n      <th></th>\n      <th></th>\n      <th></th>\n      <th></th>\n    </tr>\n  </thead>\n  <tbody>\n    <tr>\n      <th>Eggplant, raw</th>\n      <td>25</td>\n      <td>0.2g</td>\n      <td>NaN</td>\n      <td>0</td>\n    </tr>\n    <tr>\n      <th>Teff, uncooked</th>\n      <td>367</td>\n      <td>2.4g</td>\n      <td>0.4g</td>\n      <td>0</td>\n    </tr>\n    <tr>\n      <th>Sherbet, orange</th>\n      <td>144</td>\n      <td>2g</td>\n      <td>1.2g</td>\n      <td>1mg</td>\n    </tr>\n  </tbody>\n</table>\n</div>"
     },
     "execution_count": 177,
     "metadata": {},
     "output_type": "execute_result"
    }
   ],
   "source": [
    "nutrition.loc['Eggplant, raw':'Sherbet, orange', 'calories':'cholesterol']"
   ],
   "metadata": {
    "collapsed": false,
    "ExecuteTime": {
     "end_time": "2024-07-19T06:13:01.868512Z",
     "start_time": "2024-07-19T06:13:01.834951Z"
    }
   },
   "id": "17e7c0b40ae6d37d",
   "execution_count": 177
  },
  {
   "cell_type": "code",
   "outputs": [
    {
     "data": {
      "text/plain": "                  protein vitamin_b6    water\nname                                         \nRaspberries, raw   1.20 g   0.055 mg  85.75 g\nBlackberries, raw  1.39 g   0.030 mg  88.15 g",
      "text/html": "<div>\n<style scoped>\n    .dataframe tbody tr th:only-of-type {\n        vertical-align: middle;\n    }\n\n    .dataframe tbody tr th {\n        vertical-align: top;\n    }\n\n    .dataframe thead th {\n        text-align: right;\n    }\n</style>\n<table border=\"1\" class=\"dataframe\">\n  <thead>\n    <tr style=\"text-align: right;\">\n      <th></th>\n      <th>protein</th>\n      <th>vitamin_b6</th>\n      <th>water</th>\n    </tr>\n    <tr>\n      <th>name</th>\n      <th></th>\n      <th></th>\n      <th></th>\n    </tr>\n  </thead>\n  <tbody>\n    <tr>\n      <th>Raspberries, raw</th>\n      <td>1.20 g</td>\n      <td>0.055 mg</td>\n      <td>85.75 g</td>\n    </tr>\n    <tr>\n      <th>Blackberries, raw</th>\n      <td>1.39 g</td>\n      <td>0.030 mg</td>\n      <td>88.15 g</td>\n    </tr>\n  </tbody>\n</table>\n</div>"
     },
     "execution_count": 181,
     "metadata": {},
     "output_type": "execute_result"
    }
   ],
   "source": [
    "nutrition.loc[\n",
    "    ['Raspberries, raw', 'Blackberries, raw'],\n",
    "    ['protein', 'vitamin_b6', 'water']\n",
    "]"
   ],
   "metadata": {
    "collapsed": false,
    "ExecuteTime": {
     "end_time": "2024-07-19T06:48:13.908819Z",
     "start_time": "2024-07-19T06:48:13.898366Z"
    }
   },
   "id": "51d8cc69cc8c7e11",
   "execution_count": 181
  },
  {
   "cell_type": "markdown",
   "source": [
    "## DataFrame Extraction By Position"
   ],
   "metadata": {
    "collapsed": false
   },
   "id": "d69c51130adfc4f5"
  },
  {
   "cell_type": "code",
   "outputs": [
    {
     "data": {
      "text/plain": "serving_size      100 g\ncalories            367\ntotal_fat          2.4g\nsaturated_fat      0.4g\ncholesterol           0\n                  ...  \nalcohol               0\nash              2.37 g\ncaffeine              0\ntheobromine           0\nwater            8.82 g\nName: Teff, uncooked, Length: 75, dtype: object"
     },
     "execution_count": 182,
     "metadata": {},
     "output_type": "execute_result"
    }
   ],
   "source": [
    "nutrition.iloc[3]"
   ],
   "metadata": {
    "collapsed": false,
    "ExecuteTime": {
     "end_time": "2024-07-19T06:50:41.855942Z",
     "start_time": "2024-07-19T06:50:41.828799Z"
    }
   },
   "id": "7e4e092dfec42833",
   "execution_count": 182
  },
  {
   "cell_type": "code",
   "outputs": [
    {
     "data": {
      "text/plain": "serving_size      100 g\ncalories            367\ntotal_fat          2.4g\nsaturated_fat      0.4g\ncholesterol           0\n                  ...  \nalcohol               0\nash              2.37 g\ncaffeine              0\ntheobromine           0\nwater            8.82 g\nName: Teff, uncooked, Length: 75, dtype: object"
     },
     "execution_count": 184,
     "metadata": {},
     "output_type": "execute_result"
    }
   ],
   "source": [
    "nutrition.iloc[3, :]"
   ],
   "metadata": {
    "collapsed": false,
    "ExecuteTime": {
     "end_time": "2024-07-19T06:51:07.999696Z",
     "start_time": "2024-07-19T06:51:07.981656Z"
    }
   },
   "id": "5171bc914f07debf",
   "execution_count": 184
  },
  {
   "cell_type": "code",
   "outputs": [
    {
     "data": {
      "text/plain": "                   serving_size  calories total_fat saturated_fat cholesterol  \\\nname                                                                            \nSherbet, orange           100 g       144        2g          1.2g         1mg   \nTaro leaves, raw          100 g        42      0.7g          0.2g           0   \nVegetarian fillets        100 g       290       18g          2.8g           0   \n\n                       sodium  choline      folate folic_acid     niacin  ...  \\\nname                                                                      ...   \nSherbet, orange      46.00 mg   7.7 mg    4.00 mcg   0.00 mcg   0.063 mg  ...   \nTaro leaves, raw      3.00 mg  12.8 mg  126.00 mcg   0.00 mcg   1.513 mg  ...   \nVegetarian fillets  490.00 mg  82.0 mg  102.00 mcg   0.00 mcg  12.000 mg  ...   \n\n                        fat saturated_fatty_acids monounsaturated_fatty_acids  \\\nname                                                                            \nSherbet, orange      2.00 g               1.160 g                     0.530 g   \nTaro leaves, raw     0.74 g               0.151 g                     0.060 g   \nVegetarian fillets  18.00 g               2.849 g                     4.376 g   \n\n                   polyunsaturated_fatty_acids fatty_acids_total_trans  \\\nname                                                                     \nSherbet, orange                        0.080 g                 1.00 mg   \nTaro leaves, raw                       0.307 g                 0.00 mg   \nVegetarian fillets                     9.332 g                 0.00 mg   \n\n                   alcohol     ash caffeine theobromine    water  \nname                                                              \nSherbet, orange      0.0 g  0.40 g  0.00 mg     0.00 mg  66.10 g  \nTaro leaves, raw     0.0 g  1.92 g  0.00 mg     0.00 mg  85.66 g  \nVegetarian fillets   0.0 g  5.00 g  0.00 mg     0.00 mg  45.00 g  \n\n[3 rows x 75 columns]",
      "text/html": "<div>\n<style scoped>\n    .dataframe tbody tr th:only-of-type {\n        vertical-align: middle;\n    }\n\n    .dataframe tbody tr th {\n        vertical-align: top;\n    }\n\n    .dataframe thead th {\n        text-align: right;\n    }\n</style>\n<table border=\"1\" class=\"dataframe\">\n  <thead>\n    <tr style=\"text-align: right;\">\n      <th></th>\n      <th>serving_size</th>\n      <th>calories</th>\n      <th>total_fat</th>\n      <th>saturated_fat</th>\n      <th>cholesterol</th>\n      <th>sodium</th>\n      <th>choline</th>\n      <th>folate</th>\n      <th>folic_acid</th>\n      <th>niacin</th>\n      <th>...</th>\n      <th>fat</th>\n      <th>saturated_fatty_acids</th>\n      <th>monounsaturated_fatty_acids</th>\n      <th>polyunsaturated_fatty_acids</th>\n      <th>fatty_acids_total_trans</th>\n      <th>alcohol</th>\n      <th>ash</th>\n      <th>caffeine</th>\n      <th>theobromine</th>\n      <th>water</th>\n    </tr>\n    <tr>\n      <th>name</th>\n      <th></th>\n      <th></th>\n      <th></th>\n      <th></th>\n      <th></th>\n      <th></th>\n      <th></th>\n      <th></th>\n      <th></th>\n      <th></th>\n      <th></th>\n      <th></th>\n      <th></th>\n      <th></th>\n      <th></th>\n      <th></th>\n      <th></th>\n      <th></th>\n      <th></th>\n      <th></th>\n      <th></th>\n    </tr>\n  </thead>\n  <tbody>\n    <tr>\n      <th>Sherbet, orange</th>\n      <td>100 g</td>\n      <td>144</td>\n      <td>2g</td>\n      <td>1.2g</td>\n      <td>1mg</td>\n      <td>46.00 mg</td>\n      <td>7.7 mg</td>\n      <td>4.00 mcg</td>\n      <td>0.00 mcg</td>\n      <td>0.063 mg</td>\n      <td>...</td>\n      <td>2.00 g</td>\n      <td>1.160 g</td>\n      <td>0.530 g</td>\n      <td>0.080 g</td>\n      <td>1.00 mg</td>\n      <td>0.0 g</td>\n      <td>0.40 g</td>\n      <td>0.00 mg</td>\n      <td>0.00 mg</td>\n      <td>66.10 g</td>\n    </tr>\n    <tr>\n      <th>Taro leaves, raw</th>\n      <td>100 g</td>\n      <td>42</td>\n      <td>0.7g</td>\n      <td>0.2g</td>\n      <td>0</td>\n      <td>3.00 mg</td>\n      <td>12.8 mg</td>\n      <td>126.00 mcg</td>\n      <td>0.00 mcg</td>\n      <td>1.513 mg</td>\n      <td>...</td>\n      <td>0.74 g</td>\n      <td>0.151 g</td>\n      <td>0.060 g</td>\n      <td>0.307 g</td>\n      <td>0.00 mg</td>\n      <td>0.0 g</td>\n      <td>1.92 g</td>\n      <td>0.00 mg</td>\n      <td>0.00 mg</td>\n      <td>85.66 g</td>\n    </tr>\n    <tr>\n      <th>Vegetarian fillets</th>\n      <td>100 g</td>\n      <td>290</td>\n      <td>18g</td>\n      <td>2.8g</td>\n      <td>0</td>\n      <td>490.00 mg</td>\n      <td>82.0 mg</td>\n      <td>102.00 mcg</td>\n      <td>0.00 mcg</td>\n      <td>12.000 mg</td>\n      <td>...</td>\n      <td>18.00 g</td>\n      <td>2.849 g</td>\n      <td>4.376 g</td>\n      <td>9.332 g</td>\n      <td>0.00 mg</td>\n      <td>0.0 g</td>\n      <td>5.00 g</td>\n      <td>0.00 mg</td>\n      <td>0.00 mg</td>\n      <td>45.00 g</td>\n    </tr>\n  </tbody>\n</table>\n<p>3 rows × 75 columns</p>\n</div>"
     },
     "execution_count": 185,
     "metadata": {},
     "output_type": "execute_result"
    }
   ],
   "source": [
    "nutrition.iloc[[4, 6, 9], :]"
   ],
   "metadata": {
    "collapsed": false,
    "ExecuteTime": {
     "end_time": "2024-07-19T06:51:39.372309Z",
     "start_time": "2024-07-19T06:51:39.352841Z"
    }
   },
   "id": "a41c7e774aaed050",
   "execution_count": 185
  },
  {
   "cell_type": "code",
   "outputs": [
    {
     "data": {
      "text/plain": "                   total_fat saturated_fat cholesterol\nname                                                  \nSherbet, orange           2g          1.2g         1mg\nTaro leaves, raw        0.7g          0.2g           0\nVegetarian fillets       18g          2.8g           0",
      "text/html": "<div>\n<style scoped>\n    .dataframe tbody tr th:only-of-type {\n        vertical-align: middle;\n    }\n\n    .dataframe tbody tr th {\n        vertical-align: top;\n    }\n\n    .dataframe thead th {\n        text-align: right;\n    }\n</style>\n<table border=\"1\" class=\"dataframe\">\n  <thead>\n    <tr style=\"text-align: right;\">\n      <th></th>\n      <th>total_fat</th>\n      <th>saturated_fat</th>\n      <th>cholesterol</th>\n    </tr>\n    <tr>\n      <th>name</th>\n      <th></th>\n      <th></th>\n      <th></th>\n    </tr>\n  </thead>\n  <tbody>\n    <tr>\n      <th>Sherbet, orange</th>\n      <td>2g</td>\n      <td>1.2g</td>\n      <td>1mg</td>\n    </tr>\n    <tr>\n      <th>Taro leaves, raw</th>\n      <td>0.7g</td>\n      <td>0.2g</td>\n      <td>0</td>\n    </tr>\n    <tr>\n      <th>Vegetarian fillets</th>\n      <td>18g</td>\n      <td>2.8g</td>\n      <td>0</td>\n    </tr>\n  </tbody>\n</table>\n</div>"
     },
     "execution_count": 187,
     "metadata": {},
     "output_type": "execute_result"
    }
   ],
   "source": [
    "nutrition.iloc[[4, 6, 9], 2:5]"
   ],
   "metadata": {
    "collapsed": false,
    "ExecuteTime": {
     "end_time": "2024-07-19T06:52:57.055251Z",
     "start_time": "2024-07-19T06:52:57.034458Z"
    }
   },
   "id": "ed5788001509abe",
   "execution_count": 187
  },
  {
   "cell_type": "code",
   "outputs": [],
   "source": [
    "# Boolean masks\n",
    "\n",
    "new_nutrition = nutrition.iloc[\n",
    "    [True if i%2==0 else False for i in range(nutrition.shape[0])],\n",
    "    [True if i%2==0 else False for i in range(nutrition.shape[1])]\n",
    "]"
   ],
   "metadata": {
    "collapsed": false,
    "ExecuteTime": {
     "end_time": "2024-07-19T06:56:16.498109Z",
     "start_time": "2024-07-19T06:56:16.483148Z"
    }
   },
   "id": "fb5dbac7ff1ec0e2",
   "execution_count": 191
  },
  {
   "cell_type": "code",
   "outputs": [
    {
     "data": {
      "text/plain": "((8789, 75), (4395, 38))"
     },
     "execution_count": 192,
     "metadata": {},
     "output_type": "execute_result"
    }
   ],
   "source": [
    "nutrition.shape, new_nutrition.shape"
   ],
   "metadata": {
    "collapsed": false,
    "ExecuteTime": {
     "end_time": "2024-07-19T06:56:23.079971Z",
     "start_time": "2024-07-19T06:56:23.020210Z"
    }
   },
   "id": "31986f97b314fc17",
   "execution_count": 192
  },
  {
   "cell_type": "code",
   "outputs": [
    {
     "data": {
      "text/plain": "np.int64(290)"
     },
     "execution_count": 193,
     "metadata": {},
     "output_type": "execute_result"
    }
   ],
   "source": [
    "nutrition.iloc[9, 1]"
   ],
   "metadata": {
    "collapsed": false,
    "ExecuteTime": {
     "end_time": "2024-07-19T06:57:12.829117Z",
     "start_time": "2024-07-19T06:57:12.801190Z"
    }
   },
   "id": "2a7d940728bc5609",
   "execution_count": 193
  },
  {
   "cell_type": "markdown",
   "source": [
    "## Single Value Access With .at And .iat"
   ],
   "metadata": {
    "collapsed": false
   },
   "id": "525f0f318fb6a6d6"
  },
  {
   "cell_type": "code",
   "outputs": [
    {
     "data": {
      "text/plain": "np.int64(691)"
     },
     "execution_count": 194,
     "metadata": {},
     "output_type": "execute_result"
    }
   ],
   "source": [
    "nutrition.at['Nuts, pecans', 'calories']"
   ],
   "metadata": {
    "collapsed": false,
    "ExecuteTime": {
     "end_time": "2024-07-19T06:59:14.197659Z",
     "start_time": "2024-07-19T06:59:14.175214Z"
    }
   },
   "id": "73173db0f03e95b9",
   "execution_count": 194
  },
  {
   "cell_type": "code",
   "outputs": [
    {
     "data": {
      "text/plain": "np.int64(691)"
     },
     "execution_count": 195,
     "metadata": {},
     "output_type": "execute_result"
    }
   ],
   "source": [
    "nutrition.iat[1, 1]"
   ],
   "metadata": {
    "collapsed": false,
    "ExecuteTime": {
     "end_time": "2024-07-19T06:59:22.237038Z",
     "start_time": "2024-07-19T06:59:22.209905Z"
    }
   },
   "id": "7b5e52aa5304515",
   "execution_count": 195
  },
  {
   "cell_type": "code",
   "outputs": [],
   "source": [],
   "metadata": {
    "collapsed": false
   },
   "id": "3cc7806cdc527a80"
  }
 ],
 "metadata": {
  "kernelspec": {
   "display_name": "Python 3",
   "language": "python",
   "name": "python3"
  },
  "language_info": {
   "codemirror_mode": {
    "name": "ipython",
    "version": 2
   },
   "file_extension": ".py",
   "mimetype": "text/x-python",
   "name": "python",
   "nbconvert_exporter": "python",
   "pygments_lexer": "ipython2",
   "version": "2.7.6"
  }
 },
 "nbformat": 4,
 "nbformat_minor": 5
}
