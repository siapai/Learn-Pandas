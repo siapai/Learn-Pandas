{
 "cells": [
  {
   "cell_type": "code",
   "execution_count": 1,
   "id": "initial_id",
   "metadata": {
    "collapsed": true,
    "ExecuteTime": {
     "end_time": "2024-07-18T23:34:35.307731Z",
     "start_time": "2024-07-18T23:34:34.157908Z"
    }
   },
   "outputs": [],
   "source": [
    "import pandas as pd\n",
    "import numpy as np\n",
    "import matplotlib.pyplot as plt"
   ]
  },
  {
   "cell_type": "markdown",
   "source": [
    "## Reading CSV"
   ],
   "metadata": {
    "collapsed": false
   },
   "id": "a4da67ea1030d1f7"
  },
  {
   "cell_type": "code",
   "outputs": [
    {
     "data": {
      "text/plain": "         country  beer_servings  spirit_servings  wine_servings  \\\n0    Afghanistan            NaN              NaN            NaN   \n1        Albania           89.0            132.0           54.0   \n2        Algeria           25.0              NaN           14.0   \n3        Andorra          245.0            138.0          312.0   \n4         Angola          217.0             57.0           45.0   \n..           ...            ...              ...            ...   \n188    Venezuela          333.0              1.0            3.0   \n189      Vietnam          111.0              2.0            1.0   \n190        Yemen            6.0              NaN            NaN   \n191       Zambia           32.0             19.0            4.0   \n192     Zimbabwe           64.0             18.0            4.0   \n\n     total_litres_of_pure_alcohol  \n0                             NaN  \n1                             4.9  \n2                             0.7  \n3                            12.4  \n4                             5.9  \n..                            ...  \n188                           7.7  \n189                           2.0  \n190                           0.1  \n191                           2.5  \n192                           4.7  \n\n[193 rows x 5 columns]",
      "text/html": "<div>\n<style scoped>\n    .dataframe tbody tr th:only-of-type {\n        vertical-align: middle;\n    }\n\n    .dataframe tbody tr th {\n        vertical-align: top;\n    }\n\n    .dataframe thead th {\n        text-align: right;\n    }\n</style>\n<table border=\"1\" class=\"dataframe\">\n  <thead>\n    <tr style=\"text-align: right;\">\n      <th></th>\n      <th>country</th>\n      <th>beer_servings</th>\n      <th>spirit_servings</th>\n      <th>wine_servings</th>\n      <th>total_litres_of_pure_alcohol</th>\n    </tr>\n  </thead>\n  <tbody>\n    <tr>\n      <th>0</th>\n      <td>Afghanistan</td>\n      <td>NaN</td>\n      <td>NaN</td>\n      <td>NaN</td>\n      <td>NaN</td>\n    </tr>\n    <tr>\n      <th>1</th>\n      <td>Albania</td>\n      <td>89.0</td>\n      <td>132.0</td>\n      <td>54.0</td>\n      <td>4.9</td>\n    </tr>\n    <tr>\n      <th>2</th>\n      <td>Algeria</td>\n      <td>25.0</td>\n      <td>NaN</td>\n      <td>14.0</td>\n      <td>0.7</td>\n    </tr>\n    <tr>\n      <th>3</th>\n      <td>Andorra</td>\n      <td>245.0</td>\n      <td>138.0</td>\n      <td>312.0</td>\n      <td>12.4</td>\n    </tr>\n    <tr>\n      <th>4</th>\n      <td>Angola</td>\n      <td>217.0</td>\n      <td>57.0</td>\n      <td>45.0</td>\n      <td>5.9</td>\n    </tr>\n    <tr>\n      <th>...</th>\n      <td>...</td>\n      <td>...</td>\n      <td>...</td>\n      <td>...</td>\n      <td>...</td>\n    </tr>\n    <tr>\n      <th>188</th>\n      <td>Venezuela</td>\n      <td>333.0</td>\n      <td>1.0</td>\n      <td>3.0</td>\n      <td>7.7</td>\n    </tr>\n    <tr>\n      <th>189</th>\n      <td>Vietnam</td>\n      <td>111.0</td>\n      <td>2.0</td>\n      <td>1.0</td>\n      <td>2.0</td>\n    </tr>\n    <tr>\n      <th>190</th>\n      <td>Yemen</td>\n      <td>6.0</td>\n      <td>NaN</td>\n      <td>NaN</td>\n      <td>0.1</td>\n    </tr>\n    <tr>\n      <th>191</th>\n      <td>Zambia</td>\n      <td>32.0</td>\n      <td>19.0</td>\n      <td>4.0</td>\n      <td>2.5</td>\n    </tr>\n    <tr>\n      <th>192</th>\n      <td>Zimbabwe</td>\n      <td>64.0</td>\n      <td>18.0</td>\n      <td>4.0</td>\n      <td>4.7</td>\n    </tr>\n  </tbody>\n</table>\n<p>193 rows × 5 columns</p>\n</div>"
     },
     "execution_count": 2,
     "metadata": {},
     "output_type": "execute_result"
    }
   ],
   "source": [
    "csv_url = 'https://andybek.com/pandas-drinks'\n",
    "\n",
    "pd.read_csv(csv_url)"
   ],
   "metadata": {
    "collapsed": false,
    "ExecuteTime": {
     "end_time": "2024-07-18T23:34:35.994415Z",
     "start_time": "2024-07-18T23:34:35.283581Z"
    }
   },
   "id": "a8b31a513630e88c",
   "execution_count": 2
  },
  {
   "cell_type": "code",
   "outputs": [
    {
     "data": {
      "text/plain": "         country  wine_servings\n0    Afghanistan            NaN\n1        Albania           54.0\n2        Algeria           14.0\n3        Andorra          312.0\n4         Angola           45.0\n..           ...            ...\n188    Venezuela            3.0\n189      Vietnam            1.0\n190        Yemen            NaN\n191       Zambia            4.0\n192     Zimbabwe            4.0\n\n[193 rows x 2 columns]",
      "text/html": "<div>\n<style scoped>\n    .dataframe tbody tr th:only-of-type {\n        vertical-align: middle;\n    }\n\n    .dataframe tbody tr th {\n        vertical-align: top;\n    }\n\n    .dataframe thead th {\n        text-align: right;\n    }\n</style>\n<table border=\"1\" class=\"dataframe\">\n  <thead>\n    <tr style=\"text-align: right;\">\n      <th></th>\n      <th>country</th>\n      <th>wine_servings</th>\n    </tr>\n  </thead>\n  <tbody>\n    <tr>\n      <th>0</th>\n      <td>Afghanistan</td>\n      <td>NaN</td>\n    </tr>\n    <tr>\n      <th>1</th>\n      <td>Albania</td>\n      <td>54.0</td>\n    </tr>\n    <tr>\n      <th>2</th>\n      <td>Algeria</td>\n      <td>14.0</td>\n    </tr>\n    <tr>\n      <th>3</th>\n      <td>Andorra</td>\n      <td>312.0</td>\n    </tr>\n    <tr>\n      <th>4</th>\n      <td>Angola</td>\n      <td>45.0</td>\n    </tr>\n    <tr>\n      <th>...</th>\n      <td>...</td>\n      <td>...</td>\n    </tr>\n    <tr>\n      <th>188</th>\n      <td>Venezuela</td>\n      <td>3.0</td>\n    </tr>\n    <tr>\n      <th>189</th>\n      <td>Vietnam</td>\n      <td>1.0</td>\n    </tr>\n    <tr>\n      <th>190</th>\n      <td>Yemen</td>\n      <td>NaN</td>\n    </tr>\n    <tr>\n      <th>191</th>\n      <td>Zambia</td>\n      <td>4.0</td>\n    </tr>\n    <tr>\n      <th>192</th>\n      <td>Zimbabwe</td>\n      <td>4.0</td>\n    </tr>\n  </tbody>\n</table>\n<p>193 rows × 2 columns</p>\n</div>"
     },
     "execution_count": 3,
     "metadata": {},
     "output_type": "execute_result"
    }
   ],
   "source": [
    "pd.read_csv(csv_url, usecols=['country', 'wine_servings'])"
   ],
   "metadata": {
    "collapsed": false,
    "ExecuteTime": {
     "end_time": "2024-07-18T23:34:36.320599Z",
     "start_time": "2024-07-18T23:34:35.988367Z"
    }
   },
   "id": "59847d8fbd2f59ee",
   "execution_count": 3
  },
  {
   "cell_type": "code",
   "outputs": [
    {
     "data": {
      "text/plain": "country\nAfghanistan      NaN\nAlbania         54.0\nAlgeria         14.0\nAndorra        312.0\nAngola          45.0\nName: wine_servings, dtype: float64"
     },
     "execution_count": 4,
     "metadata": {},
     "output_type": "execute_result"
    }
   ],
   "source": [
    "alcohol = pd.read_csv(csv_url, usecols=['country', 'wine_servings'], index_col='country').squeeze('columns').copy()\n",
    "alcohol.head()\n"
   ],
   "metadata": {
    "collapsed": false,
    "ExecuteTime": {
     "end_time": "2024-07-18T23:34:36.730539Z",
     "start_time": "2024-07-18T23:34:36.314624Z"
    }
   },
   "id": "1b53646db0a15842",
   "execution_count": 4
  },
  {
   "cell_type": "code",
   "outputs": [
    {
     "data": {
      "text/plain": "pandas.core.series.Series"
     },
     "execution_count": 5,
     "metadata": {},
     "output_type": "execute_result"
    }
   ],
   "source": [
    "type(alcohol)"
   ],
   "metadata": {
    "collapsed": false,
    "ExecuteTime": {
     "end_time": "2024-07-18T23:34:36.734779Z",
     "start_time": "2024-07-18T23:34:36.644075Z"
    }
   },
   "id": "3184aaca3481be2e",
   "execution_count": 5
  },
  {
   "cell_type": "markdown",
   "source": [
    "## Series Sizing With .size, .shape, and .len"
   ],
   "metadata": {
    "collapsed": false
   },
   "id": "9ad0e79cc9077c7b"
  },
  {
   "cell_type": "code",
   "outputs": [
    {
     "data": {
      "text/plain": "(193, (193,), 193)"
     },
     "execution_count": 6,
     "metadata": {},
     "output_type": "execute_result"
    }
   ],
   "source": [
    "alcohol.size, alcohol.shape, len(alcohol)"
   ],
   "metadata": {
    "collapsed": false,
    "ExecuteTime": {
     "end_time": "2024-07-18T23:34:36.753591Z",
     "start_time": "2024-07-18T23:34:36.652302Z"
    }
   },
   "id": "200091dce481ed0d",
   "execution_count": 6
  },
  {
   "cell_type": "code",
   "outputs": [
    {
     "data": {
      "text/plain": "array([ nan,  54.,  14., 312.,  45.,  45., 221.,  11., 212., 191.,   5.,\n        51.,   7.,  nan,  36.,  42., 212.,   8.,  13.,  nan,   8.,   8.,\n        35.,  16.,   1.,  94.,   7.,  nan,   7.,  16.,   1.,   4.,   1.,\n         1.,   1., 172.,   8.,   3.,   1.,   9.,  74.,  11., 254.,   5.,\n       113., 134.,  nan,   1., 278.,   3.,  26.,   9.,   3.,   1.,   2.,\n       233.,  nan,  59.,  nan,   1.,  97.,  37.,  59.,   1., 149., 175.,\n         1., 218.,  28.,   2.,   2.,  21.,   1.,   1.,   2., 185.,  78.,\n        nan,  nan,  nan,  nan, 165.,   9., 237.,   9.,  16.,   1.,  12.,\n         2.,   1.,  nan,   6., 123.,  62.,  31.,  nan,   2.,  nan,  56.,\n       271.,   4.,   1.,  nan,  nan,   1.,  12.,  nan,  nan,  18.,   5.,\n        18.,  nan,   8., 128.,   1.,   5.,  nan,   1.,   8.,  nan,  19.,\n       175.,   1.,   1.,   2.,   7., 129.,   1.,  nan,  23.,  18.,   1.,\n        74.,  21.,   1.,  56., 339.,   7.,   9.,  18., 167.,  73.,  nan,\n        32.,  71.,  11.,  24.,  nan,  14.,  nan,   7., 127.,  51.,   2.,\n        11., 116., 276.,   1.,  nan,  81., 112.,  nan,  nan,   7.,   2.,\n       186.,  28.,  16.,  nan,   1.,  86.,   4.,  19.,   5.,   7.,   2.,\n         7.,  32.,   9.,  nan,  45.,   5., 195.,   1.,  84.,  22.,   8.,\n        11.,   3.,   1.,  nan,   4.,   4.])"
     },
     "execution_count": 7,
     "metadata": {},
     "output_type": "execute_result"
    }
   ],
   "source": [
    "alcohol.values"
   ],
   "metadata": {
    "collapsed": false,
    "ExecuteTime": {
     "end_time": "2024-07-18T23:34:36.766363Z",
     "start_time": "2024-07-18T23:34:36.660741Z"
    }
   },
   "id": "626ac9e0a9ec30e5",
   "execution_count": 7
  },
  {
   "cell_type": "code",
   "outputs": [
    {
     "data": {
      "text/plain": "Index(['Afghanistan', 'Albania', 'Algeria', 'Andorra', 'Angola',\n       'Antigua & Barbuda', 'Argentina', 'Armenia', 'Australia', 'Austria',\n       ...\n       'Tanzania', 'USA', 'Uruguay', 'Uzbekistan', 'Vanuatu', 'Venezuela',\n       'Vietnam', 'Yemen', 'Zambia', 'Zimbabwe'],\n      dtype='object', name='country', length=193)"
     },
     "execution_count": 8,
     "metadata": {},
     "output_type": "execute_result"
    }
   ],
   "source": [
    "alcohol.index"
   ],
   "metadata": {
    "collapsed": false,
    "ExecuteTime": {
     "end_time": "2024-07-18T23:34:36.775559Z",
     "start_time": "2024-07-18T23:34:36.668723Z"
    }
   },
   "id": "9dd99cb80962f7ba",
   "execution_count": 8
  },
  {
   "cell_type": "code",
   "outputs": [
    {
     "data": {
      "text/plain": "True"
     },
     "execution_count": 9,
     "metadata": {},
     "output_type": "execute_result"
    }
   ],
   "source": [
    "alcohol.values.size == alcohol.index.size"
   ],
   "metadata": {
    "collapsed": false,
    "ExecuteTime": {
     "end_time": "2024-07-18T23:34:36.780140Z",
     "start_time": "2024-07-18T23:34:36.676707Z"
    }
   },
   "id": "b73f5c86667db770",
   "execution_count": 9
  },
  {
   "cell_type": "code",
   "outputs": [
    {
     "data": {
      "text/plain": "True"
     },
     "execution_count": 10,
     "metadata": {},
     "output_type": "execute_result"
    }
   ],
   "source": [
    "alcohol.size == alcohol.shape[0]"
   ],
   "metadata": {
    "collapsed": false,
    "ExecuteTime": {
     "end_time": "2024-07-18T23:34:36.916340Z",
     "start_time": "2024-07-18T23:34:36.701694Z"
    }
   },
   "id": "4c9be16fd54a8465",
   "execution_count": 10
  },
  {
   "cell_type": "markdown",
   "source": [
    "## Unique Values Amd Series Monotonicity"
   ],
   "metadata": {
    "collapsed": false
   },
   "id": "8933838feb79bbbe"
  },
  {
   "cell_type": "code",
   "outputs": [
    {
     "data": {
      "text/plain": "False"
     },
     "execution_count": 11,
     "metadata": {},
     "output_type": "execute_result"
    }
   ],
   "source": [
    "alcohol.is_unique"
   ],
   "metadata": {
    "collapsed": false,
    "ExecuteTime": {
     "end_time": "2024-07-18T23:34:36.935879Z",
     "start_time": "2024-07-18T23:34:36.705817Z"
    }
   },
   "id": "8729cc1b6a216012",
   "execution_count": 11
  },
  {
   "cell_type": "code",
   "outputs": [
    {
     "data": {
      "text/plain": "country\nAfghanistan      NaN\nAlbania         54.0\nAlgeria         14.0\nAndorra        312.0\nAngola          45.0\nName: wine_servings, dtype: float64"
     },
     "execution_count": 12,
     "metadata": {},
     "output_type": "execute_result"
    }
   ],
   "source": [
    "alcohol.head()"
   ],
   "metadata": {
    "collapsed": false,
    "ExecuteTime": {
     "end_time": "2024-07-18T23:34:36.940513Z",
     "start_time": "2024-07-18T23:34:36.716427Z"
    }
   },
   "id": "b324c781e75d08f5",
   "execution_count": 12
  },
  {
   "cell_type": "code",
   "outputs": [
    {
     "data": {
      "text/plain": "True"
     },
     "execution_count": 13,
     "metadata": {},
     "output_type": "execute_result"
    }
   ],
   "source": [
    "alcohol.head().is_unique"
   ],
   "metadata": {
    "collapsed": false,
    "ExecuteTime": {
     "end_time": "2024-07-18T23:34:36.953136Z",
     "start_time": "2024-07-18T23:34:36.721862Z"
    }
   },
   "id": "646164c146dc125f",
   "execution_count": 13
  },
  {
   "cell_type": "code",
   "outputs": [
    {
     "data": {
      "text/plain": "72"
     },
     "execution_count": 14,
     "metadata": {},
     "output_type": "execute_result"
    }
   ],
   "source": [
    "alcohol.nunique(dropna=False)"
   ],
   "metadata": {
    "collapsed": false,
    "ExecuteTime": {
     "end_time": "2024-07-18T23:34:36.969498Z",
     "start_time": "2024-07-18T23:34:36.727429Z"
    }
   },
   "id": "5c8c88142994dbad",
   "execution_count": 14
  },
  {
   "cell_type": "code",
   "outputs": [
    {
     "data": {
      "text/plain": "(False, True)"
     },
     "execution_count": 15,
     "metadata": {},
     "output_type": "execute_result"
    }
   ],
   "source": [
    "# monotonicity\n",
    "\n",
    "pd.Series([1, 2, 3]).is_monotonic_decreasing, pd.Series([1, 2, 3]).is_monotonic_increasing"
   ],
   "metadata": {
    "collapsed": false,
    "ExecuteTime": {
     "end_time": "2024-07-18T23:34:36.986367Z",
     "start_time": "2024-07-18T23:34:36.737849Z"
    }
   },
   "id": "cb88e24589c4fd67",
   "execution_count": 15
  },
  {
   "cell_type": "code",
   "outputs": [
    {
     "data": {
      "text/plain": "False"
     },
     "execution_count": 16,
     "metadata": {},
     "output_type": "execute_result"
    }
   ],
   "source": [
    "pd.Series([5, 4, 6, 1]).is_monotonic_decreasing"
   ],
   "metadata": {
    "collapsed": false,
    "ExecuteTime": {
     "end_time": "2024-07-18T23:34:36.990470Z",
     "start_time": "2024-07-18T23:34:36.745867Z"
    }
   },
   "id": "37f3c415debff99d",
   "execution_count": 16
  },
  {
   "cell_type": "code",
   "outputs": [
    {
     "data": {
      "text/plain": "True"
     },
     "execution_count": 17,
     "metadata": {},
     "output_type": "execute_result"
    }
   ],
   "source": [
    "pd.Series(reversed([1, 2, 3, 4, 5])).is_monotonic_decreasing"
   ],
   "metadata": {
    "collapsed": false,
    "ExecuteTime": {
     "end_time": "2024-07-18T23:34:37.018435Z",
     "start_time": "2024-07-18T23:34:36.753482Z"
    }
   },
   "id": "5f9a12531824912a",
   "execution_count": 17
  },
  {
   "cell_type": "markdown",
   "source": [
    "## The .count() Method"
   ],
   "metadata": {
    "collapsed": false
   },
   "id": "d0d5ff20100eb079"
  },
  {
   "cell_type": "code",
   "outputs": [
    {
     "data": {
      "text/plain": "(np.int64(162), 193)"
     },
     "execution_count": 18,
     "metadata": {},
     "output_type": "execute_result"
    }
   ],
   "source": [
    "alcohol.count(), alcohol.size"
   ],
   "metadata": {
    "collapsed": false,
    "ExecuteTime": {
     "end_time": "2024-07-18T23:34:37.029277Z",
     "start_time": "2024-07-18T23:34:36.762329Z"
    }
   },
   "id": "808344cb40c61b1a",
   "execution_count": 18
  },
  {
   "cell_type": "code",
   "outputs": [
    {
     "data": {
      "text/plain": "True"
     },
     "execution_count": 19,
     "metadata": {},
     "output_type": "execute_result"
    }
   ],
   "source": [
    "alcohol.hasnans"
   ],
   "metadata": {
    "collapsed": false,
    "ExecuteTime": {
     "end_time": "2024-07-18T23:34:37.041927Z",
     "start_time": "2024-07-18T23:34:36.768200Z"
    }
   },
   "id": "99fa6bc3e8ff099a",
   "execution_count": 19
  },
  {
   "cell_type": "markdown",
   "source": [
    "## Accessing And Counting NA's"
   ],
   "metadata": {
    "collapsed": false
   },
   "id": "92ceec897c8d294"
  },
  {
   "cell_type": "code",
   "outputs": [
    {
     "data": {
      "text/plain": "country\nAfghanistan     True\nAlbania        False\nAlgeria        False\nAndorra        False\nAngola         False\n               ...  \nVenezuela      False\nVietnam        False\nYemen           True\nZambia         False\nZimbabwe       False\nName: wine_servings, Length: 193, dtype: bool"
     },
     "execution_count": 20,
     "metadata": {},
     "output_type": "execute_result"
    }
   ],
   "source": [
    "alcohol.isnull()"
   ],
   "metadata": {
    "collapsed": false,
    "ExecuteTime": {
     "end_time": "2024-07-18T23:34:37.062707Z",
     "start_time": "2024-07-18T23:34:36.776823Z"
    }
   },
   "id": "efddd7ebddc8aebe",
   "execution_count": 20
  },
  {
   "cell_type": "code",
   "outputs": [
    {
     "data": {
      "text/plain": "country\nAfghanistan        NaN\nBangladesh         NaN\nBhutan             NaN\nBurundi            NaN\nNorth Korea        NaN\nEritrea            NaN\nEthiopia           NaN\nIndia              NaN\nIndonesia          NaN\nIran               NaN\nIraq               NaN\nKuwait             NaN\nLesotho            NaN\nLibya              NaN\nMalaysia           NaN\nMaldives           NaN\nMarshall Islands   NaN\nMauritania         NaN\nMonaco             NaN\nMyanmar            NaN\nNepal              NaN\nPakistan           NaN\nRwanda             NaN\nSan Marino         NaN\nSaudi Arabia       NaN\nSomalia            NaN\nSri Lanka          NaN\nSudan              NaN\nTajikistan         NaN\nUganda             NaN\nYemen              NaN\nName: wine_servings, dtype: float64"
     },
     "execution_count": 21,
     "metadata": {},
     "output_type": "execute_result"
    }
   ],
   "source": [
    "alcohol[alcohol.isnull()]"
   ],
   "metadata": {
    "collapsed": false,
    "ExecuteTime": {
     "end_time": "2024-07-18T23:34:37.072758Z",
     "start_time": "2024-07-18T23:34:36.786381Z"
    }
   },
   "id": "3dd6aace0ba7b4c4",
   "execution_count": 21
  },
  {
   "cell_type": "code",
   "outputs": [
    {
     "data": {
      "text/plain": "['Afghanistan',\n 'Bangladesh',\n 'Bhutan',\n 'Burundi',\n 'North Korea',\n 'Eritrea',\n 'Ethiopia',\n 'India',\n 'Indonesia',\n 'Iran',\n 'Iraq',\n 'Kuwait',\n 'Lesotho',\n 'Libya',\n 'Malaysia',\n 'Maldives',\n 'Marshall Islands',\n 'Mauritania',\n 'Monaco',\n 'Myanmar',\n 'Nepal',\n 'Pakistan',\n 'Rwanda',\n 'San Marino',\n 'Saudi Arabia',\n 'Somalia',\n 'Sri Lanka',\n 'Sudan',\n 'Tajikistan',\n 'Uganda',\n 'Yemen']"
     },
     "execution_count": 22,
     "metadata": {},
     "output_type": "execute_result"
    }
   ],
   "source": [
    "list(alcohol[alcohol.isnull()].index)"
   ],
   "metadata": {
    "collapsed": false,
    "ExecuteTime": {
     "end_time": "2024-07-18T23:34:37.077054Z",
     "start_time": "2024-07-18T23:34:36.793983Z"
    }
   },
   "id": "aadd58880ea07684",
   "execution_count": 22
  },
  {
   "cell_type": "code",
   "outputs": [
    {
     "data": {
      "text/plain": "31"
     },
     "execution_count": 23,
     "metadata": {},
     "output_type": "execute_result"
    }
   ],
   "source": [
    "len(list(alcohol[alcohol.isnull()].index))"
   ],
   "metadata": {
    "collapsed": false,
    "ExecuteTime": {
     "end_time": "2024-07-18T23:34:37.081186Z",
     "start_time": "2024-07-18T23:34:36.802941Z"
    }
   },
   "id": "17228c48fba78187",
   "execution_count": 23
  },
  {
   "cell_type": "code",
   "outputs": [
    {
     "data": {
      "text/plain": "np.int64(31)"
     },
     "execution_count": 24,
     "metadata": {},
     "output_type": "execute_result"
    }
   ],
   "source": [
    "alcohol.isnull().sum()"
   ],
   "metadata": {
    "collapsed": false,
    "ExecuteTime": {
     "end_time": "2024-07-18T23:34:37.317582Z",
     "start_time": "2024-07-18T23:34:36.808963Z"
    }
   },
   "id": "357206b01eeb1b33",
   "execution_count": 24
  },
  {
   "cell_type": "code",
   "outputs": [
    {
     "data": {
      "text/plain": "np.True_"
     },
     "execution_count": 25,
     "metadata": {},
     "output_type": "execute_result"
    }
   ],
   "source": [
    "nulls = alcohol.isnull().sum()\n",
    "all = alcohol.size\n",
    "nonnulls = alcohol.count()\n",
    "\n",
    "all == (nonnulls + nulls)"
   ],
   "metadata": {
    "collapsed": false,
    "ExecuteTime": {
     "end_time": "2024-07-18T23:34:37.346580Z",
     "start_time": "2024-07-18T23:34:36.817247Z"
    }
   },
   "id": "edca5374cb15d3e5",
   "execution_count": 25
  },
  {
   "cell_type": "markdown",
   "source": [
    "## Another Approach"
   ],
   "metadata": {
    "collapsed": false
   },
   "id": "d6cf6530b9f6df21"
  },
  {
   "cell_type": "code",
   "outputs": [],
   "source": [
    "import numpy as np"
   ],
   "metadata": {
    "collapsed": false,
    "ExecuteTime": {
     "end_time": "2024-07-18T23:34:37.351236Z",
     "start_time": "2024-07-18T23:34:36.828185Z"
    }
   },
   "id": "95eb666a349455a2",
   "execution_count": 26
  },
  {
   "cell_type": "code",
   "outputs": [
    {
     "data": {
      "text/plain": "<ufunc 'isnan'>"
     },
     "execution_count": 27,
     "metadata": {},
     "output_type": "execute_result"
    }
   ],
   "source": [
    "np.isnan"
   ],
   "metadata": {
    "collapsed": false,
    "ExecuteTime": {
     "end_time": "2024-07-18T23:34:37.365061Z",
     "start_time": "2024-07-18T23:34:36.835560Z"
    }
   },
   "id": "f0202bcdeea8b712",
   "execution_count": 27
  },
  {
   "cell_type": "code",
   "outputs": [
    {
     "data": {
      "text/plain": "0    False\n1    False\n2     True\n3    False\ndtype: bool"
     },
     "execution_count": 28,
     "metadata": {},
     "output_type": "execute_result"
    }
   ],
   "source": [
    "ser = pd.Series(data=[True, False, None, 2], dtype=float)\n",
    "np.isnan(ser)"
   ],
   "metadata": {
    "collapsed": false,
    "ExecuteTime": {
     "end_time": "2024-07-18T23:34:37.369356Z",
     "start_time": "2024-07-18T23:34:36.859507Z"
    }
   },
   "id": "a6ac4583ff5396e0",
   "execution_count": 28
  },
  {
   "cell_type": "code",
   "outputs": [
    {
     "data": {
      "text/plain": "0    1.0\n1    0.0\n2    NaN\n3    2.0\ndtype: float64"
     },
     "execution_count": 29,
     "metadata": {},
     "output_type": "execute_result"
    }
   ],
   "source": [
    "ser"
   ],
   "metadata": {
    "collapsed": false,
    "ExecuteTime": {
     "end_time": "2024-07-18T23:34:37.379861Z",
     "start_time": "2024-07-18T23:34:36.863844Z"
    }
   },
   "id": "5a916def1bf5d311",
   "execution_count": 29
  },
  {
   "cell_type": "code",
   "outputs": [
    {
     "data": {
      "text/plain": "31"
     },
     "execution_count": 30,
     "metadata": {},
     "output_type": "execute_result"
    }
   ],
   "source": [
    "alcohol[np.isnan].size"
   ],
   "metadata": {
    "collapsed": false,
    "ExecuteTime": {
     "end_time": "2024-07-18T23:34:37.384457Z",
     "start_time": "2024-07-18T23:34:36.869094Z"
    }
   },
   "id": "c9e522a5ee4578d1",
   "execution_count": 30
  },
  {
   "cell_type": "markdown",
   "source": [
    "## notnull And notna"
   ],
   "metadata": {
    "collapsed": false
   },
   "id": "54c3cfff593e8be0"
  },
  {
   "cell_type": "code",
   "outputs": [
    {
     "data": {
      "text/plain": "country\nAfghanistan    False\nAlbania         True\nAlgeria         True\nAndorra         True\nAngola          True\n               ...  \nVenezuela       True\nVietnam         True\nYemen          False\nZambia          True\nZimbabwe        True\nName: wine_servings, Length: 193, dtype: bool"
     },
     "execution_count": 31,
     "metadata": {},
     "output_type": "execute_result"
    }
   ],
   "source": [
    "alcohol.notnull()"
   ],
   "metadata": {
    "collapsed": false,
    "ExecuteTime": {
     "end_time": "2024-07-18T23:34:37.389128Z",
     "start_time": "2024-07-18T23:34:36.873216Z"
    }
   },
   "id": "56ac63684468bfd6",
   "execution_count": 31
  },
  {
   "cell_type": "code",
   "outputs": [
    {
     "data": {
      "text/plain": "country\nAlbania               54.0\nAlgeria               14.0\nAndorra              312.0\nAngola                45.0\nAntigua & Barbuda     45.0\n                     ...  \nVanuatu               11.0\nVenezuela              3.0\nVietnam                1.0\nZambia                 4.0\nZimbabwe               4.0\nName: wine_servings, Length: 162, dtype: float64"
     },
     "execution_count": 32,
     "metadata": {},
     "output_type": "execute_result"
    }
   ],
   "source": [
    "alcohol.loc[alcohol.notnull()]"
   ],
   "metadata": {
    "collapsed": false,
    "ExecuteTime": {
     "end_time": "2024-07-18T23:34:37.393272Z",
     "start_time": "2024-07-18T23:34:36.877798Z"
    }
   },
   "id": "27516f1694eb1d86",
   "execution_count": 32
  },
  {
   "cell_type": "code",
   "outputs": [
    {
     "data": {
      "text/plain": "np.int64(162)"
     },
     "execution_count": 33,
     "metadata": {},
     "output_type": "execute_result"
    }
   ],
   "source": [
    "alcohol.notnull().sum()"
   ],
   "metadata": {
    "collapsed": false,
    "ExecuteTime": {
     "end_time": "2024-07-18T23:34:37.401058Z",
     "start_time": "2024-07-18T23:34:36.881475Z"
    }
   },
   "id": "aa03296539fd9c30",
   "execution_count": 33
  },
  {
   "cell_type": "code",
   "outputs": [
    {
     "data": {
      "text/plain": "np.int64(162)"
     },
     "execution_count": 34,
     "metadata": {},
     "output_type": "execute_result"
    }
   ],
   "source": [
    "alcohol.count()"
   ],
   "metadata": {
    "collapsed": false,
    "ExecuteTime": {
     "end_time": "2024-07-18T23:34:37.404832Z",
     "start_time": "2024-07-18T23:34:36.885168Z"
    }
   },
   "id": "a16eb127f9144872",
   "execution_count": 34
  },
  {
   "cell_type": "code",
   "outputs": [
    {
     "data": {
      "text/plain": "np.True_"
     },
     "execution_count": 35,
     "metadata": {},
     "output_type": "execute_result"
    }
   ],
   "source": [
    "alcohol.notnull().sum() + alcohol.isnull().sum() == alcohol.size"
   ],
   "metadata": {
    "collapsed": false,
    "ExecuteTime": {
     "end_time": "2024-07-18T23:34:37.411453Z",
     "start_time": "2024-07-18T23:34:36.889290Z"
    }
   },
   "id": "c711b6886b744f37",
   "execution_count": 35
  },
  {
   "cell_type": "markdown",
   "source": [
    "## Booleans are literally numbers in python"
   ],
   "metadata": {
    "collapsed": false
   },
   "id": "586a72766e67b1aa"
  },
  {
   "cell_type": "code",
   "outputs": [
    {
     "data": {
      "text/plain": "20"
     },
     "execution_count": 36,
     "metadata": {},
     "output_type": "execute_result"
    }
   ],
   "source": [
    "True + 19"
   ],
   "metadata": {
    "collapsed": false,
    "ExecuteTime": {
     "end_time": "2024-07-18T23:34:37.411684Z",
     "start_time": "2024-07-18T23:34:36.891675Z"
    }
   },
   "id": "f786336c532580c6",
   "execution_count": 36
  },
  {
   "cell_type": "code",
   "outputs": [
    {
     "data": {
      "text/plain": "2"
     },
     "execution_count": 37,
     "metadata": {},
     "output_type": "execute_result"
    }
   ],
   "source": [
    "True + True * True - True + True"
   ],
   "metadata": {
    "collapsed": false,
    "ExecuteTime": {
     "end_time": "2024-07-18T23:34:37.419222Z",
     "start_time": "2024-07-18T23:34:36.895644Z"
    }
   },
   "id": "692598901f3682f3",
   "execution_count": 37
  },
  {
   "cell_type": "code",
   "outputs": [
    {
     "data": {
      "text/plain": "(bool, bool)"
     },
     "execution_count": 38,
     "metadata": {},
     "output_type": "execute_result"
    }
   ],
   "source": [
    "type(True), type(False)"
   ],
   "metadata": {
    "collapsed": false,
    "ExecuteTime": {
     "end_time": "2024-07-18T23:34:37.422769Z",
     "start_time": "2024-07-18T23:34:36.899906Z"
    }
   },
   "id": "20a3779f71226774",
   "execution_count": 38
  },
  {
   "cell_type": "code",
   "outputs": [
    {
     "data": {
      "text/plain": "(bool, int, object)"
     },
     "execution_count": 39,
     "metadata": {},
     "output_type": "execute_result"
    }
   ],
   "source": [
    "bool.__mro__"
   ],
   "metadata": {
    "collapsed": false,
    "ExecuteTime": {
     "end_time": "2024-07-18T23:34:37.426147Z",
     "start_time": "2024-07-18T23:34:36.902902Z"
    }
   },
   "id": "f589493b04e3a9d4",
   "execution_count": 39
  },
  {
   "cell_type": "markdown",
   "source": [
    "## Challenge"
   ],
   "metadata": {
    "collapsed": false
   },
   "id": "10bb4d273ac2f11c"
  },
  {
   "cell_type": "markdown",
   "source": [
    "1. Isolate non-nulls in the *alcohol* series and assign them to the variable *wine_serving*"
   ],
   "metadata": {
    "collapsed": false
   },
   "id": "55458ea021db52c5"
  },
  {
   "cell_type": "code",
   "outputs": [
    {
     "data": {
      "text/plain": "country\nAlbania               54.0\nAlgeria               14.0\nAndorra              312.0\nAngola                45.0\nAntigua & Barbuda     45.0\n                     ...  \nVanuatu               11.0\nVenezuela              3.0\nVietnam                1.0\nZambia                 4.0\nZimbabwe               4.0\nName: wine_servings, Length: 162, dtype: float64"
     },
     "execution_count": 40,
     "metadata": {},
     "output_type": "execute_result"
    }
   ],
   "source": [
    "wine_servings = alcohol[alcohol.notna()]\n",
    "wine_servings"
   ],
   "metadata": {
    "collapsed": false,
    "ExecuteTime": {
     "end_time": "2024-07-18T23:34:37.429353Z",
     "start_time": "2024-07-18T23:34:36.907720Z"
    }
   },
   "id": "e26acb4698493b7",
   "execution_count": 40
  },
  {
   "cell_type": "markdown",
   "source": [
    "2. What is the total wine consumed by countries in *wine_servings*"
   ],
   "metadata": {
    "collapsed": false
   },
   "id": "67130c36abf64384"
  },
  {
   "cell_type": "code",
   "outputs": [
    {
     "data": {
      "text/plain": "np.float64(8221.0)"
     },
     "execution_count": 41,
     "metadata": {},
     "output_type": "execute_result"
    }
   ],
   "source": [
    "wine_servings.sum()"
   ],
   "metadata": {
    "collapsed": false,
    "ExecuteTime": {
     "end_time": "2024-07-18T23:34:37.436528Z",
     "start_time": "2024-07-18T23:34:36.910997Z"
    }
   },
   "id": "bcb0af8f568e0687",
   "execution_count": 41
  },
  {
   "cell_type": "markdown",
   "source": [
    "3. In the *wine_servings* dataset, what was the total wine consumed by countries that consumed less than 100 servings?"
   ],
   "metadata": {
    "collapsed": false
   },
   "id": "d0590f45363e9b86"
  },
  {
   "cell_type": "code",
   "outputs": [
    {
     "data": {
      "text/plain": "np.float64(2416.0)"
     },
     "execution_count": 42,
     "metadata": {},
     "output_type": "execute_result"
    }
   ],
   "source": [
    "wine_servings[lambda x: x < 100].sum()"
   ],
   "metadata": {
    "collapsed": false,
    "ExecuteTime": {
     "end_time": "2024-07-18T23:34:37.446175Z",
     "start_time": "2024-07-18T23:34:36.915140Z"
    }
   },
   "id": "b957fd3b931afe8",
   "execution_count": 42
  },
  {
   "cell_type": "markdown",
   "source": [
    "## Dropping And Filling NAs"
   ],
   "metadata": {
    "collapsed": false
   },
   "id": "defc33f5a12180a2"
  },
  {
   "cell_type": "code",
   "outputs": [
    {
     "data": {
      "text/plain": "country\nAlbania               54.0\nAlgeria               14.0\nAndorra              312.0\nAngola                45.0\nAntigua & Barbuda     45.0\n                     ...  \nVanuatu               11.0\nVenezuela              3.0\nVietnam                1.0\nZambia                 4.0\nZimbabwe               4.0\nName: wine_servings, Length: 162, dtype: float64"
     },
     "execution_count": 43,
     "metadata": {},
     "output_type": "execute_result"
    }
   ],
   "source": [
    "alcohol.dropna(inplace=False)"
   ],
   "metadata": {
    "collapsed": false,
    "ExecuteTime": {
     "end_time": "2024-07-18T23:34:37.453139Z",
     "start_time": "2024-07-18T23:34:36.919915Z"
    }
   },
   "id": "875ae469403822af",
   "execution_count": 43
  },
  {
   "cell_type": "code",
   "outputs": [
    {
     "data": {
      "text/plain": "country\nAfghanistan      NaN\nAlbania         54.0\nAlgeria         14.0\nAndorra        312.0\nAngola          45.0\n               ...  \nVenezuela        3.0\nVietnam          1.0\nYemen            NaN\nZambia           4.0\nZimbabwe         4.0\nName: wine_servings, Length: 193, dtype: float64"
     },
     "execution_count": 44,
     "metadata": {},
     "output_type": "execute_result"
    }
   ],
   "source": [
    "alcohol"
   ],
   "metadata": {
    "collapsed": false,
    "ExecuteTime": {
     "end_time": "2024-07-18T23:34:37.456698Z",
     "start_time": "2024-07-18T23:34:36.924479Z"
    }
   },
   "id": "c0e24181269980f4",
   "execution_count": 44
  },
  {
   "cell_type": "code",
   "outputs": [
    {
     "data": {
      "text/plain": "country\nAfghanistan    100.0\nAlbania         54.0\nAlgeria         14.0\nAndorra        312.0\nAngola          45.0\n               ...  \nVenezuela        3.0\nVietnam          1.0\nYemen          100.0\nZambia           4.0\nZimbabwe         4.0\nName: wine_servings, Length: 193, dtype: float64"
     },
     "execution_count": 45,
     "metadata": {},
     "output_type": "execute_result"
    }
   ],
   "source": [
    "alcohol.fillna(100, inplace=False)"
   ],
   "metadata": {
    "collapsed": false,
    "ExecuteTime": {
     "end_time": "2024-07-18T23:34:37.460233Z",
     "start_time": "2024-07-18T23:34:36.929045Z"
    }
   },
   "id": "e664f13701d5d3a6",
   "execution_count": 45
  },
  {
   "cell_type": "markdown",
   "source": [
    "## Descriptive Statistics"
   ],
   "metadata": {
    "collapsed": false
   },
   "id": "c020bfcbc36af6e4"
  },
  {
   "cell_type": "code",
   "outputs": [
    {
     "data": {
      "text/plain": "np.float64(50.74691358024691)"
     },
     "execution_count": 46,
     "metadata": {},
     "output_type": "execute_result"
    }
   ],
   "source": [
    "# Average\n",
    "\n",
    "alcohol.sum() / alcohol.count()"
   ],
   "metadata": {
    "collapsed": false,
    "ExecuteTime": {
     "end_time": "2024-07-18T23:34:37.470348Z",
     "start_time": "2024-07-18T23:34:36.933250Z"
    }
   },
   "id": "8dfaff29becc49d2",
   "execution_count": 46
  },
  {
   "cell_type": "code",
   "outputs": [
    {
     "data": {
      "text/plain": "np.float64(50.74691358024691)"
     },
     "execution_count": 47,
     "metadata": {},
     "output_type": "execute_result"
    }
   ],
   "source": [
    "alcohol.mean()"
   ],
   "metadata": {
    "collapsed": false,
    "ExecuteTime": {
     "end_time": "2024-07-18T23:34:37.477520Z",
     "start_time": "2024-07-18T23:34:36.937558Z"
    }
   },
   "id": "39fe67710fed6cf2",
   "execution_count": 47
  },
  {
   "cell_type": "code",
   "outputs": [
    {
     "data": {
      "text/plain": "(np.float64(11.5), np.float64(11.5))"
     },
     "execution_count": 48,
     "metadata": {},
     "output_type": "execute_result"
    }
   ],
   "source": [
    "# Median\n",
    "\n",
    "alcohol.median(), alcohol.quantile(.5)"
   ],
   "metadata": {
    "collapsed": false,
    "ExecuteTime": {
     "end_time": "2024-07-18T23:34:37.491696Z",
     "start_time": "2024-07-18T23:34:36.942864Z"
    }
   },
   "id": "8e712754267c5840",
   "execution_count": 48
  },
  {
   "cell_type": "code",
   "outputs": [
    {
     "data": {
      "text/plain": "<Axes: >"
     },
     "execution_count": 49,
     "metadata": {},
     "output_type": "execute_result"
    },
    {
     "data": {
      "text/plain": "<Figure size 640x480 with 1 Axes>",
      "image/png": "[encoded data removed]"
     },
     "metadata": {},
     "output_type": "display_data"
    }
   ],
   "source": [
    "alcohol.hist()"
   ],
   "metadata": {
    "collapsed": false,
    "ExecuteTime": {
     "end_time": "2024-07-18T23:34:37.567008Z",
     "start_time": "2024-07-18T23:34:36.946573Z"
    }
   },
   "id": "b21c1a023be9a0c6",
   "execution_count": 49
  },
  {
   "cell_type": "code",
   "outputs": [
    {
     "data": {
      "text/plain": "np.float64(58.25)"
     },
     "execution_count": 50,
     "metadata": {},
     "output_type": "execute_result"
    }
   ],
   "source": [
    "# IQR\n",
    "\n",
    "iqr = alcohol.quantile(.75) - alcohol.quantile(.25)\n",
    "iqr"
   ],
   "metadata": {
    "collapsed": false,
    "ExecuteTime": {
     "end_time": "2024-07-18T23:34:37.573359Z",
     "start_time": "2024-07-18T23:34:37.054836Z"
    }
   },
   "id": "6b183e483c26becc",
   "execution_count": 50
  },
  {
   "cell_type": "code",
   "outputs": [
    {
     "data": {
      "text/plain": "(np.float64(1.0), np.float64(339.0))"
     },
     "execution_count": 51,
     "metadata": {},
     "output_type": "execute_result"
    }
   ],
   "source": [
    "# Min and Max\n",
    "\n",
    "alcohol.min(), alcohol.max()"
   ],
   "metadata": {
    "collapsed": false,
    "ExecuteTime": {
     "end_time": "2024-07-18T23:34:37.584597Z",
     "start_time": "2024-07-18T23:34:37.059414Z"
    }
   },
   "id": "13f4986759a80297",
   "execution_count": 51
  },
  {
   "cell_type": "code",
   "outputs": [
    {
     "data": {
      "text/plain": "np.float64(76.13491716376171)"
     },
     "execution_count": 52,
     "metadata": {},
     "output_type": "execute_result"
    }
   ],
   "source": [
    "# standard deviation\n",
    "\n",
    "alcohol.std()"
   ],
   "metadata": {
    "collapsed": false,
    "ExecuteTime": {
     "end_time": "2024-07-18T23:34:37.588159Z",
     "start_time": "2024-07-18T23:34:37.064422Z"
    }
   },
   "id": "23c3f05bff42deef",
   "execution_count": 52
  },
  {
   "cell_type": "code",
   "outputs": [
    {
     "data": {
      "text/plain": "np.float64(5796.5256115328575)"
     },
     "execution_count": 53,
     "metadata": {},
     "output_type": "execute_result"
    }
   ],
   "source": [
    "# Variance\n",
    "alcohol.var()"
   ],
   "metadata": {
    "collapsed": false,
    "ExecuteTime": {
     "end_time": "2024-07-18T23:34:37.598344Z",
     "start_time": "2024-07-18T23:34:37.068510Z"
    }
   },
   "id": "d942a75548dc6fb1",
   "execution_count": 53
  },
  {
   "cell_type": "markdown",
   "source": [
    "## Describe Methods"
   ],
   "metadata": {
    "collapsed": false
   },
   "id": "d09f592aa68fd78c"
  },
  {
   "cell_type": "code",
   "outputs": [
    {
     "data": {
      "text/plain": "count    162.000000\nmean      50.746914\nstd       76.134917\nmin        1.000000\n25%        3.000000\n50%       11.500000\n75%       61.250000\nmax      339.000000\nName: wine_servings, dtype: float64"
     },
     "execution_count": 54,
     "metadata": {},
     "output_type": "execute_result"
    }
   ],
   "source": [
    "alcohol.describe()"
   ],
   "metadata": {
    "collapsed": false,
    "ExecuteTime": {
     "end_time": "2024-07-18T23:34:37.614767Z",
     "start_time": "2024-07-18T23:34:37.073479Z"
    }
   },
   "id": "a98e00fd3f281c3d",
   "execution_count": 54
  },
  {
   "cell_type": "code",
   "outputs": [
    {
     "data": {
      "text/plain": "count    162.000000\nmean      50.746914\nstd       76.134917\nmin        1.000000\n25%        3.000000\n50%       11.500000\n75%       61.250000\nmax      339.000000\nName: wine_servings, dtype: float64"
     },
     "execution_count": 55,
     "metadata": {},
     "output_type": "execute_result"
    }
   ],
   "source": [
    "alcohol.describe()"
   ],
   "metadata": {
    "collapsed": false,
    "ExecuteTime": {
     "end_time": "2024-07-18T23:34:37.628136Z",
     "start_time": "2024-07-18T23:34:37.079791Z"
    }
   },
   "id": "e1b36bf4d9fd7832",
   "execution_count": 55
  },
  {
   "cell_type": "code",
   "outputs": [
    {
     "data": {
      "text/plain": "count    162.000000\nmean      50.746914\nstd       76.134917\nmin        1.000000\n19%        2.000000\n50%       11.500000\n79%       81.570000\nmax      339.000000\nName: wine_servings, dtype: float64"
     },
     "execution_count": 56,
     "metadata": {},
     "output_type": "execute_result"
    }
   ],
   "source": [
    "alcohol.describe(percentiles=[.79, .19])"
   ],
   "metadata": {
    "collapsed": false,
    "ExecuteTime": {
     "end_time": "2024-07-18T23:34:37.632278Z",
     "start_time": "2024-07-18T23:34:37.085267Z"
    }
   },
   "id": "4394fb1243f850e5",
   "execution_count": 56
  },
  {
   "cell_type": "code",
   "outputs": [
    {
     "data": {
      "text/plain": "count    162.000000\nmean      50.746914\nstd       76.134917\nmin        1.000000\n19%        2.000000\n50%       11.500000\n79%       81.570000\nmax      339.000000\nName: wine_servings, dtype: float64"
     },
     "execution_count": 57,
     "metadata": {},
     "output_type": "execute_result"
    }
   ],
   "source": [
    "alcohol.describe(percentiles=[.79, .19], include=float, exclude=object)\n"
   ],
   "metadata": {
    "collapsed": false,
    "ExecuteTime": {
     "end_time": "2024-07-18T23:34:37.636147Z",
     "start_time": "2024-07-18T23:34:37.091816Z"
    }
   },
   "id": "77ad5a154b9e7859",
   "execution_count": 57
  },
  {
   "cell_type": "markdown",
   "source": [
    "## Mode and Value Count"
   ],
   "metadata": {
    "collapsed": false
   },
   "id": "1338514a35e1ae6e"
  },
  {
   "cell_type": "code",
   "outputs": [
    {
     "data": {
      "text/plain": "0    1.0\nName: wine_servings, dtype: float64"
     },
     "execution_count": 58,
     "metadata": {},
     "output_type": "execute_result"
    }
   ],
   "source": [
    "# Mode\n",
    "\n",
    "alcohol.mode()"
   ],
   "metadata": {
    "collapsed": false,
    "ExecuteTime": {
     "end_time": "2024-07-18T23:34:37.639383Z",
     "start_time": "2024-07-18T23:34:37.097023Z"
    }
   },
   "id": "2af40909878bbab9",
   "execution_count": 58
  },
  {
   "cell_type": "code",
   "outputs": [
    {
     "data": {
      "text/plain": "country\nBrunei                      1.0\nCambodia                    1.0\nCanada                      1.0\nCentral African Republic    1.0\nChad                        1.0\nComoros                     1.0\nDR Congo                    1.0\nEgypt                       1.0\nFiji                        1.0\nGambia                      1.0\nGhana                       1.0\nGuyana                      1.0\nHaiti                       1.0\nJordan                      1.0\nKiribati                    1.0\nMalawi                      1.0\nMali                        1.0\nMorocco                     1.0\nNamibia                     1.0\nNicaragua                   1.0\nNiger                       1.0\nOman                        1.0\nPapua New Guinea            1.0\nPhilippines                 1.0\nSolomon Islands             1.0\nThailand                    1.0\nTanzania                    1.0\nVietnam                     1.0\nName: wine_servings, dtype: float64"
     },
     "execution_count": 59,
     "metadata": {},
     "output_type": "execute_result"
    }
   ],
   "source": [
    "alcohol[lambda x: x == 1]"
   ],
   "metadata": {
    "collapsed": false,
    "ExecuteTime": {
     "end_time": "2024-07-18T23:34:38.033568Z",
     "start_time": "2024-07-18T23:34:37.102954Z"
    }
   },
   "id": "428ac04cab6e3592",
   "execution_count": 59
  },
  {
   "cell_type": "code",
   "outputs": [
    {
     "data": {
      "text/plain": "wine_servings\n1.0      28\n2.0      10\n7.0       9\n8.0       7\n5.0       6\n         ..\n218.0     1\n185.0     1\n78.0      1\n165.0     1\n22.0      1\nName: count, Length: 71, dtype: int64"
     },
     "execution_count": 60,
     "metadata": {},
     "output_type": "execute_result"
    }
   ],
   "source": [
    "# Value Counts\n",
    "\n",
    "alcohol.value_counts()"
   ],
   "metadata": {
    "collapsed": false,
    "ExecuteTime": {
     "end_time": "2024-07-18T23:34:38.037590Z",
     "start_time": "2024-07-18T23:34:37.107518Z"
    }
   },
   "id": "24a81ef1c1f85bc5",
   "execution_count": 60
  },
  {
   "cell_type": "code",
   "outputs": [
    {
     "data": {
      "text/plain": "np.int64(28)"
     },
     "execution_count": 61,
     "metadata": {},
     "output_type": "execute_result"
    }
   ],
   "source": [
    "alcohol.value_counts().iloc[0]"
   ],
   "metadata": {
    "collapsed": false,
    "ExecuteTime": {
     "end_time": "2024-07-18T23:34:38.077762Z",
     "start_time": "2024-07-18T23:34:37.113248Z"
    }
   },
   "id": "b3da136e781a0061",
   "execution_count": 61
  },
  {
   "cell_type": "code",
   "outputs": [
    {
     "data": {
      "text/plain": "wine_servings\n1.0      0.172840\n2.0      0.061728\n7.0      0.055556\n8.0      0.043210\n5.0      0.037037\n           ...   \n218.0    0.006173\n185.0    0.006173\n78.0     0.006173\n165.0    0.006173\n22.0     0.006173\nName: proportion, Length: 71, dtype: float64"
     },
     "execution_count": 62,
     "metadata": {},
     "output_type": "execute_result"
    }
   ],
   "source": [
    "alcohol.value_counts(normalize=True)"
   ],
   "metadata": {
    "collapsed": false,
    "ExecuteTime": {
     "end_time": "2024-07-18T23:34:38.082226Z",
     "start_time": "2024-07-18T23:34:37.116842Z"
    }
   },
   "id": "dd37c2280f0b10c",
   "execution_count": 62
  },
  {
   "cell_type": "markdown",
   "source": [
    "## Idxmax nad Idxmin"
   ],
   "metadata": {
    "collapsed": false
   },
   "id": "d68d58f3006ca082"
  },
  {
   "cell_type": "code",
   "outputs": [
    {
     "data": {
      "text/plain": "np.float64(339.0)"
     },
     "execution_count": 63,
     "metadata": {},
     "output_type": "execute_result"
    }
   ],
   "source": [
    "alcohol.max()"
   ],
   "metadata": {
    "collapsed": false,
    "ExecuteTime": {
     "end_time": "2024-07-18T23:34:38.094413Z",
     "start_time": "2024-07-18T23:34:37.123780Z"
    }
   },
   "id": "f2e1566a0e5ca347",
   "execution_count": 63
  },
  {
   "cell_type": "code",
   "outputs": [
    {
     "data": {
      "text/plain": "country\nPortugal    339.0\nName: wine_servings, dtype: float64"
     },
     "execution_count": 64,
     "metadata": {},
     "output_type": "execute_result"
    }
   ],
   "source": [
    "alcohol[lambda x: x == x.max()]"
   ],
   "metadata": {
    "collapsed": false,
    "ExecuteTime": {
     "end_time": "2024-07-18T23:34:38.107933Z",
     "start_time": "2024-07-18T23:34:37.129368Z"
    }
   },
   "id": "9e9dba99741daa7d",
   "execution_count": 64
  },
  {
   "cell_type": "code",
   "outputs": [
    {
     "data": {
      "text/plain": "Index(['Portugal'], dtype='object', name='country')"
     },
     "execution_count": 65,
     "metadata": {},
     "output_type": "execute_result"
    }
   ],
   "source": [
    "alcohol[lambda x: x == x.max()].index\n"
   ],
   "metadata": {
    "collapsed": false,
    "ExecuteTime": {
     "end_time": "2024-07-18T23:34:38.108313Z",
     "start_time": "2024-07-18T23:34:37.133788Z"
    }
   },
   "id": "294186d137697452",
   "execution_count": 65
  },
  {
   "cell_type": "code",
   "outputs": [
    {
     "data": {
      "text/plain": "'Portugal'"
     },
     "execution_count": 66,
     "metadata": {},
     "output_type": "execute_result"
    }
   ],
   "source": [
    "alcohol[lambda x: x == x.max()].index[0]"
   ],
   "metadata": {
    "collapsed": false,
    "ExecuteTime": {
     "end_time": "2024-07-18T23:34:38.112388Z",
     "start_time": "2024-07-18T23:34:37.138913Z"
    }
   },
   "id": "ae0ed5396735a416",
   "execution_count": 66
  },
  {
   "cell_type": "code",
   "outputs": [
    {
     "data": {
      "text/plain": "'Portugal'"
     },
     "execution_count": 67,
     "metadata": {},
     "output_type": "execute_result"
    }
   ],
   "source": [
    "alcohol.idxmax()"
   ],
   "metadata": {
    "collapsed": false,
    "ExecuteTime": {
     "end_time": "2024-07-18T23:34:38.116248Z",
     "start_time": "2024-07-18T23:34:37.143216Z"
    }
   },
   "id": "a2f6832cb271afc",
   "execution_count": 67
  },
  {
   "cell_type": "code",
   "outputs": [
    {
     "data": {
      "text/plain": "'Brunei'"
     },
     "execution_count": 68,
     "metadata": {},
     "output_type": "execute_result"
    }
   ],
   "source": [
    "alcohol.idxmin()"
   ],
   "metadata": {
    "collapsed": false,
    "ExecuteTime": {
     "end_time": "2024-07-18T23:34:38.120101Z",
     "start_time": "2024-07-18T23:34:37.147972Z"
    }
   },
   "id": "50606838635176ae",
   "execution_count": 68
  },
  {
   "cell_type": "code",
   "outputs": [
    {
     "data": {
      "text/plain": "np.float64(1.0)"
     },
     "execution_count": 69,
     "metadata": {},
     "output_type": "execute_result"
    }
   ],
   "source": [
    "alcohol.min()"
   ],
   "metadata": {
    "collapsed": false,
    "ExecuteTime": {
     "end_time": "2024-07-18T23:34:38.127448Z",
     "start_time": "2024-07-18T23:34:37.151826Z"
    }
   },
   "id": "143b980d5ef0a451",
   "execution_count": 69
  },
  {
   "cell_type": "code",
   "outputs": [
    {
     "data": {
      "text/plain": "country\nBrunei                      1.0\nCambodia                    1.0\nCanada                      1.0\nCentral African Republic    1.0\nChad                        1.0\nComoros                     1.0\nDR Congo                    1.0\nEgypt                       1.0\nFiji                        1.0\nGambia                      1.0\nGhana                       1.0\nGuyana                      1.0\nHaiti                       1.0\nJordan                      1.0\nKiribati                    1.0\nMalawi                      1.0\nMali                        1.0\nMorocco                     1.0\nNamibia                     1.0\nNicaragua                   1.0\nNiger                       1.0\nOman                        1.0\nPapua New Guinea            1.0\nPhilippines                 1.0\nSolomon Islands             1.0\nThailand                    1.0\nTanzania                    1.0\nVietnam                     1.0\nName: wine_servings, dtype: float64"
     },
     "execution_count": 70,
     "metadata": {},
     "output_type": "execute_result"
    }
   ],
   "source": [
    "alcohol[lambda x: x == x.min()]"
   ],
   "metadata": {
    "collapsed": false,
    "ExecuteTime": {
     "end_time": "2024-07-18T23:34:38.131211Z",
     "start_time": "2024-07-18T23:34:37.156477Z"
    }
   },
   "id": "25b11eab3b21bbe2",
   "execution_count": 70
  },
  {
   "cell_type": "code",
   "outputs": [
    {
     "data": {
      "text/plain": "(np.float64(339.0), np.float64(339.0))"
     },
     "execution_count": 71,
     "metadata": {},
     "output_type": "execute_result"
    }
   ],
   "source": [
    "alcohol[lambda x: x.idxmax()], alcohol.max()"
   ],
   "metadata": {
    "collapsed": false,
    "ExecuteTime": {
     "end_time": "2024-07-18T23:34:38.135037Z",
     "start_time": "2024-07-18T23:34:37.159447Z"
    }
   },
   "id": "be1f3fdfb0de0bd5",
   "execution_count": 71
  },
  {
   "cell_type": "markdown",
   "source": [
    "## Sorting With sort_values()"
   ],
   "metadata": {
    "collapsed": false
   },
   "id": "2e9082cff7898e4e"
  },
  {
   "cell_type": "code",
   "outputs": [
    {
     "data": {
      "text/plain": "country\nThailand           1.0\nSolomon Islands    1.0\nBrunei             1.0\nHaiti              1.0\nCambodia           1.0\n                  ... \nSri Lanka          NaN\nSudan              NaN\nTajikistan         NaN\nUganda             NaN\nYemen              NaN\nName: wine_servings, Length: 193, dtype: float64"
     },
     "execution_count": 72,
     "metadata": {},
     "output_type": "execute_result"
    }
   ],
   "source": [
    "alcohol.sort_values()"
   ],
   "metadata": {
    "collapsed": false,
    "ExecuteTime": {
     "end_time": "2024-07-18T23:34:38.139150Z",
     "start_time": "2024-07-18T23:34:37.164468Z"
    }
   },
   "id": "2daee6f77ece8b54",
   "execution_count": 72
  },
  {
   "cell_type": "code",
   "outputs": [
    {
     "data": {
      "text/plain": "country\nPortugal      339.0\nAndorra       312.0\nDenmark       278.0\nSlovenia      276.0\nLuxembourg    271.0\n              ...  \nSri Lanka       NaN\nSudan           NaN\nTajikistan      NaN\nUganda          NaN\nYemen           NaN\nName: wine_servings, Length: 193, dtype: float64"
     },
     "execution_count": 73,
     "metadata": {},
     "output_type": "execute_result"
    }
   ],
   "source": [
    "alcohol.sort_values(ascending=False)"
   ],
   "metadata": {
    "collapsed": false,
    "ExecuteTime": {
     "end_time": "2024-07-18T23:34:38.147182Z",
     "start_time": "2024-07-18T23:34:37.168139Z"
    }
   },
   "id": "f12990bdf8c2feb2",
   "execution_count": 73
  },
  {
   "cell_type": "code",
   "outputs": [],
   "source": [
    "alcohol.sort_values(ascending=True, na_position='last', kind='quicksort', inplace=True)"
   ],
   "metadata": {
    "collapsed": false,
    "ExecuteTime": {
     "end_time": "2024-07-18T23:34:38.151125Z",
     "start_time": "2024-07-18T23:34:37.173642Z"
    }
   },
   "id": "aff5f4074a6a3db3",
   "execution_count": 74
  },
  {
   "cell_type": "code",
   "outputs": [
    {
     "data": {
      "text/plain": "country\nThailand           1.0\nSolomon Islands    1.0\nBrunei             1.0\nHaiti              1.0\nCambodia           1.0\nName: wine_servings, dtype: float64"
     },
     "execution_count": 75,
     "metadata": {},
     "output_type": "execute_result"
    }
   ],
   "source": [
    "alcohol.head()"
   ],
   "metadata": {
    "collapsed": false,
    "ExecuteTime": {
     "end_time": "2024-07-18T23:34:38.154883Z",
     "start_time": "2024-07-18T23:34:37.176829Z"
    }
   },
   "id": "6b5763ca6b54f2f6",
   "execution_count": 75
  },
  {
   "cell_type": "markdown",
   "source": [
    "## nlargest() and nsmallest()"
   ],
   "metadata": {
    "collapsed": false
   },
   "id": "7fd2f6012cb87041"
  },
  {
   "cell_type": "code",
   "outputs": [
    {
     "data": {
      "text/plain": "(np.float64(1.0), np.float64(339.0))"
     },
     "execution_count": 76,
     "metadata": {},
     "output_type": "execute_result"
    }
   ],
   "source": [
    "alcohol.min(), alcohol.max()"
   ],
   "metadata": {
    "collapsed": false,
    "ExecuteTime": {
     "end_time": "2024-07-18T23:34:38.158461Z",
     "start_time": "2024-07-18T23:34:37.179953Z"
    }
   },
   "id": "14348313cd1b777a",
   "execution_count": 76
  },
  {
   "cell_type": "code",
   "outputs": [
    {
     "data": {
      "text/plain": "country\nPortugal             339.0\nAndorra              312.0\nDenmark              278.0\nSlovenia             276.0\nLuxembourg           271.0\nCroatia              254.0\nItaly                237.0\nEquatorial Guinea    233.0\nArgentina            221.0\nGreece               218.0\nName: wine_servings, dtype: float64"
     },
     "execution_count": 77,
     "metadata": {},
     "output_type": "execute_result"
    }
   ],
   "source": [
    "alcohol.sort_values(ascending=False)[:10]"
   ],
   "metadata": {
    "collapsed": false,
    "ExecuteTime": {
     "end_time": "2024-07-18T23:34:38.166783Z",
     "start_time": "2024-07-18T23:34:37.183819Z"
    }
   },
   "id": "2b5c8522183fabe0",
   "execution_count": 77
  },
  {
   "cell_type": "code",
   "outputs": [
    {
     "data": {
      "text/plain": "country\nPortugal             339.0\nAndorra              312.0\nDenmark              278.0\nSlovenia             276.0\nLuxembourg           271.0\nCroatia              254.0\nItaly                237.0\nEquatorial Guinea    233.0\nArgentina            221.0\nGreece               218.0\nName: wine_servings, dtype: float64"
     },
     "execution_count": 78,
     "metadata": {},
     "output_type": "execute_result"
    }
   ],
   "source": [
    "alcohol.nlargest(10)"
   ],
   "metadata": {
    "collapsed": false,
    "ExecuteTime": {
     "end_time": "2024-07-18T23:34:38.171564Z",
     "start_time": "2024-07-18T23:34:37.190354Z"
    }
   },
   "id": "9dfb2a177b84a6",
   "execution_count": 78
  },
  {
   "cell_type": "code",
   "outputs": [
    {
     "data": {
      "text/plain": "country\nThailand                    1.0\nSolomon Islands             1.0\nBrunei                      1.0\nHaiti                       1.0\nCambodia                    1.0\nGuyana                      1.0\nCanada                      1.0\nJordan                      1.0\nCentral African Republic    1.0\nComoros                     1.0\nGhana                       1.0\nGambia                      1.0\nFiji                        1.0\nEgypt                       1.0\nDR Congo                    1.0\nChad                        1.0\nKiribati                    1.0\nTanzania                    1.0\nPhilippines                 1.0\nVietnam                     1.0\nName: wine_servings, dtype: float64"
     },
     "execution_count": 79,
     "metadata": {},
     "output_type": "execute_result"
    }
   ],
   "source": [
    "alcohol.nsmallest(20)"
   ],
   "metadata": {
    "collapsed": false,
    "ExecuteTime": {
     "end_time": "2024-07-18T23:34:38.181388Z",
     "start_time": "2024-07-18T23:34:37.197801Z"
    }
   },
   "id": "fbae47ad38ecfd83",
   "execution_count": 79
  },
  {
   "cell_type": "markdown",
   "source": [
    "## Sorting with sort_index()"
   ],
   "metadata": {
    "collapsed": false
   },
   "id": "db5643b73b46bec6"
  },
  {
   "cell_type": "code",
   "outputs": [
    {
     "data": {
      "text/plain": "country\nThailand           1.0\nSolomon Islands    1.0\nBrunei             1.0\nHaiti              1.0\nCambodia           1.0\nName: wine_servings, dtype: float64"
     },
     "execution_count": 80,
     "metadata": {},
     "output_type": "execute_result"
    }
   ],
   "source": [
    "alcohol.head()"
   ],
   "metadata": {
    "collapsed": false,
    "ExecuteTime": {
     "end_time": "2024-07-18T23:34:38.185090Z",
     "start_time": "2024-07-18T23:34:37.202634Z"
    }
   },
   "id": "8d2cb1996e029620",
   "execution_count": 80
  },
  {
   "cell_type": "code",
   "outputs": [],
   "source": [
    "alcohol.sort_index(ascending=False, na_position='first', kind='quicksort', inplace=True)"
   ],
   "metadata": {
    "collapsed": false,
    "ExecuteTime": {
     "end_time": "2024-07-18T23:34:38.188422Z",
     "start_time": "2024-07-18T23:34:37.207034Z"
    }
   },
   "id": "b845e9bab7d7d09a",
   "execution_count": 81
  },
  {
   "cell_type": "code",
   "outputs": [
    {
     "data": {
      "text/plain": "np.int64(0)"
     },
     "execution_count": 82,
     "metadata": {},
     "output_type": "execute_result"
    }
   ],
   "source": [
    "alcohol.index.isnull().sum()"
   ],
   "metadata": {
    "collapsed": false,
    "ExecuteTime": {
     "end_time": "2024-07-18T23:34:38.192061Z",
     "start_time": "2024-07-18T23:34:37.219313Z"
    }
   },
   "id": "4645fe6372d02232",
   "execution_count": 82
  },
  {
   "cell_type": "code",
   "outputs": [
    {
     "data": {
      "text/plain": "country\nZimbabwe     4.0\nZambia       4.0\nYemen        NaN\nVietnam      1.0\nVenezuela    3.0\nName: wine_servings, dtype: float64"
     },
     "execution_count": 83,
     "metadata": {},
     "output_type": "execute_result"
    }
   ],
   "source": [
    "alcohol.head()"
   ],
   "metadata": {
    "collapsed": false,
    "ExecuteTime": {
     "end_time": "2024-07-18T23:34:38.199364Z",
     "start_time": "2024-07-18T23:34:37.222841Z"
    }
   },
   "id": "e18b9a925a50f5f0",
   "execution_count": 83
  },
  {
   "cell_type": "markdown",
   "source": [
    "## Skill Challenge"
   ],
   "metadata": {
    "collapsed": false
   },
   "id": "3c4e84d24dbe93a2"
  },
  {
   "cell_type": "markdown",
   "source": [
    "1. Select all the countries from alcohol that have more than 50 *wine_servings* and save them in a variable *fifty_plus*"
   ],
   "metadata": {
    "collapsed": false
   },
   "id": "21e256f2f2108372"
  },
  {
   "cell_type": "code",
   "outputs": [
    {
     "data": {
      "text/plain": "np.float64(51.0)"
     },
     "execution_count": 84,
     "metadata": {},
     "output_type": "execute_result"
    }
   ],
   "source": [
    "fifty_plus = alcohol[lambda x: x > 50]\n",
    "fifty_plus.min()"
   ],
   "metadata": {
    "collapsed": false,
    "ExecuteTime": {
     "end_time": "2024-07-18T23:34:38.203067Z",
     "start_time": "2024-07-18T23:34:37.226491Z"
    }
   },
   "id": "58e385ee18b1b2cb",
   "execution_count": 84
  },
  {
   "cell_type": "markdown",
   "source": [
    "2. From *fifty_plus* choose the countries with the smallest 20 wine servings values"
   ],
   "metadata": {
    "collapsed": false
   },
   "id": "b7a3bb0741d28fcd"
  },
  {
   "cell_type": "code",
   "outputs": [
    {
     "data": {
      "text/plain": "country\nSeychelles             51.0\nBahamas                51.0\nAlbania                54.0\nPoland                 56.0\nLithuania              56.0\nGabon                  59.0\nEstonia                59.0\nLatvia                 62.0\nSt. Lucia              71.0\nRussian Federation     73.0\nParaguay               74.0\nCook Islands           74.0\nIceland                78.0\nSouth Africa           81.0\nUSA                    84.0\nMacedonia              86.0\nBulgaria               94.0\nFinland                97.0\nSpain                 112.0\nCyprus                113.0\nName: wine_servings, dtype: float64"
     },
     "execution_count": 85,
     "metadata": {},
     "output_type": "execute_result"
    }
   ],
   "source": [
    "# fifty_plus = fifty_plus.sort_values(ascending=True)[:20]\n",
    "# fifty_plus\n",
    "\n",
    "fifty_plus = fifty_plus.nsmallest(20)\n",
    "fifty_plus"
   ],
   "metadata": {
    "collapsed": false,
    "ExecuteTime": {
     "end_time": "2024-07-18T23:34:38.206788Z",
     "start_time": "2024-07-18T23:34:37.231232Z"
    }
   },
   "id": "69c02697da9d8c6b",
   "execution_count": 85
  },
  {
   "cell_type": "markdown",
   "source": [
    "3. What is the mean, median, and std for the sample from step 2"
   ],
   "metadata": {
    "collapsed": false
   },
   "id": "f2c32c1cdc543def"
  },
  {
   "cell_type": "code",
   "outputs": [
    {
     "data": {
      "text/plain": "(np.float64(74.25), np.float64(73.5), np.float64(19.07292100831631))"
     },
     "execution_count": 86,
     "metadata": {},
     "output_type": "execute_result"
    }
   ],
   "source": [
    "fifty_plus.mean(), fifty_plus.median(), fifty_plus.std()"
   ],
   "metadata": {
    "collapsed": false,
    "ExecuteTime": {
     "end_time": "2024-07-18T23:34:38.210212Z",
     "start_time": "2024-07-18T23:34:37.235333Z"
    }
   },
   "id": "c951c881e48e6b4a",
   "execution_count": 86
  },
  {
   "cell_type": "markdown",
   "source": [
    "## Arithmetics and fill_value()"
   ],
   "metadata": {
    "collapsed": false
   },
   "id": "9f16409259b953c8"
  },
  {
   "cell_type": "code",
   "outputs": [
    {
     "data": {
      "text/plain": "country\nZimbabwe         6.0\nZambia           6.0\nYemen            NaN\nVietnam          3.0\nVenezuela        5.0\n               ...  \nAngola          47.0\nAndorra        314.0\nAlgeria         16.0\nAlbania         56.0\nAfghanistan      NaN\nName: wine_servings, Length: 193, dtype: float64"
     },
     "execution_count": 87,
     "metadata": {},
     "output_type": "execute_result"
    }
   ],
   "source": [
    "alcohol + 2"
   ],
   "metadata": {
    "collapsed": false,
    "ExecuteTime": {
     "end_time": "2024-07-18T23:34:38.217702Z",
     "start_time": "2024-07-18T23:34:37.238687Z"
    }
   },
   "id": "fb5dab736d49e4d6",
   "execution_count": 87
  },
  {
   "cell_type": "code",
   "outputs": [
    {
     "data": {
      "text/plain": "country\nZimbabwe       -12.0\nZambia         -12.0\nYemen            NaN\nVietnam        -18.0\nVenezuela      -14.0\n               ...  \nAngola          70.0\nAndorra        604.0\nAlgeria          8.0\nAlbania         88.0\nAfghanistan      NaN\nName: wine_servings, Length: 193, dtype: float64"
     },
     "execution_count": 88,
     "metadata": {},
     "output_type": "execute_result"
    }
   ],
   "source": [
    "(alcohol - 10) * 2"
   ],
   "metadata": {
    "collapsed": false,
    "ExecuteTime": {
     "end_time": "2024-07-18T23:34:38.221118Z",
     "start_time": "2024-07-18T23:34:37.244471Z"
    }
   },
   "id": "b4cd59ededfe5df1",
   "execution_count": 88
  },
  {
   "cell_type": "code",
   "outputs": [
    {
     "data": {
      "text/plain": "country\nZimbabwe     4.0\nZambia       4.0\nYemen        NaN\nVietnam      1.0\nVenezuela    3.0\nName: wine_servings, dtype: float64"
     },
     "execution_count": 89,
     "metadata": {},
     "output_type": "execute_result"
    }
   ],
   "source": [
    "alcohol.head()\n"
   ],
   "metadata": {
    "collapsed": false,
    "ExecuteTime": {
     "end_time": "2024-07-18T23:34:38.228128Z",
     "start_time": "2024-07-18T23:34:37.248055Z"
    }
   },
   "id": "a18d228c10f88a47",
   "execution_count": 89
  },
  {
   "cell_type": "code",
   "outputs": [],
   "source": [
    "alcohol.sort_index(inplace=True)"
   ],
   "metadata": {
    "collapsed": false,
    "ExecuteTime": {
     "end_time": "2024-07-18T23:34:38.232048Z",
     "start_time": "2024-07-18T23:34:37.251566Z"
    }
   },
   "id": "7c14badad8e17598",
   "execution_count": 90
  },
  {
   "cell_type": "code",
   "outputs": [
    {
     "data": {
      "text/plain": "country\nAfghanistan      NaN\nAlbania         54.0\nAlgeria         14.0\nAndorra        312.0\nAngola          45.0\nName: wine_servings, dtype: float64"
     },
     "execution_count": 91,
     "metadata": {},
     "output_type": "execute_result"
    }
   ],
   "source": [
    "alcohol.head()"
   ],
   "metadata": {
    "collapsed": false,
    "ExecuteTime": {
     "end_time": "2024-07-18T23:34:38.235872Z",
     "start_time": "2024-07-18T23:34:37.255099Z"
    }
   },
   "id": "6e32ee259a7f279",
   "execution_count": 91
  },
  {
   "cell_type": "code",
   "outputs": [],
   "source": [
    "more_drinks = pd.Series({'Albania': 6, 'Alberia': 19, 'Algeria': 10, 'Afghanistan': 100, 'Yemen': 101})"
   ],
   "metadata": {
    "collapsed": false,
    "ExecuteTime": {
     "end_time": "2024-07-18T23:34:38.239588Z",
     "start_time": "2024-07-18T23:34:37.257966Z"
    }
   },
   "id": "ab0e6024f2f8f05f",
   "execution_count": 92
  },
  {
   "cell_type": "code",
   "outputs": [
    {
     "data": {
      "text/plain": "Afghanistan     NaN\nAlbania        60.0\nAlberia         NaN\nAlgeria        24.0\nAndorra         NaN\n               ... \nVenezuela       NaN\nVietnam         NaN\nYemen           NaN\nZambia          NaN\nZimbabwe        NaN\nLength: 194, dtype: float64"
     },
     "execution_count": 93,
     "metadata": {},
     "output_type": "execute_result"
    }
   ],
   "source": [
    "alcohol + more_drinks"
   ],
   "metadata": {
    "collapsed": false,
    "ExecuteTime": {
     "end_time": "2024-07-18T23:34:38.247034Z",
     "start_time": "2024-07-18T23:34:37.262520Z"
    }
   },
   "id": "eaf1e1b1ae1785fb",
   "execution_count": 93
  },
  {
   "cell_type": "code",
   "outputs": [
    {
     "data": {
      "text/plain": "Afghanistan    100.0\nAlbania         60.0\nAlberia         19.0\nAlgeria         24.0\nAndorra        312.0\n               ...  \nVenezuela        3.0\nVietnam          1.0\nYemen          101.0\nZambia           4.0\nZimbabwe         4.0\nLength: 194, dtype: float64"
     },
     "execution_count": 94,
     "metadata": {},
     "output_type": "execute_result"
    }
   ],
   "source": [
    "alcohol.add(more_drinks, fill_value=0)"
   ],
   "metadata": {
    "collapsed": false,
    "ExecuteTime": {
     "end_time": "2024-07-18T23:34:38.250616Z",
     "start_time": "2024-07-18T23:34:37.266965Z"
    }
   },
   "id": "c9061c21a4d5b4db",
   "execution_count": 94
  },
  {
   "cell_type": "code",
   "outputs": [
    {
     "data": {
      "text/plain": "Afghanistan     NaN\nAlbania        48.0\nAlberia         NaN\nAlgeria         4.0\nAndorra         NaN\n               ... \nVenezuela       NaN\nVietnam         NaN\nYemen           NaN\nZambia          NaN\nZimbabwe        NaN\nLength: 194, dtype: float64"
     },
     "execution_count": 95,
     "metadata": {},
     "output_type": "execute_result"
    }
   ],
   "source": [
    "alcohol - more_drinks"
   ],
   "metadata": {
    "collapsed": false,
    "ExecuteTime": {
     "end_time": "2024-07-18T23:34:38.253842Z",
     "start_time": "2024-07-18T23:34:37.271492Z"
    }
   },
   "id": "ae0ccf8c3528e99f",
   "execution_count": 95
  },
  {
   "cell_type": "code",
   "outputs": [
    {
     "data": {
      "text/plain": "Afghanistan   -100.0\nAlbania         48.0\nAlberia        -19.0\nAlgeria          4.0\nAndorra        312.0\n               ...  \nVenezuela        3.0\nVietnam          1.0\nYemen         -101.0\nZambia           4.0\nZimbabwe         4.0\nLength: 194, dtype: float64"
     },
     "execution_count": 96,
     "metadata": {},
     "output_type": "execute_result"
    }
   ],
   "source": [
    "alcohol.subtract(more_drinks, fill_value=0)"
   ],
   "metadata": {
    "collapsed": false,
    "ExecuteTime": {
     "end_time": "2024-07-18T23:34:38.256997Z",
     "start_time": "2024-07-18T23:34:37.275776Z"
    }
   },
   "id": "db6d02fd6abe9ef3",
   "execution_count": 96
  },
  {
   "cell_type": "code",
   "outputs": [
    {
     "data": {
      "text/plain": "Afghanistan      0.010000\nAlbania          9.000000\nAlberia          0.052632\nAlgeria          1.400000\nAndorra        312.000000\n                  ...    \nVenezuela        3.000000\nVietnam          1.000000\nYemen            0.009901\nZambia           4.000000\nZimbabwe         4.000000\nLength: 194, dtype: float64"
     },
     "execution_count": 97,
     "metadata": {},
     "output_type": "execute_result"
    }
   ],
   "source": [
    "alcohol.divide(more_drinks, fill_value=1)"
   ],
   "metadata": {
    "collapsed": false,
    "ExecuteTime": {
     "end_time": "2024-07-18T23:34:38.263969Z",
     "start_time": "2024-07-18T23:34:37.279767Z"
    }
   },
   "id": "ae486fa4bb1dc921",
   "execution_count": 97
  },
  {
   "cell_type": "code",
   "outputs": [
    {
     "data": {
      "text/plain": "Afghanistan    100.0\nAlbania        324.0\nAlberia         19.0\nAlgeria        140.0\nAndorra        312.0\n               ...  \nVenezuela        3.0\nVietnam          1.0\nYemen          101.0\nZambia           4.0\nZimbabwe         4.0\nLength: 194, dtype: float64"
     },
     "execution_count": 98,
     "metadata": {},
     "output_type": "execute_result"
    }
   ],
   "source": [
    "alcohol.multiply(more_drinks, fill_value=1)"
   ],
   "metadata": {
    "collapsed": false,
    "ExecuteTime": {
     "end_time": "2024-07-18T23:34:38.267502Z",
     "start_time": "2024-07-18T23:34:37.284094Z"
    }
   },
   "id": "b38422bbe9b6e39c",
   "execution_count": 98
  },
  {
   "cell_type": "code",
   "outputs": [
    {
     "data": {
      "text/plain": "Albania          6\nAlberia         19\nAlgeria         10\nAfghanistan    100\nYemen          101\ndtype: int64"
     },
     "execution_count": 99,
     "metadata": {},
     "output_type": "execute_result"
    }
   ],
   "source": [
    "more_drinks.head()"
   ],
   "metadata": {
    "collapsed": false,
    "ExecuteTime": {
     "end_time": "2024-07-18T23:34:38.274504Z",
     "start_time": "2024-07-18T23:34:37.287238Z"
    }
   },
   "id": "96dc4cbb14234e1c",
   "execution_count": 99
  },
  {
   "cell_type": "code",
   "outputs": [
    {
     "data": {
      "text/plain": "country\nAfghanistan      NaN\nAlbania         54.0\nAlgeria         14.0\nAndorra        312.0\nAngola          45.0\nName: wine_servings, dtype: float64"
     },
     "execution_count": 100,
     "metadata": {},
     "output_type": "execute_result"
    }
   ],
   "source": [
    "alcohol.head()"
   ],
   "metadata": {
    "collapsed": false,
    "ExecuteTime": {
     "end_time": "2024-07-18T23:34:38.278249Z",
     "start_time": "2024-07-18T23:34:37.290266Z"
    }
   },
   "id": "f1dfe97864c58882",
   "execution_count": 100
  },
  {
   "cell_type": "markdown",
   "source": [
    "## Calculating Variance And Standard Deviation"
   ],
   "metadata": {
    "collapsed": false
   },
   "id": "65bc8010d7d39fb2"
  },
  {
   "cell_type": "code",
   "outputs": [
    {
     "data": {
      "text/plain": "np.float64(5796.5256115328575)"
     },
     "execution_count": 101,
     "metadata": {},
     "output_type": "execute_result"
    }
   ],
   "source": [
    "alcohol.var()"
   ],
   "metadata": {
    "collapsed": false,
    "ExecuteTime": {
     "end_time": "2024-07-18T23:34:38.281662Z",
     "start_time": "2024-07-18T23:34:37.293474Z"
    }
   },
   "id": "4dd089a4f05bd4d",
   "execution_count": 101
  },
  {
   "cell_type": "code",
   "outputs": [
    {
     "data": {
      "text/plain": "np.float64(5796.5256115328575)"
     },
     "execution_count": 102,
     "metadata": {},
     "output_type": "execute_result"
    }
   ],
   "source": [
    "(alcohol.subtract(alcohol.mean())**2).sum()/(alcohol.count()-1)"
   ],
   "metadata": {
    "collapsed": false,
    "ExecuteTime": {
     "end_time": "2024-07-18T23:34:38.285180Z",
     "start_time": "2024-07-18T23:34:37.296843Z"
    }
   },
   "id": "d0e4426ee45ad659",
   "execution_count": 102
  },
  {
   "cell_type": "code",
   "outputs": [
    {
     "data": {
      "text/plain": "np.float64(76.13491716376171)"
     },
     "execution_count": 103,
     "metadata": {},
     "output_type": "execute_result"
    }
   ],
   "source": [
    "alcohol.std()"
   ],
   "metadata": {
    "collapsed": false,
    "ExecuteTime": {
     "end_time": "2024-07-18T23:34:38.292014Z",
     "start_time": "2024-07-18T23:34:37.300301Z"
    }
   },
   "id": "c52e23322c9ca014",
   "execution_count": 103
  },
  {
   "cell_type": "code",
   "outputs": [
    {
     "data": {
      "text/plain": "np.float64(76.13491716376171)"
     },
     "execution_count": 104,
     "metadata": {},
     "output_type": "execute_result"
    }
   ],
   "source": [
    "((alcohol.subtract(alcohol.mean())**2).sum()/(alcohol.count()-1))**(1/2)\n"
   ],
   "metadata": {
    "collapsed": false,
    "ExecuteTime": {
     "end_time": "2024-07-18T23:34:38.295479Z",
     "start_time": "2024-07-18T23:34:37.304409Z"
    }
   },
   "id": "97687af748c70b32",
   "execution_count": 104
  },
  {
   "cell_type": "markdown",
   "source": [
    "## Cumulative Operations"
   ],
   "metadata": {
    "collapsed": false
   },
   "id": "76cc7dad736a391c"
  },
  {
   "cell_type": "code",
   "outputs": [
    {
     "data": {
      "text/plain": "np.float64(8221.0)"
     },
     "execution_count": 105,
     "metadata": {},
     "output_type": "execute_result"
    }
   ],
   "source": [
    "# sum\n",
    "\n",
    "alcohol.sum()"
   ],
   "metadata": {
    "collapsed": false,
    "ExecuteTime": {
     "end_time": "2024-07-18T23:34:38.298991Z",
     "start_time": "2024-07-18T23:34:37.308132Z"
    }
   },
   "id": "aaa526b0808fa725",
   "execution_count": 105
  },
  {
   "cell_type": "code",
   "outputs": [
    {
     "data": {
      "text/plain": "country\nAfghanistan       NaN\nAlbania          54.0\nAlgeria          68.0\nAndorra         380.0\nAngola          425.0\n                ...  \nVenezuela      8212.0\nVietnam        8213.0\nYemen             NaN\nZambia         8217.0\nZimbabwe       8221.0\nName: wine_servings, Length: 193, dtype: float64"
     },
     "execution_count": 106,
     "metadata": {},
     "output_type": "execute_result"
    }
   ],
   "source": [
    "alcohol.cumsum(skipna=True)"
   ],
   "metadata": {
    "collapsed": false,
    "ExecuteTime": {
     "end_time": "2024-07-18T23:34:38.302509Z",
     "start_time": "2024-07-18T23:34:37.312580Z"
    }
   },
   "id": "5ceac812367de56f",
   "execution_count": 106
  },
  {
   "cell_type": "code",
   "outputs": [
    {
     "data": {
      "text/plain": "nan"
     },
     "execution_count": 107,
     "metadata": {},
     "output_type": "execute_result"
    }
   ],
   "source": [
    "np.nan + 123"
   ],
   "metadata": {
    "collapsed": false,
    "ExecuteTime": {
     "end_time": "2024-07-18T23:34:38.316483Z",
     "start_time": "2024-07-18T23:34:37.316810Z"
    }
   },
   "id": "b5d844ce11429c12",
   "execution_count": 107
  },
  {
   "cell_type": "code",
   "outputs": [
    {
     "data": {
      "text/plain": "<NA>"
     },
     "execution_count": 108,
     "metadata": {},
     "output_type": "execute_result"
    }
   ],
   "source": [
    "pd.NA + 123"
   ],
   "metadata": {
    "collapsed": false,
    "ExecuteTime": {
     "end_time": "2024-07-18T23:34:38.319825Z",
     "start_time": "2024-07-18T23:34:37.320576Z"
    }
   },
   "id": "2bc51ff06d877a86",
   "execution_count": 108
  },
  {
   "cell_type": "code",
   "outputs": [
    {
     "data": {
      "text/plain": "np.float64(3.4276115052182805e+183)"
     },
     "execution_count": 109,
     "metadata": {},
     "output_type": "execute_result"
    }
   ],
   "source": [
    "# Cumprod\n",
    "\n",
    "alcohol.prod()"
   ],
   "metadata": {
    "collapsed": false,
    "ExecuteTime": {
     "end_time": "2024-07-18T23:34:38.327009Z",
     "start_time": "2024-07-18T23:34:37.324780Z"
    }
   },
   "id": "88bc255eb6271678",
   "execution_count": 109
  },
  {
   "cell_type": "code",
   "outputs": [
    {
     "data": {
      "text/plain": "np.float64(3.4276115052182805e+183)"
     },
     "execution_count": 110,
     "metadata": {},
     "output_type": "execute_result"
    }
   ],
   "source": [
    "alcohol.cumprod().iloc[-1]"
   ],
   "metadata": {
    "collapsed": false,
    "ExecuteTime": {
     "end_time": "2024-07-18T23:34:38.330440Z",
     "start_time": "2024-07-18T23:34:37.329208Z"
    }
   },
   "id": "7c26653c8c0d2399",
   "execution_count": 110
  },
  {
   "cell_type": "code",
   "outputs": [
    {
     "data": {
      "text/plain": "np.True_"
     },
     "execution_count": 111,
     "metadata": {},
     "output_type": "execute_result"
    }
   ],
   "source": [
    "alcohol.prod() == alcohol.cumprod().iloc[-1]"
   ],
   "metadata": {
    "collapsed": false,
    "ExecuteTime": {
     "end_time": "2024-07-18T23:34:38.333649Z",
     "start_time": "2024-07-18T23:34:37.332912Z"
    }
   },
   "id": "11260964f6910544",
   "execution_count": 111
  },
  {
   "cell_type": "code",
   "outputs": [
    {
     "data": {
      "text/plain": "np.float64(1.0)"
     },
     "execution_count": 112,
     "metadata": {},
     "output_type": "execute_result"
    }
   ],
   "source": [
    "# Cumin Cumax\n",
    "\n",
    "alcohol.min()"
   ],
   "metadata": {
    "collapsed": false,
    "ExecuteTime": {
     "end_time": "2024-07-18T23:34:38.336872Z",
     "start_time": "2024-07-18T23:34:37.336547Z"
    }
   },
   "id": "76df195c26bf2442",
   "execution_count": 112
  },
  {
   "cell_type": "code",
   "outputs": [
    {
     "data": {
      "text/plain": "country\nAfghanistan     NaN\nAlbania        54.0\nAlgeria        14.0\nAndorra        14.0\nAngola         14.0\n               ... \nVenezuela       1.0\nVietnam         1.0\nYemen           NaN\nZambia          1.0\nZimbabwe        1.0\nName: wine_servings, Length: 193, dtype: float64"
     },
     "execution_count": 113,
     "metadata": {},
     "output_type": "execute_result"
    }
   ],
   "source": [
    "alcohol.cummin()"
   ],
   "metadata": {
    "collapsed": false,
    "ExecuteTime": {
     "end_time": "2024-07-18T23:34:38.343792Z",
     "start_time": "2024-07-18T23:34:37.341631Z"
    }
   },
   "id": "2becc562e8fc040c",
   "execution_count": 113
  },
  {
   "cell_type": "code",
   "outputs": [
    {
     "data": {
      "text/plain": "np.float64(339.0)"
     },
     "execution_count": 114,
     "metadata": {},
     "output_type": "execute_result"
    }
   ],
   "source": [
    "alcohol.max()"
   ],
   "metadata": {
    "collapsed": false,
    "ExecuteTime": {
     "end_time": "2024-07-18T23:34:38.353419Z",
     "start_time": "2024-07-18T23:34:37.346013Z"
    }
   },
   "id": "9e5ff3baa5f09b28",
   "execution_count": 114
  },
  {
   "cell_type": "code",
   "outputs": [
    {
     "data": {
      "text/plain": "country\nAfghanistan      NaN\nAlbania         54.0\nAlgeria         54.0\nAndorra        312.0\nAngola         312.0\n               ...  \nVenezuela      339.0\nVietnam        339.0\nYemen            NaN\nZambia         339.0\nZimbabwe       339.0\nName: wine_servings, Length: 193, dtype: float64"
     },
     "execution_count": 115,
     "metadata": {},
     "output_type": "execute_result"
    }
   ],
   "source": [
    "alcohol.cummax()"
   ],
   "metadata": {
    "collapsed": false,
    "ExecuteTime": {
     "end_time": "2024-07-18T23:34:38.363609Z",
     "start_time": "2024-07-18T23:34:37.348871Z"
    }
   },
   "id": "98eb863b6eaa8e34",
   "execution_count": 115
  },
  {
   "cell_type": "markdown",
   "source": [
    "## Pairwise Differences With diff()"
   ],
   "metadata": {
    "collapsed": false
   },
   "id": "8ba39fb536ce87f0"
  },
  {
   "cell_type": "code",
   "outputs": [
    {
     "data": {
      "text/plain": "country\nAfghanistan      NaN\nAlbania         54.0\nAlgeria         14.0\nAndorra        312.0\nAngola          45.0\nName: wine_servings, dtype: float64"
     },
     "execution_count": 116,
     "metadata": {},
     "output_type": "execute_result"
    }
   ],
   "source": [
    "alcohol.head()"
   ],
   "metadata": {
    "collapsed": false,
    "ExecuteTime": {
     "end_time": "2024-07-18T23:34:38.370702Z",
     "start_time": "2024-07-18T23:34:37.354852Z"
    }
   },
   "id": "8b2f400fc25e1eb1",
   "execution_count": 116
  },
  {
   "cell_type": "code",
   "outputs": [
    {
     "data": {
      "text/plain": "country\nAfghanistan      NaN\nAlbania          NaN\nAlgeria        -40.0\nAndorra        298.0\nAngola        -267.0\nName: wine_servings, dtype: float64"
     },
     "execution_count": 117,
     "metadata": {},
     "output_type": "execute_result"
    }
   ],
   "source": [
    "alcohol.diff().head()"
   ],
   "metadata": {
    "collapsed": false,
    "ExecuteTime": {
     "end_time": "2024-07-18T23:34:38.380249Z",
     "start_time": "2024-07-18T23:34:37.361918Z"
    }
   },
   "id": "346e49bce04853cb",
   "execution_count": 117
  },
  {
   "cell_type": "code",
   "outputs": [
    {
     "data": {
      "text/plain": "country\nAfghanistan      NaN\nAlbania          NaN\nAlgeria          NaN\nAndorra        258.0\nAngola          31.0\nName: wine_servings, dtype: float64"
     },
     "execution_count": 118,
     "metadata": {},
     "output_type": "execute_result"
    }
   ],
   "source": [
    "alcohol.diff(periods=2).head()"
   ],
   "metadata": {
    "collapsed": false,
    "ExecuteTime": {
     "end_time": "2024-07-18T23:34:38.393433Z",
     "start_time": "2024-07-18T23:34:37.366915Z"
    }
   },
   "id": "d55ba74023a7f1cf",
   "execution_count": 118
  },
  {
   "cell_type": "markdown",
   "source": [
    "## Series Iteration"
   ],
   "metadata": {
    "collapsed": false
   },
   "id": "e2c32f451e24f69b"
  },
  {
   "cell_type": "code",
   "outputs": [
    {
     "data": {
      "text/plain": "country\nAfghanistan            NaN\nAlbania               54.0\nAlgeria               14.0\nAndorra              312.0\nAngola                45.0\nAntigua & Barbuda     45.0\nArgentina            221.0\nArmenia               11.0\nAustralia            212.0\nAustria              191.0\nName: wine_servings, dtype: float64"
     },
     "execution_count": 119,
     "metadata": {},
     "output_type": "execute_result"
    }
   ],
   "source": [
    "mini_alc = alcohol[:10]\n",
    "mini_alc"
   ],
   "metadata": {
    "collapsed": false,
    "ExecuteTime": {
     "end_time": "2024-07-18T23:34:38.403436Z",
     "start_time": "2024-07-18T23:34:37.371774Z"
    }
   },
   "id": "1d9631efbd58083c",
   "execution_count": 119
  },
  {
   "cell_type": "code",
   "outputs": [
    {
     "name": "stdout",
     "output_type": "stream",
     "text": [
      "nan\n",
      "54.0\n",
      "14.0\n",
      "312.0\n",
      "45.0\n",
      "45.0\n",
      "221.0\n",
      "11.0\n",
      "212.0\n",
      "191.0\n"
     ]
    }
   ],
   "source": [
    "for i in mini_alc:\n",
    "    print(i)"
   ],
   "metadata": {
    "collapsed": false,
    "ExecuteTime": {
     "end_time": "2024-07-18T23:34:38.407468Z",
     "start_time": "2024-07-18T23:34:37.374558Z"
    }
   },
   "id": "97a9b6d62971eebd",
   "execution_count": 120
  },
  {
   "cell_type": "code",
   "outputs": [
    {
     "name": "stdout",
     "output_type": "stream",
     "text": [
      "Afghanistan\n",
      "Albania\n",
      "Algeria\n",
      "Andorra\n",
      "Angola\n",
      "Antigua & Barbuda\n",
      "Argentina\n",
      "Armenia\n",
      "Australia\n",
      "Austria\n"
     ]
    }
   ],
   "source": [
    "for i in mini_alc.index:\n",
    "    print(i)"
   ],
   "metadata": {
    "collapsed": false,
    "ExecuteTime": {
     "end_time": "2024-07-18T23:34:38.414251Z",
     "start_time": "2024-07-18T23:34:37.378132Z"
    }
   },
   "id": "bc86b9ded5043289",
   "execution_count": 121
  },
  {
   "cell_type": "code",
   "outputs": [
    {
     "name": "stdout",
     "output_type": "stream",
     "text": [
      "Afghanistan nan\n",
      "Albania 54.0\n",
      "Algeria 14.0\n",
      "Andorra 312.0\n",
      "Angola 45.0\n",
      "Antigua & Barbuda 45.0\n",
      "Argentina 221.0\n",
      "Armenia 11.0\n",
      "Australia 212.0\n",
      "Austria 191.0\n"
     ]
    }
   ],
   "source": [
    "for i in mini_alc.index:\n",
    "    print(i, mini_alc.loc[i])"
   ],
   "metadata": {
    "collapsed": false,
    "ExecuteTime": {
     "end_time": "2024-07-18T23:34:38.427450Z",
     "start_time": "2024-07-18T23:34:37.380997Z"
    }
   },
   "id": "ebb6a44289ed6d40",
   "execution_count": 122
  },
  {
   "cell_type": "code",
   "outputs": [
    {
     "name": "stdout",
     "output_type": "stream",
     "text": [
      "('Afghanistan', nan)\n",
      "('Albania', 54.0)\n",
      "('Algeria', 14.0)\n",
      "('Andorra', 312.0)\n",
      "('Angola', 45.0)\n",
      "('Antigua & Barbuda', 45.0)\n",
      "('Argentina', 221.0)\n",
      "('Armenia', 11.0)\n",
      "('Australia', 212.0)\n",
      "('Austria', 191.0)\n"
     ]
    }
   ],
   "source": [
    "for i in mini_alc.items():\n",
    "    print(i)"
   ],
   "metadata": {
    "collapsed": false,
    "ExecuteTime": {
     "end_time": "2024-07-18T23:34:38.430852Z",
     "start_time": "2024-07-18T23:34:37.385494Z"
    }
   },
   "id": "60723b3a7c5ccd7c",
   "execution_count": 123
  },
  {
   "cell_type": "code",
   "outputs": [
    {
     "name": "stdout",
     "output_type": "stream",
     "text": [
      "Afghanistan nan\n",
      "Albania 54.0\n",
      "Algeria 14.0\n",
      "Andorra 312.0\n",
      "Angola 45.0\n",
      "Antigua & Barbuda 45.0\n",
      "Argentina 221.0\n",
      "Armenia 11.0\n",
      "Australia 212.0\n",
      "Austria 191.0\n"
     ]
    }
   ],
   "source": [
    "for i, j in mini_alc.items():\n",
    "    print(i, j)"
   ],
   "metadata": {
    "collapsed": false,
    "ExecuteTime": {
     "end_time": "2024-07-18T23:34:38.443945Z",
     "start_time": "2024-07-18T23:34:37.388432Z"
    }
   },
   "id": "c8f6bf4273fe1201",
   "execution_count": 124
  },
  {
   "cell_type": "markdown",
   "source": [
    "## Filtering"
   ],
   "metadata": {
    "collapsed": false
   },
   "id": "7b46efae9669a1d0"
  },
  {
   "cell_type": "code",
   "outputs": [
    {
     "data": {
      "text/plain": "country\nVanuatu      11.0\nVenezuela     3.0\nVietnam       1.0\nName: wine_servings, dtype: float64"
     },
     "execution_count": 126,
     "metadata": {},
     "output_type": "execute_result"
    }
   ],
   "source": [
    "alcohol.filter(regex='^V')"
   ],
   "metadata": {
    "collapsed": false,
    "ExecuteTime": {
     "end_time": "2024-07-18T23:34:47.114535Z",
     "start_time": "2024-07-18T23:34:47.063744Z"
    }
   },
   "id": "30616ae65c4fb0dc",
   "execution_count": 126
  },
  {
   "cell_type": "code",
   "outputs": [
    {
     "data": {
      "text/plain": "country\nAfghanistan      NaN\nKazakhstan      12.0\nKyrgyzstan       6.0\nPakistan         NaN\nTajikistan       NaN\nTurkmenistan    32.0\nUzbekistan       8.0\nName: wine_servings, dtype: float64"
     },
     "execution_count": 127,
     "metadata": {},
     "output_type": "execute_result"
    }
   ],
   "source": [
    "alcohol.filter(like='stan')"
   ],
   "metadata": {
    "collapsed": false,
    "ExecuteTime": {
     "end_time": "2024-07-18T23:36:23.703280Z",
     "start_time": "2024-07-18T23:36:23.610696Z"
    }
   },
   "id": "558444c6a139bd9d",
   "execution_count": 127
  },
  {
   "cell_type": "code",
   "outputs": [
    {
     "data": {
      "text/plain": "country\nAndorra              312.0\nArgentina            221.0\nAustralia            212.0\nBelgium              212.0\nCroatia              254.0\nDenmark              278.0\nEquatorial Guinea    233.0\nGreece               218.0\nItaly                237.0\nLuxembourg           271.0\nPortugal             339.0\nSlovenia             276.0\nName: wine_servings, dtype: float64"
     },
     "execution_count": 128,
     "metadata": {},
     "output_type": "execute_result"
    }
   ],
   "source": [
    "alcohol[lambda x: x > 200]"
   ],
   "metadata": {
    "collapsed": false,
    "ExecuteTime": {
     "end_time": "2024-07-18T23:36:55.335089Z",
     "start_time": "2024-07-18T23:36:55.273955Z"
    }
   },
   "id": "6faef9502eada5b6",
   "execution_count": 128
  },
  {
   "cell_type": "code",
   "outputs": [
    {
     "data": {
      "text/plain": "country\nAndorra              312.0\nArgentina            221.0\nAustralia            212.0\nBelgium              212.0\nCroatia              254.0\nDenmark              278.0\nEquatorial Guinea    233.0\nGreece               218.0\nItaly                237.0\nLuxembourg           271.0\nPortugal             339.0\nSlovenia             276.0\nName: wine_servings, dtype: float64"
     },
     "execution_count": 129,
     "metadata": {},
     "output_type": "execute_result"
    }
   ],
   "source": [
    "alcohol.loc[lambda x: x > 200]"
   ],
   "metadata": {
    "collapsed": false,
    "ExecuteTime": {
     "end_time": "2024-07-18T23:37:10.602476Z",
     "start_time": "2024-07-18T23:37:10.536385Z"
    }
   },
   "id": "1dd8c212a58fb122",
   "execution_count": 129
  },
  {
   "cell_type": "code",
   "outputs": [
    {
     "data": {
      "text/plain": "country\nAndorra              312.0\nArgentina            221.0\nAustralia            212.0\nBelgium              212.0\nCroatia              254.0\nDenmark              278.0\nEquatorial Guinea    233.0\nGreece               218.0\nItaly                237.0\nLuxembourg           271.0\nPortugal             339.0\nSlovenia             276.0\nName: wine_servings, dtype: float64"
     },
     "execution_count": 130,
     "metadata": {},
     "output_type": "execute_result"
    }
   ],
   "source": [
    "def gt200(x):\n",
    "    return x > 200\n",
    "\n",
    "alcohol.loc[gt200]"
   ],
   "metadata": {
    "collapsed": false,
    "ExecuteTime": {
     "end_time": "2024-07-18T23:38:16.337149Z",
     "start_time": "2024-07-18T23:38:16.288413Z"
    }
   },
   "id": "7983b99fca5b3af8",
   "execution_count": 130
  },
  {
   "cell_type": "code",
   "outputs": [
    {
     "data": {
      "text/plain": "country\nAfghanistan    too small\nAlbania        too small\nAlgeria        too small\nAndorra            312.0\nAngola         too small\n                 ...    \nVenezuela      too small\nVietnam        too small\nYemen          too small\nZambia         too small\nZimbabwe       too small\nName: wine_servings, Length: 193, dtype: object"
     },
     "execution_count": 131,
     "metadata": {},
     "output_type": "execute_result"
    }
   ],
   "source": [
    "# Where method\n",
    "\n",
    "alcohol.where(lambda x: x>200, other='too small')"
   ],
   "metadata": {
    "collapsed": false,
    "ExecuteTime": {
     "end_time": "2024-07-18T23:39:56.625614Z",
     "start_time": "2024-07-18T23:39:56.577605Z"
    }
   },
   "id": "6ce30e7ac1a6ddee",
   "execution_count": 131
  },
  {
   "cell_type": "code",
   "outputs": [
    {
     "data": {
      "text/plain": "country\nAlbania              54.0\nAlgeria              14.0\nAngola               45.0\nAntigua & Barbuda    45.0\nArmenia              11.0\n                     ... \nVanuatu              11.0\nVenezuela             3.0\nVietnam               1.0\nZambia                4.0\nZimbabwe              4.0\nName: wine_servings, Length: 150, dtype: float64"
     },
     "execution_count": 133,
     "metadata": {},
     "output_type": "execute_result"
    }
   ],
   "source": [
    "alcohol.where(lambda x: x<=200).dropna()"
   ],
   "metadata": {
    "collapsed": false,
    "ExecuteTime": {
     "end_time": "2024-07-18T23:41:44.500197Z",
     "start_time": "2024-07-18T23:41:44.434222Z"
    }
   },
   "id": "f3a7071a8449e1a2",
   "execution_count": 133
  },
  {
   "cell_type": "code",
   "outputs": [
    {
     "data": {
      "text/plain": "country\nAlbania              54.0\nAlgeria              14.0\nAngola               45.0\nAntigua & Barbuda    45.0\nArmenia              11.0\n                     ... \nVanuatu              11.0\nVenezuela             3.0\nVietnam               1.0\nZambia                4.0\nZimbabwe              4.0\nName: wine_servings, Length: 150, dtype: float64"
     },
     "execution_count": 134,
     "metadata": {},
     "output_type": "execute_result"
    }
   ],
   "source": [
    "# mask method\n",
    "\n",
    "alcohol.mask(lambda x: x>200).dropna()"
   ],
   "metadata": {
    "collapsed": false,
    "ExecuteTime": {
     "end_time": "2024-07-18T23:43:12.029447Z",
     "start_time": "2024-07-18T23:43:11.982142Z"
    }
   },
   "id": "44ac777021f7585c",
   "execution_count": 134
  },
  {
   "cell_type": "markdown",
   "source": [
    "## Transforming with update(), apply(), and map()"
   ],
   "metadata": {
    "collapsed": false
   },
   "id": "266b9dbd20df533"
  },
  {
   "cell_type": "code",
   "outputs": [
    {
     "data": {
      "text/plain": "country\nAfghanistan            NaN\nAlbania               54.0\nAlgeria               14.0\nAndorra              312.0\nAngola                45.0\nAntigua & Barbuda     45.0\nArgentina            221.0\nArmenia               11.0\nAustralia            212.0\nAustria              191.0\nName: wine_servings, dtype: float64"
     },
     "execution_count": 135,
     "metadata": {},
     "output_type": "execute_result"
    }
   ],
   "source": [
    "alcohol.head(10)"
   ],
   "metadata": {
    "collapsed": false,
    "ExecuteTime": {
     "end_time": "2024-07-18T23:44:28.844890Z",
     "start_time": "2024-07-18T23:44:28.794566Z"
    }
   },
   "id": "ff3361903cc9ae85",
   "execution_count": 135
  },
  {
   "cell_type": "code",
   "outputs": [
    {
     "data": {
      "text/plain": "np.float64(19.0)"
     },
     "execution_count": 136,
     "metadata": {},
     "output_type": "execute_result"
    }
   ],
   "source": [
    "# spot v global transforms\n",
    "\n",
    "alcohol.loc['Algeria'] = 19\n",
    "alcohol.loc['Algeria']"
   ],
   "metadata": {
    "collapsed": false,
    "ExecuteTime": {
     "end_time": "2024-07-18T23:45:11.338556Z",
     "start_time": "2024-07-18T23:45:11.286780Z"
    }
   },
   "id": "1d7f242940f35332",
   "execution_count": 136
  },
  {
   "cell_type": "code",
   "outputs": [
    {
     "data": {
      "text/plain": "country\nAfghanistan            NaN\nAlbania              200.0\nAlgeria               20.0\nAndorra              202.0\nAngola                45.0\nAntigua & Barbuda     45.0\nArgentina            221.0\nArmenia               11.0\nAustralia            212.0\nAustria              191.0\nName: wine_servings, dtype: float64"
     },
     "execution_count": 137,
     "metadata": {},
     "output_type": "execute_result"
    }
   ],
   "source": [
    "# Update method\n",
    "\n",
    "alcohol.update(pd.Series(data=[200, 20, 202], index=['Albania', 'Algeria', 'Andorra']))\n",
    "alcohol.head(10)"
   ],
   "metadata": {
    "collapsed": false,
    "ExecuteTime": {
     "end_time": "2024-07-18T23:48:41.043345Z",
     "start_time": "2024-07-18T23:48:40.990792Z"
    }
   },
   "id": "9b2325d6da8cf29",
   "execution_count": 137
  },
  {
   "cell_type": "code",
   "outputs": [
    {
     "data": {
      "text/plain": "country\nAfghanistan        NaN\nAlbania        40000.0\nAlgeria          400.0\nAndorra        40804.0\nAngola          2025.0\n                ...   \nVenezuela          9.0\nVietnam            1.0\nYemen              NaN\nZambia            16.0\nZimbabwe          16.0\nName: wine_servings, Length: 193, dtype: float64"
     },
     "execution_count": 138,
     "metadata": {},
     "output_type": "execute_result"
    }
   ],
   "source": [
    "# Apply method\n",
    "\n",
    "alcohol.apply(lambda x: x**2)"
   ],
   "metadata": {
    "collapsed": false,
    "ExecuteTime": {
     "end_time": "2024-07-18T23:50:47.421975Z",
     "start_time": "2024-07-18T23:50:47.364957Z"
    }
   },
   "id": "906dc441b39ca697",
   "execution_count": 138
  },
  {
   "cell_type": "code",
   "outputs": [
    {
     "data": {
      "text/plain": "country\nAfghanistan        NaN\nAlbania        40000.0\nAlgeria          400.0\nAndorra        40804.0\nAngola          2025.0\n                ...   \nVenezuela          9.0\nVietnam            1.0\nYemen              NaN\nZambia            16.0\nZimbabwe          16.0\nName: wine_servings, Length: 193, dtype: float64"
     },
     "execution_count": 139,
     "metadata": {},
     "output_type": "execute_result"
    }
   ],
   "source": [
    "alcohol.apply(np.square)"
   ],
   "metadata": {
    "collapsed": false,
    "ExecuteTime": {
     "end_time": "2024-07-18T23:51:13.553608Z",
     "start_time": "2024-07-18T23:51:13.499934Z"
    }
   },
   "id": "15c25af6fa520f8b",
   "execution_count": 139
  },
  {
   "cell_type": "code",
   "outputs": [
    {
     "data": {
      "text/plain": "country\nAfghanistan        NaN\nAlbania        40000.0\nAlgeria          400.0\nAndorra        40804.0\nAngola          2025.0\n                ...   \nVenezuela          9.0\nVietnam            1.0\nYemen              NaN\nZambia            16.0\nZimbabwe          16.0\nName: wine_servings, Length: 193, dtype: float64"
     },
     "execution_count": 140,
     "metadata": {},
     "output_type": "execute_result"
    }
   ],
   "source": [
    "def multiply_by_self(x):\n",
    "    return x*x\n",
    "\n",
    "alcohol.apply(multiply_by_self)"
   ],
   "metadata": {
    "collapsed": false,
    "ExecuteTime": {
     "end_time": "2024-07-18T23:51:55.585585Z",
     "start_time": "2024-07-18T23:51:55.479241Z"
    }
   },
   "id": "e12be05ebb6479d3",
   "execution_count": 140
  },
  {
   "cell_type": "code",
   "outputs": [],
   "source": [
    "def multiply_by_self_with_min(x, min_servings):\n",
    "    if x < min_servings:\n",
    "        return x**2\n",
    "    \n",
    "    return x"
   ],
   "metadata": {
    "collapsed": false,
    "ExecuteTime": {
     "end_time": "2024-07-18T23:53:13.384155Z",
     "start_time": "2024-07-18T23:53:13.287946Z"
    }
   },
   "id": "407c033b558f841a",
   "execution_count": 141
  },
  {
   "cell_type": "code",
   "outputs": [
    {
     "data": {
      "text/plain": "country\nAfghanistan       NaN\nAlbania         200.0\nAlgeria         400.0\nAndorra         202.0\nAngola         2025.0\n                ...  \nVenezuela         9.0\nVietnam           1.0\nYemen             NaN\nZambia           16.0\nZimbabwe         16.0\nName: wine_servings, Length: 193, dtype: float64"
     },
     "execution_count": 143,
     "metadata": {},
     "output_type": "execute_result"
    }
   ],
   "source": [
    "alcohol.apply(multiply_by_self_with_min, args=(200,))"
   ],
   "metadata": {
    "collapsed": false,
    "ExecuteTime": {
     "end_time": "2024-07-18T23:54:12.465468Z",
     "start_time": "2024-07-18T23:54:12.416499Z"
    }
   },
   "id": "d5cab5f3538fb500",
   "execution_count": 143
  },
  {
   "cell_type": "code",
   "outputs": [
    {
     "data": {
      "text/plain": "country\nAfghanistan      NaN\nAlbania        200.0\nAlgeria         20.0\nAndorra        202.0\nAngola          45.0\nName: wine_servings, dtype: float64"
     },
     "execution_count": 144,
     "metadata": {},
     "output_type": "execute_result"
    }
   ],
   "source": [
    "alcohol.head()"
   ],
   "metadata": {
    "collapsed": false,
    "ExecuteTime": {
     "end_time": "2024-07-18T23:54:52.836773Z",
     "start_time": "2024-07-18T23:54:52.791898Z"
    }
   },
   "id": "5324d4a3eb08f57a",
   "execution_count": 144
  },
  {
   "cell_type": "code",
   "outputs": [
    {
     "data": {
      "text/plain": "country\nAfghanistan       NaN\nAlbania         200.0\nAlgeria         400.0\nAndorra         202.0\nAngola         2025.0\n                ...  \nVenezuela         9.0\nVietnam           1.0\nYemen             NaN\nZambia           16.0\nZimbabwe         16.0\nName: wine_servings, Length: 193, dtype: float64"
     },
     "execution_count": 145,
     "metadata": {},
     "output_type": "execute_result"
    }
   ],
   "source": [
    "alcohol.apply(multiply_by_self_with_min, min_servings=200)"
   ],
   "metadata": {
    "collapsed": false,
    "ExecuteTime": {
     "end_time": "2024-07-18T23:55:31.164527Z",
     "start_time": "2024-07-18T23:55:31.111432Z"
    }
   },
   "id": "bfdd6eecdab7a808",
   "execution_count": 145
  },
  {
   "cell_type": "code",
   "outputs": [
    {
     "data": {
      "text/plain": "country\nAfghanistan        NaN\nAlbania        40000.0\nAlgeria          400.0\nAndorra        40804.0\nAngola          2025.0\n                ...   \nVenezuela          9.0\nVietnam            1.0\nYemen              NaN\nZambia            16.0\nZimbabwe          16.0\nName: wine_servings, Length: 193, dtype: float64"
     },
     "execution_count": 147,
     "metadata": {},
     "output_type": "execute_result"
    }
   ],
   "source": [
    "# Map method\n",
    "\n",
    "alcohol.map(multiply_by_self)"
   ],
   "metadata": {
    "collapsed": false,
    "ExecuteTime": {
     "end_time": "2024-07-19T00:03:22.691194Z",
     "start_time": "2024-07-19T00:03:22.634513Z"
    }
   },
   "id": "f108414f98946738",
   "execution_count": 147
  },
  {
   "cell_type": "code",
   "outputs": [
    {
     "data": {
      "text/plain": "country\nAfghanistan      NaN\nAlbania        200.0\nAlgeria         20.0\nAndorra        202.0\nAngola          45.0\n               ...  \nVenezuela        3.0\nVietnam          1.0\nYemen            NaN\nZambia           4.0\nZimbabwe         4.0\nName: wine_servings, Length: 193, dtype: float64"
     },
     "execution_count": 148,
     "metadata": {},
     "output_type": "execute_result"
    }
   ],
   "source": [
    "alcohol"
   ],
   "metadata": {
    "collapsed": false,
    "ExecuteTime": {
     "end_time": "2024-07-19T00:03:41.445236Z",
     "start_time": "2024-07-19T00:03:41.351273Z"
    }
   },
   "id": "ee79b70a039b5b49",
   "execution_count": 148
  },
  {
   "cell_type": "markdown",
   "source": [
    "## Challenge"
   ],
   "metadata": {
    "collapsed": false
   },
   "id": "9e304ec0fc2831dc"
  },
  {
   "cell_type": "markdown",
   "source": [
    "1. Read drinks.csv, bring *beer_servings* into new series with country again acting as index. Assign this series to variable *beers*"
   ],
   "metadata": {
    "collapsed": false
   },
   "id": "80f8b9841db2109f"
  },
  {
   "cell_type": "code",
   "outputs": [
    {
     "data": {
      "text/plain": "country\nAfghanistan      NaN\nAlbania         89.0\nAlgeria         25.0\nAndorra        245.0\nAngola         217.0\nName: beer_servings, dtype: float64"
     },
     "execution_count": 154,
     "metadata": {},
     "output_type": "execute_result"
    }
   ],
   "source": [
    "beers = pd.read_csv('https://andybek.com/pandas-drinks', usecols=['country', 'beer_servings'], index_col='country').squeeze().copy()\n",
    "beers.head()"
   ],
   "metadata": {
    "collapsed": false,
    "ExecuteTime": {
     "end_time": "2024-07-19T00:07:58.053063Z",
     "start_time": "2024-07-19T00:07:57.692901Z"
    }
   },
   "id": "2740e2b948642aa4",
   "execution_count": 154
  },
  {
   "cell_type": "markdown",
   "source": [
    "2. Calculate the mean, median, and standard deviation. Is the distribution right or left skewed?"
   ],
   "metadata": {
    "collapsed": false
   },
   "id": "a67523a4da2795ae"
  },
  {
   "cell_type": "code",
   "outputs": [
    {
     "data": {
      "text/plain": "count    178.000000\nmean     102.870787\nstd      100.645713\nmin        1.000000\n25%       21.000000\n50%       60.000000\n75%      172.500000\nmax      376.000000\nName: beer_servings, dtype: float64"
     },
     "execution_count": 155,
     "metadata": {},
     "output_type": "execute_result"
    }
   ],
   "source": [
    "beers.describe()"
   ],
   "metadata": {
    "collapsed": false,
    "ExecuteTime": {
     "end_time": "2024-07-19T00:08:49.566765Z",
     "start_time": "2024-07-19T00:08:49.514787Z"
    }
   },
   "id": "d13b42b920e0c68a",
   "execution_count": 155
  },
  {
   "cell_type": "code",
   "outputs": [
    {
     "data": {
      "text/plain": "(np.float64(102.87078651685393),\n np.float64(60.0),\n np.float64(100.6457126793478))"
     },
     "execution_count": 156,
     "metadata": {},
     "output_type": "execute_result"
    }
   ],
   "source": [
    "beers.mean(), beers.median(), beers.std()"
   ],
   "metadata": {
    "collapsed": false,
    "ExecuteTime": {
     "end_time": "2024-07-19T00:09:07.730632Z",
     "start_time": "2024-07-19T00:09:07.672806Z"
    }
   },
   "id": "7ad67a64339092f4",
   "execution_count": 156
  },
  {
   "cell_type": "code",
   "outputs": [
    {
     "data": {
      "text/plain": "<Figure size 640x480 with 1 Axes>",
      "image/png": "[encoded data removed]"
     },
     "metadata": {},
     "output_type": "display_data"
    }
   ],
   "source": [
    "plt.hist(beers)\n",
    "plt.show()"
   ],
   "metadata": {
    "collapsed": false,
    "ExecuteTime": {
     "end_time": "2024-07-19T00:09:42.287117Z",
     "start_time": "2024-07-19T00:09:42.228741Z"
    }
   },
   "id": "4d0f378d17783f21",
   "execution_count": 158
  },
  {
   "cell_type": "markdown",
   "source": [
    "3. Slice the first 10 countries from beers. Are these relatively large or small relative to the rest of the sample?"
   ],
   "metadata": {
    "collapsed": false
   },
   "id": "de815fa5b5b5fc36"
  },
  {
   "cell_type": "code",
   "outputs": [
    {
     "data": {
      "text/plain": "count      9.000000\nmean     149.111111\nstd      111.438822\nmin       12.000000\n25%       25.000000\n50%      193.000000\n75%      245.000000\nmax      279.000000\nName: beer_servings, dtype: float64"
     },
     "execution_count": 160,
     "metadata": {},
     "output_type": "execute_result"
    }
   ],
   "source": [
    "beers_10 = beers.head(10)\n",
    "beers_10.describe()\n"
   ],
   "metadata": {
    "collapsed": false,
    "ExecuteTime": {
     "end_time": "2024-07-19T00:11:30.506720Z",
     "start_time": "2024-07-19T00:11:30.463462Z"
    }
   },
   "id": "a0fcdc8bb87de403",
   "execution_count": 160
  },
  {
   "cell_type": "code",
   "outputs": [
    {
     "data": {
      "text/plain": "country\nAfghanistan          high\nAlbania               low\nAlgeria               low\nAndorra              high\nAngola               high\nAntigua & Barbuda     low\nArgentina            high\nArmenia               low\nAustralia            high\nAustria              high\nName: beer_servings, dtype: object"
     },
     "execution_count": 162,
     "metadata": {},
     "output_type": "execute_result"
    }
   ],
   "source": [
    "(beers_10 - beers.mean()).apply(lambda x: 'low' if x < 0 else 'high')"
   ],
   "metadata": {
    "collapsed": false,
    "ExecuteTime": {
     "end_time": "2024-07-19T00:17:03.496481Z",
     "start_time": "2024-07-19T00:17:03.428409Z"
    }
   },
   "id": "f6006c8832e60b9d",
   "execution_count": 162
  },
  {
   "cell_type": "code",
   "outputs": [
    {
     "data": {
      "text/plain": "beer_servings\nhigh    6\nlow     4\nName: count, dtype: int64"
     },
     "execution_count": 163,
     "metadata": {},
     "output_type": "execute_result"
    }
   ],
   "source": [
    "(beers_10 - beers.mean()).apply(lambda x: 'low' if x < 0 else 'high').value_counts()"
   ],
   "metadata": {
    "collapsed": false,
    "ExecuteTime": {
     "end_time": "2024-07-19T00:17:32.077936Z",
     "start_time": "2024-07-19T00:17:32.030793Z"
    }
   },
   "id": "5801c4725d8d74de",
   "execution_count": 163
  },
  {
   "cell_type": "markdown",
   "source": [
    "4. Create a new series that uses series arithmetics to calculate the z-score for each serving by subtracting from each the mean and dividing the difference by the std. \n",
    "Which country has the largest absolute z-score? Is this a positive or negative deviation?"
   ],
   "metadata": {
    "collapsed": false
   },
   "id": "4b8a26335122aa5c"
  },
  {
   "cell_type": "code",
   "outputs": [
    {
     "data": {
      "text/plain": "country\nAfghanistan         NaN\nAlbania       -0.137818\nAlgeria       -0.773712\nAndorra        1.412174\nAngola         1.133970\nName: beer_servings, dtype: float64"
     },
     "execution_count": 166,
     "metadata": {},
     "output_type": "execute_result"
    }
   ],
   "source": [
    "z_scores = (beers - beers.mean()) / beers.std()\n",
    "z_scores.head()"
   ],
   "metadata": {
    "collapsed": false,
    "ExecuteTime": {
     "end_time": "2024-07-19T00:19:40.229886Z",
     "start_time": "2024-07-19T00:19:40.181910Z"
    }
   },
   "id": "27fee743aed4aa1b",
   "execution_count": 166
  },
  {
   "cell_type": "code",
   "outputs": [
    {
     "data": {
      "text/plain": "(np.float64(-1.0121721413152407), np.float64(2.713768984410912))"
     },
     "execution_count": 167,
     "metadata": {},
     "output_type": "execute_result"
    }
   ],
   "source": [
    "z_scores.min(), z_scores.max()"
   ],
   "metadata": {
    "collapsed": false,
    "ExecuteTime": {
     "end_time": "2024-07-19T00:19:53.483265Z",
     "start_time": "2024-07-19T00:19:53.344257Z"
    }
   },
   "id": "abc8fe5795f4bde0",
   "execution_count": 167
  },
  {
   "cell_type": "code",
   "outputs": [
    {
     "data": {
      "text/plain": "np.float64(2.713768984410912)"
     },
     "execution_count": 168,
     "metadata": {},
     "output_type": "execute_result"
    }
   ],
   "source": [
    "z_scores.abs().max()"
   ],
   "metadata": {
    "collapsed": false,
    "ExecuteTime": {
     "end_time": "2024-07-19T00:20:10.016594Z",
     "start_time": "2024-07-19T00:20:09.960192Z"
    }
   },
   "id": "88f60f64db271c37",
   "execution_count": 168
  },
  {
   "cell_type": "code",
   "outputs": [
    {
     "data": {
      "text/plain": "'Namibia'"
     },
     "execution_count": 170,
     "metadata": {},
     "output_type": "execute_result"
    }
   ],
   "source": [
    "beers.idxmax()"
   ],
   "metadata": {
    "collapsed": false,
    "ExecuteTime": {
     "end_time": "2024-07-19T00:20:38.356368Z",
     "start_time": "2024-07-19T00:20:38.305796Z"
    }
   },
   "id": "3df93035dc509199",
   "execution_count": 170
  },
  {
   "cell_type": "code",
   "outputs": [
    {
     "data": {
      "text/plain": "np.float64(376.0)"
     },
     "execution_count": 173,
     "metadata": {},
     "output_type": "execute_result"
    }
   ],
   "source": [
    "beers.loc[beers.idxmax()]"
   ],
   "metadata": {
    "collapsed": false,
    "ExecuteTime": {
     "end_time": "2024-07-19T00:21:36.384980Z",
     "start_time": "2024-07-19T00:21:36.328195Z"
    }
   },
   "id": "54bb64d2e0ad72cf",
   "execution_count": 173
  },
  {
   "cell_type": "code",
   "outputs": [
    {
     "data": {
      "text/plain": "np.float64(376.0)"
     },
     "execution_count": 174,
     "metadata": {},
     "output_type": "execute_result"
    }
   ],
   "source": [
    "z_scores.abs().max() * beers.std() + beers.mean()"
   ],
   "metadata": {
    "collapsed": false,
    "ExecuteTime": {
     "end_time": "2024-07-19T00:22:15.125590Z",
     "start_time": "2024-07-19T00:22:15.031264Z"
    }
   },
   "id": "cb46928ab0f1b125",
   "execution_count": 174
  },
  {
   "cell_type": "code",
   "outputs": [],
   "source": [],
   "metadata": {
    "collapsed": false
   },
   "id": "2b1e96429247122c"
  }
 ],
 "metadata": {
  "kernelspec": {
   "display_name": "Python 3",
   "language": "python",
   "name": "python3"
  },
  "language_info": {
   "codemirror_mode": {
    "name": "ipython",
    "version": 2
   },
   "file_extension": ".py",
   "mimetype": "text/x-python",
   "name": "python",
   "nbconvert_exporter": "python",
   "pygments_lexer": "ipython2",
   "version": "2.7.6"
  }
 },
 "nbformat": 4,
 "nbformat_minor": 5
}
