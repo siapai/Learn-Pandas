{
 "cells": [
  {
   "cell_type": "code",
   "execution_count": 2,
   "id": "initial_id",
   "metadata": {
    "collapsed": true,
    "ExecuteTime": {
     "end_time": "2024-07-16T07:39:37.011522Z",
     "start_time": "2024-07-16T07:39:28.711064Z"
    }
   },
   "outputs": [],
   "source": [
    "import pandas as pd\n",
    "import numpy as np"
   ]
  },
  {
   "cell_type": "code",
   "outputs": [
    {
     "data": {
      "text/plain": "'2.2.2'"
     },
     "execution_count": 3,
     "metadata": {},
     "output_type": "execute_result"
    }
   ],
   "source": [
    "pd.__version__"
   ],
   "metadata": {
    "collapsed": false,
    "ExecuteTime": {
     "end_time": "2024-07-16T07:39:42.775630Z",
     "start_time": "2024-07-16T07:39:42.762812Z"
    }
   },
   "id": "96b2ec97a7dce644",
   "execution_count": 3
  },
  {
   "cell_type": "markdown",
   "source": [
    "## Numpy\n",
    "- n-dimensional array"
   ],
   "metadata": {
    "collapsed": false
   },
   "id": "38a2e609c1f385c0"
  },
  {
   "cell_type": "code",
   "outputs": [
    {
     "data": {
      "text/plain": "list"
     },
     "execution_count": 4,
     "metadata": {},
     "output_type": "execute_result"
    }
   ],
   "source": [
    "a_py = [10, 20, 45, 65, 53, 28]\n",
    "type(a_py)"
   ],
   "metadata": {
    "collapsed": false,
    "ExecuteTime": {
     "end_time": "2024-07-16T07:40:51.206969Z",
     "start_time": "2024-07-16T07:40:51.204039Z"
    }
   },
   "id": "6a930f23c56490bc",
   "execution_count": 4
  },
  {
   "cell_type": "code",
   "outputs": [
    {
     "data": {
      "text/plain": "numpy.ndarray"
     },
     "execution_count": 5,
     "metadata": {},
     "output_type": "execute_result"
    }
   ],
   "source": [
    "b_np = np.array([10, 20, 45, 65, 53, 28])\n",
    "type(b_np)"
   ],
   "metadata": {
    "collapsed": false,
    "ExecuteTime": {
     "end_time": "2024-07-16T07:41:19.438026Z",
     "start_time": "2024-07-16T07:41:19.431907Z"
    }
   },
   "id": "91c08eb4f9dc7b57",
   "execution_count": 5
  },
  {
   "cell_type": "code",
   "outputs": [
    {
     "data": {
      "text/plain": "([10, 20, 45, 65, 53, 28], array([10, 20, 45, 65, 53, 28]))"
     },
     "execution_count": 6,
     "metadata": {},
     "output_type": "execute_result"
    }
   ],
   "source": [
    "a_py, b_np"
   ],
   "metadata": {
    "collapsed": false,
    "ExecuteTime": {
     "end_time": "2024-07-16T07:41:32.037823Z",
     "start_time": "2024-07-16T07:41:32.029754Z"
    }
   },
   "id": "5d442058f4e8fe20",
   "execution_count": 6
  },
  {
   "cell_type": "markdown",
   "source": [
    "- very quic operations"
   ],
   "metadata": {
    "collapsed": false
   },
   "id": "ea8600d95f83afe0"
  },
  {
   "cell_type": "code",
   "outputs": [],
   "source": [
    "# Q: multipy all the numbers by 10"
   ],
   "metadata": {
    "collapsed": false,
    "ExecuteTime": {
     "end_time": "2024-07-16T07:42:22.695908Z",
     "start_time": "2024-07-16T07:42:22.689584Z"
    }
   },
   "id": "5216e9d533270f39",
   "execution_count": 7
  },
  {
   "cell_type": "code",
   "outputs": [
    {
     "data": {
      "text/plain": "[100, 200, 450, 650, 530, 280]"
     },
     "execution_count": 8,
     "metadata": {},
     "output_type": "execute_result"
    }
   ],
   "source": [
    "arr = []\n",
    "for i in a_py:\n",
    "    arr.append(i * 10)\n",
    "arr"
   ],
   "metadata": {
    "collapsed": false,
    "ExecuteTime": {
     "end_time": "2024-07-16T07:42:48.717079Z",
     "start_time": "2024-07-16T07:42:48.709383Z"
    }
   },
   "id": "7bbebc9087ad5243",
   "execution_count": 8
  },
  {
   "cell_type": "code",
   "outputs": [
    {
     "data": {
      "text/plain": "[100, 200, 450, 650, 530, 280]"
     },
     "execution_count": 9,
     "metadata": {},
     "output_type": "execute_result"
    }
   ],
   "source": [
    "list(map(lambda i: i * 10, a_py))"
   ],
   "metadata": {
    "collapsed": false,
    "ExecuteTime": {
     "end_time": "2024-07-16T07:43:21.676819Z",
     "start_time": "2024-07-16T07:43:21.670101Z"
    }
   },
   "id": "c8599f765d640d75",
   "execution_count": 9
  },
  {
   "cell_type": "code",
   "outputs": [
    {
     "data": {
      "text/plain": "[100, 200, 450, 650, 530, 280]"
     },
     "execution_count": 10,
     "metadata": {},
     "output_type": "execute_result"
    }
   ],
   "source": [
    "[i * 10 for i in a_py]"
   ],
   "metadata": {
    "collapsed": false,
    "ExecuteTime": {
     "end_time": "2024-07-16T07:43:36.252987Z",
     "start_time": "2024-07-16T07:43:36.247841Z"
    }
   },
   "id": "178b0d134ba7bba5",
   "execution_count": 10
  },
  {
   "cell_type": "code",
   "outputs": [
    {
     "data": {
      "text/plain": "array([100, 200, 450, 650, 530, 280])"
     },
     "execution_count": 11,
     "metadata": {},
     "output_type": "execute_result"
    }
   ],
   "source": [
    "b_np * 10"
   ],
   "metadata": {
    "collapsed": false,
    "ExecuteTime": {
     "end_time": "2024-07-16T07:44:10.976778Z",
     "start_time": "2024-07-16T07:44:10.971746Z"
    }
   },
   "id": "4a38552cb0320ab6",
   "execution_count": 11
  },
  {
   "cell_type": "markdown",
   "source": [
    "- much better performance and smaller memory footprint"
   ],
   "metadata": {
    "collapsed": false
   },
   "id": "6f9f028f5e98c85e"
  },
  {
   "cell_type": "code",
   "outputs": [],
   "source": [
    "# trade off: numpy arrays contain only one data type"
   ],
   "metadata": {
    "collapsed": false,
    "ExecuteTime": {
     "end_time": "2024-07-16T07:46:44.813635Z",
     "start_time": "2024-07-16T07:46:44.809844Z"
    }
   },
   "id": "ef8b940100e7bdc0",
   "execution_count": 12
  },
  {
   "cell_type": "code",
   "outputs": [
    {
     "data": {
      "text/plain": "(array([1., 2., 3.]), dtype('float64'))"
     },
     "execution_count": 14,
     "metadata": {},
     "output_type": "execute_result"
    }
   ],
   "source": [
    "c_np = np.array([1, 2, 3.])\n",
    "c_np, c_np.dtype"
   ],
   "metadata": {
    "collapsed": false,
    "ExecuteTime": {
     "end_time": "2024-07-16T07:47:52.799017Z",
     "start_time": "2024-07-16T07:47:52.794573Z"
    }
   },
   "id": "467809410c9025bd",
   "execution_count": 14
  },
  {
   "cell_type": "code",
   "outputs": [],
   "source": [
    "# implicit upcasting"
   ],
   "metadata": {
    "collapsed": false,
    "ExecuteTime": {
     "end_time": "2024-07-16T07:48:38.010177Z",
     "start_time": "2024-07-16T07:48:38.002983Z"
    }
   },
   "id": "724ce35823300528",
   "execution_count": 15
  },
  {
   "cell_type": "code",
   "outputs": [],
   "source": [],
   "metadata": {
    "collapsed": false
   },
   "id": "66d33e07e54d4f7b"
  }
 ],
 "metadata": {
  "kernelspec": {
   "display_name": "Python 3",
   "language": "python",
   "name": "python3"
  },
  "language_info": {
   "codemirror_mode": {
    "name": "ipython",
    "version": 2
   },
   "file_extension": ".py",
   "mimetype": "text/x-python",
   "name": "python",
   "nbconvert_exporter": "python",
   "pygments_lexer": "ipython2",
   "version": "2.7.6"
  }
 },
 "nbformat": 4,
 "nbformat_minor": 5
}
