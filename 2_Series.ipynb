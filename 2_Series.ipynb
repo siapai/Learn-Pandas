{
 "cells": [
  {
   "cell_type": "code",
   "execution_count": 1,
   "id": "initial_id",
   "metadata": {
    "collapsed": true,
    "ExecuteTime": {
     "end_time": "2024-07-18T04:16:29.923878Z",
     "start_time": "2024-07-18T04:16:29.640884Z"
    }
   },
   "outputs": [],
   "source": [
    "import pandas as pd"
   ]
  },
  {
   "cell_type": "markdown",
   "source": [
    "## Lecture 1 - What Is A Series"
   ],
   "metadata": {
    "collapsed": false
   },
   "id": "53fe0b3cb6190401"
  },
  {
   "cell_type": "code",
   "outputs": [
    {
     "data": {
      "text/plain": "list"
     },
     "execution_count": 2,
     "metadata": {},
     "output_type": "execute_result"
    }
   ],
   "source": [
    "students = ['Andrew', 'Joseph', 'Daniel']\n",
    "type(students)"
   ],
   "metadata": {
    "collapsed": false,
    "ExecuteTime": {
     "end_time": "2024-07-18T04:16:29.945342Z",
     "start_time": "2024-07-18T04:16:29.911077Z"
    }
   },
   "id": "a2a312e122b036be",
   "execution_count": 2
  },
  {
   "cell_type": "code",
   "outputs": [
    {
     "data": {
      "text/plain": "0    Andrew\n1    Joseph\n2    Daniel\ndtype: object"
     },
     "execution_count": 3,
     "metadata": {},
     "output_type": "execute_result"
    }
   ],
   "source": [
    "pd.Series(students)"
   ],
   "metadata": {
    "collapsed": false,
    "ExecuteTime": {
     "end_time": "2024-07-18T04:16:29.948525Z",
     "start_time": "2024-07-18T04:16:29.915328Z"
    }
   },
   "id": "943b39ca00f68d52",
   "execution_count": 3
  },
  {
   "cell_type": "code",
   "outputs": [
    {
     "data": {
      "text/plain": "0    27\n1    37\n2    56\ndtype: int64"
     },
     "execution_count": 4,
     "metadata": {},
     "output_type": "execute_result"
    }
   ],
   "source": [
    "ages = [27, 37, 56]\n",
    "pd.Series(ages)"
   ],
   "metadata": {
    "collapsed": false,
    "ExecuteTime": {
     "end_time": "2024-07-18T04:16:29.953902Z",
     "start_time": "2024-07-18T04:16:29.920549Z"
    }
   },
   "id": "82f71c41e1456706",
   "execution_count": 4
  },
  {
   "cell_type": "code",
   "outputs": [
    {
     "data": {
      "text/plain": "0    165.0\n1    170.5\n2    185.0\ndtype: float64"
     },
     "execution_count": 5,
     "metadata": {},
     "output_type": "execute_result"
    }
   ],
   "source": [
    "heights = [165., 170.5, 185]\n",
    "pd.Series(heights)"
   ],
   "metadata": {
    "collapsed": false,
    "ExecuteTime": {
     "end_time": "2024-07-18T04:16:29.965929Z",
     "start_time": "2024-07-18T04:16:29.927075Z"
    }
   },
   "id": "2dafdd89848f333e",
   "execution_count": 5
  },
  {
   "cell_type": "code",
   "outputs": [
    {
     "data": {
      "text/plain": "0               True\n1                say\n2    {'number': 100}\ndtype: object"
     },
     "execution_count": 6,
     "metadata": {},
     "output_type": "execute_result"
    }
   ],
   "source": [
    "mixed = [True, \"say\", {\"number\": 100}]\n",
    "pd.Series(mixed)"
   ],
   "metadata": {
    "collapsed": false,
    "ExecuteTime": {
     "end_time": "2024-07-18T04:16:30.020979Z",
     "start_time": "2024-07-18T04:16:29.931631Z"
    }
   },
   "id": "ef348fb160ec11aa",
   "execution_count": 6
  },
  {
   "cell_type": "markdown",
   "source": [
    "## Parameters Vs. Arguments"
   ],
   "metadata": {
    "collapsed": false
   },
   "id": "6fffb8e9eed9cabb"
  },
  {
   "cell_type": "code",
   "outputs": [
    {
     "data": {
      "text/plain": "0    Andrew\n1    Joseph\n2    Daniel\ndtype: object"
     },
     "execution_count": 7,
     "metadata": {},
     "output_type": "execute_result"
    }
   ],
   "source": [
    "pd.Series(students)"
   ],
   "metadata": {
    "collapsed": false,
    "ExecuteTime": {
     "end_time": "2024-07-18T04:16:30.023048Z",
     "start_time": "2024-07-18T04:16:29.935368Z"
    }
   },
   "id": "4033fda21652e089",
   "execution_count": 7
  },
  {
   "cell_type": "code",
   "outputs": [
    {
     "data": {
      "text/plain": "0    Andrew\n1    Joseph\n2    Daniel\ndtype: object"
     },
     "execution_count": 8,
     "metadata": {},
     "output_type": "execute_result"
    }
   ],
   "source": [
    "pd.Series(data=students)"
   ],
   "metadata": {
    "collapsed": false,
    "ExecuteTime": {
     "end_time": "2024-07-18T04:16:30.038575Z",
     "start_time": "2024-07-18T04:16:29.939531Z"
    }
   },
   "id": "7ac9ed6f5ca9cbc4",
   "execution_count": 8
  },
  {
   "cell_type": "code",
   "outputs": [],
   "source": [
    "books_list = [\"Best Secret\", \"Seven Kingdoms\", \"My Hero\"]\n",
    "list_s = pd.Series(books_list)"
   ],
   "metadata": {
    "collapsed": false,
    "ExecuteTime": {
     "end_time": "2024-07-18T04:16:30.051309Z",
     "start_time": "2024-07-18T04:16:29.943511Z"
    }
   },
   "id": "1287d1585b38bf4a",
   "execution_count": 9
  },
  {
   "cell_type": "code",
   "outputs": [],
   "source": [
    "books_dict = {0: \"Best Secret\", 1: \"Seven Kingdoms\", 2: \"My Hero\"}\n",
    "dict_s = pd.Series(books_dict)\n"
   ],
   "metadata": {
    "collapsed": false,
    "ExecuteTime": {
     "end_time": "2024-07-18T04:16:30.056533Z",
     "start_time": "2024-07-18T04:16:29.947863Z"
    }
   },
   "id": "27f6da050a7cce99",
   "execution_count": 10
  },
  {
   "cell_type": "code",
   "outputs": [
    {
     "data": {
      "text/plain": "True"
     },
     "execution_count": 11,
     "metadata": {},
     "output_type": "execute_result"
    }
   ],
   "source": [
    "list_s.equals(dict_s)"
   ],
   "metadata": {
    "collapsed": false,
    "ExecuteTime": {
     "end_time": "2024-07-18T04:16:30.067708Z",
     "start_time": "2024-07-18T04:16:29.951230Z"
    }
   },
   "id": "117e9b929ae249b1",
   "execution_count": 11
  },
  {
   "cell_type": "code",
   "outputs": [
    {
     "data": {
      "text/plain": "0    123\ndtype: int64"
     },
     "execution_count": 12,
     "metadata": {},
     "output_type": "execute_result"
    }
   ],
   "source": [
    "pd.Series(123)"
   ],
   "metadata": {
    "collapsed": false,
    "ExecuteTime": {
     "end_time": "2024-07-18T04:16:30.079187Z",
     "start_time": "2024-07-18T04:16:29.955696Z"
    }
   },
   "id": "cd97323c54ad8bc",
   "execution_count": 12
  },
  {
   "cell_type": "code",
   "outputs": [
    {
     "data": {
      "text/plain": "0    Mama\ndtype: object"
     },
     "execution_count": 13,
     "metadata": {},
     "output_type": "execute_result"
    }
   ],
   "source": [
    "pd.Series(\"Mama\")"
   ],
   "metadata": {
    "collapsed": false,
    "ExecuteTime": {
     "end_time": "2024-07-18T04:16:30.081447Z",
     "start_time": "2024-07-18T04:16:29.958621Z"
    }
   },
   "id": "bafdfba1cdc82908",
   "execution_count": 13
  },
  {
   "cell_type": "markdown",
   "source": [
    "## D.Type Attribute"
   ],
   "metadata": {
    "collapsed": false
   },
   "id": "8618fe3173d10d0a"
  },
  {
   "cell_type": "code",
   "outputs": [
    {
     "data": {
      "text/plain": "0    27\n1    37\n2    56\ndtype: int64"
     },
     "execution_count": 14,
     "metadata": {},
     "output_type": "execute_result"
    }
   ],
   "source": [
    "pd.Series(ages)"
   ],
   "metadata": {
    "collapsed": false,
    "ExecuteTime": {
     "end_time": "2024-07-18T04:16:30.091105Z",
     "start_time": "2024-07-18T04:16:29.967500Z"
    }
   },
   "id": "9aff5c8d4831654e",
   "execution_count": 14
  },
  {
   "cell_type": "code",
   "outputs": [
    {
     "data": {
      "text/plain": "0    27.0\n1    37.0\n2    56.0\ndtype: float64"
     },
     "execution_count": 15,
     "metadata": {},
     "output_type": "execute_result"
    }
   ],
   "source": [
    "pd.Series(ages, dtype='float')"
   ],
   "metadata": {
    "collapsed": false,
    "ExecuteTime": {
     "end_time": "2024-07-18T04:16:30.093318Z",
     "start_time": "2024-07-18T04:16:29.971682Z"
    }
   },
   "id": "c6ee6d1e4e86dc3d",
   "execution_count": 15
  },
  {
   "cell_type": "markdown",
   "source": [
    "## Index And RangeIndex"
   ],
   "metadata": {
    "collapsed": false
   },
   "id": "654e73f2550a2576"
  },
  {
   "cell_type": "code",
   "outputs": [
    {
     "data": {
      "text/plain": "['Best Secret', 'Seven Kingdoms', 'My Hero']"
     },
     "execution_count": 16,
     "metadata": {},
     "output_type": "execute_result"
    }
   ],
   "source": [
    "books_list"
   ],
   "metadata": {
    "collapsed": false,
    "ExecuteTime": {
     "end_time": "2024-07-18T04:16:30.095347Z",
     "start_time": "2024-07-18T04:16:29.974499Z"
    }
   },
   "id": "f9ba4484a3a44c57",
   "execution_count": 16
  },
  {
   "cell_type": "code",
   "outputs": [
    {
     "data": {
      "text/plain": "mystery         Best Secret\nhistory      Seven Kingdoms\nadventure           My Hero\ndtype: object"
     },
     "execution_count": 17,
     "metadata": {},
     "output_type": "execute_result"
    }
   ],
   "source": [
    "pd.Series(data=books_list, index=['mystery', 'history', 'adventure'])"
   ],
   "metadata": {
    "collapsed": false,
    "ExecuteTime": {
     "end_time": "2024-07-18T04:16:30.098090Z",
     "start_time": "2024-07-18T04:16:29.979094Z"
    }
   },
   "id": "b82e2611f5c63c75",
   "execution_count": 17
  },
  {
   "cell_type": "code",
   "outputs": [
    {
     "data": {
      "text/plain": "(RangeIndex(start=0, stop=3, step=1), pandas.core.indexes.range.RangeIndex)"
     },
     "execution_count": 18,
     "metadata": {},
     "output_type": "execute_result"
    }
   ],
   "source": [
    "list_s.index, type(list_s.index)"
   ],
   "metadata": {
    "collapsed": false,
    "ExecuteTime": {
     "end_time": "2024-07-18T04:16:30.100349Z",
     "start_time": "2024-07-18T04:16:29.983811Z"
    }
   },
   "id": "21a2a95f4e6c767a",
   "execution_count": 18
  },
  {
   "cell_type": "code",
   "outputs": [
    {
     "data": {
      "text/plain": "[4, 5, 6]"
     },
     "execution_count": 19,
     "metadata": {},
     "output_type": "execute_result"
    }
   ],
   "source": [
    "list(pd.RangeIndex(start=4, stop=7, step=1))"
   ],
   "metadata": {
    "collapsed": false,
    "ExecuteTime": {
     "end_time": "2024-07-18T04:16:30.184614Z",
     "start_time": "2024-07-18T04:16:29.988292Z"
    }
   },
   "id": "716871bf9537866a",
   "execution_count": 19
  },
  {
   "cell_type": "code",
   "outputs": [
    {
     "data": {
      "text/plain": "[10, 9, 8, 7, 6, 5, 4, 3, 2, 1, 0, -1, -2, -3, -4, -5, -6, -7, -8, -9, -10]"
     },
     "execution_count": 20,
     "metadata": {},
     "output_type": "execute_result"
    }
   ],
   "source": [
    "list(pd.RangeIndex(start=10, stop=-11, step=-1))"
   ],
   "metadata": {
    "collapsed": false,
    "ExecuteTime": {
     "end_time": "2024-07-18T04:16:30.237916Z",
     "start_time": "2024-07-18T04:16:30.083268Z"
    }
   },
   "id": "a74ba2593bc7e0c8",
   "execution_count": 20
  },
  {
   "cell_type": "markdown",
   "source": [
    "## Series And Index Names"
   ],
   "metadata": {
    "collapsed": false
   },
   "id": "3603883bc8c5a795"
  },
  {
   "cell_type": "code",
   "outputs": [],
   "source": [
    "books_series = list_s"
   ],
   "metadata": {
    "collapsed": false,
    "ExecuteTime": {
     "end_time": "2024-07-18T04:16:30.324835Z",
     "start_time": "2024-07-18T04:16:30.234271Z"
    }
   },
   "id": "3e3b5c15533da298",
   "execution_count": 21
  },
  {
   "cell_type": "code",
   "outputs": [],
   "source": [
    "# capable of being understood"
   ],
   "metadata": {
    "collapsed": false,
    "ExecuteTime": {
     "end_time": "2024-07-18T04:16:30.342634Z",
     "start_time": "2024-07-18T04:16:30.308979Z"
    }
   },
   "id": "971c96e0f3943ac0",
   "execution_count": 22
  },
  {
   "cell_type": "code",
   "outputs": [
    {
     "data": {
      "text/plain": "0       Best Secret\n1    Seven Kingdoms\n2           My Hero\ndtype: object"
     },
     "execution_count": 23,
     "metadata": {},
     "output_type": "execute_result"
    }
   ],
   "source": [
    "books_series"
   ],
   "metadata": {
    "collapsed": false,
    "ExecuteTime": {
     "end_time": "2024-07-18T04:16:30.385341Z",
     "start_time": "2024-07-18T04:16:30.344595Z"
    }
   },
   "id": "75ad7eddcca9f0f7",
   "execution_count": 23
  },
  {
   "cell_type": "code",
   "outputs": [
    {
     "data": {
      "text/plain": "3"
     },
     "execution_count": 24,
     "metadata": {},
     "output_type": "execute_result"
    }
   ],
   "source": [
    "books_series.size"
   ],
   "metadata": {
    "collapsed": false,
    "ExecuteTime": {
     "end_time": "2024-07-18T04:16:30.412805Z",
     "start_time": "2024-07-18T04:16:30.384520Z"
    }
   },
   "id": "71881b80b01d635",
   "execution_count": 24
  },
  {
   "cell_type": "code",
   "outputs": [
    {
     "data": {
      "text/plain": "True"
     },
     "execution_count": 25,
     "metadata": {},
     "output_type": "execute_result"
    }
   ],
   "source": [
    "list_s.equals(dict_s)"
   ],
   "metadata": {
    "collapsed": false,
    "ExecuteTime": {
     "end_time": "2024-07-18T04:16:30.445051Z",
     "start_time": "2024-07-18T04:16:30.403511Z"
    }
   },
   "id": "b3c8e36bbbda9189",
   "execution_count": 25
  },
  {
   "cell_type": "code",
   "outputs": [
    {
     "data": {
      "text/plain": "True"
     },
     "execution_count": 26,
     "metadata": {},
     "output_type": "execute_result"
    }
   ],
   "source": [
    "books_series.name is None"
   ],
   "metadata": {
    "collapsed": false,
    "ExecuteTime": {
     "end_time": "2024-07-18T04:16:30.461520Z",
     "start_time": "2024-07-18T04:16:30.421423Z"
    }
   },
   "id": "be0c74b56b6f30d5",
   "execution_count": 26
  },
  {
   "cell_type": "code",
   "outputs": [
    {
     "data": {
      "text/plain": "0       Best Secret\n1    Seven Kingdoms\n2           My Hero\nName: My Fav Books, dtype: object"
     },
     "execution_count": 27,
     "metadata": {},
     "output_type": "execute_result"
    }
   ],
   "source": [
    "books_series.name = 'My Fav Books'\n",
    "books_series"
   ],
   "metadata": {
    "collapsed": false,
    "ExecuteTime": {
     "end_time": "2024-07-18T04:16:30.523281Z",
     "start_time": "2024-07-18T04:16:30.463714Z"
    }
   },
   "id": "57bb99c3456cc873",
   "execution_count": 27
  },
  {
   "cell_type": "code",
   "outputs": [
    {
     "data": {
      "text/plain": "True"
     },
     "execution_count": 28,
     "metadata": {},
     "output_type": "execute_result"
    }
   ],
   "source": [
    "books_series.index.name is None"
   ],
   "metadata": {
    "collapsed": false,
    "ExecuteTime": {
     "end_time": "2024-07-18T04:16:30.555782Z",
     "start_time": "2024-07-18T04:16:30.514180Z"
    }
   },
   "id": "9dfcbf97919b29a4",
   "execution_count": 28
  },
  {
   "cell_type": "code",
   "outputs": [
    {
     "data": {
      "text/plain": "My Books\n0       Best Secret\n1    Seven Kingdoms\n2           My Hero\nName: My Fav Books, dtype: object"
     },
     "execution_count": 29,
     "metadata": {},
     "output_type": "execute_result"
    }
   ],
   "source": [
    "books_series.index.name = 'My Books'\n",
    "books_series"
   ],
   "metadata": {
    "collapsed": false,
    "ExecuteTime": {
     "end_time": "2024-07-18T04:16:30.573409Z",
     "start_time": "2024-07-18T04:16:30.549791Z"
    }
   },
   "id": "9c8be8e70074c3b5",
   "execution_count": 29
  },
  {
   "cell_type": "markdown",
   "source": [
    "## Exercises"
   ],
   "metadata": {
    "collapsed": false
   },
   "id": "e8f64ddc7e17fc8f"
  },
  {
   "cell_type": "code",
   "outputs": [],
   "source": [
    "actor_names = [\n",
    "    \"Robert Downey Jr.\",\n",
    "    \"Meryl Streep\",\n",
    "    \"Leonardo DiCaprio\",\n",
    "    \"Viola Davis\",\n",
    "    \"Denzel Washington\"\n",
    "]\n",
    "actor_ages = [59.3, 74.2, 49, 58, 69.4]\n"
   ],
   "metadata": {
    "collapsed": false,
    "ExecuteTime": {
     "end_time": "2024-07-18T04:16:30.625372Z",
     "start_time": "2024-07-18T04:16:30.574888Z"
    }
   },
   "id": "f264753514be3bfd",
   "execution_count": 30
  },
  {
   "cell_type": "code",
   "outputs": [],
   "source": [
    "actor_series = pd.Series(data=actor_ages, index=actor_names, name='actors')"
   ],
   "metadata": {
    "collapsed": false,
    "ExecuteTime": {
     "end_time": "2024-07-18T04:16:30.640239Z",
     "start_time": "2024-07-18T04:16:30.614046Z"
    }
   },
   "id": "fdd2a2866fde6f8b",
   "execution_count": 31
  },
  {
   "cell_type": "code",
   "outputs": [
    {
     "data": {
      "text/plain": "Robert Downey Jr.    59.3\nMeryl Streep         74.2\nLeonardo DiCaprio    49.0\nViola Davis          58.0\nDenzel Washington    69.4\nName: actors, dtype: float64"
     },
     "execution_count": 32,
     "metadata": {},
     "output_type": "execute_result"
    }
   ],
   "source": [
    "actor_series"
   ],
   "metadata": {
    "collapsed": false,
    "ExecuteTime": {
     "end_time": "2024-07-18T04:16:30.679779Z",
     "start_time": "2024-07-18T04:16:30.642030Z"
    }
   },
   "id": "9578d2523cb911ca",
   "execution_count": 32
  },
  {
   "cell_type": "code",
   "outputs": [],
   "source": [
    "actors_dict = { 'Robert Downey Jr.': 59.3, 'Meryl Streep': 74.2, 'Leonardo DiCaprio': 49, 'Viola Davis': 58, 'Denzel Washington': 69.4 }"
   ],
   "metadata": {
    "collapsed": false,
    "ExecuteTime": {
     "end_time": "2024-07-18T04:16:30.687329Z",
     "start_time": "2024-07-18T04:16:30.671750Z"
    }
   },
   "id": "fbb33283ee704af1",
   "execution_count": 33
  },
  {
   "cell_type": "code",
   "outputs": [
    {
     "data": {
      "text/plain": "Robert Downey Jr.    59.3\nMeryl Streep         74.2\nLeonardo DiCaprio    49.0\nViola Davis          58.0\nDenzel Washington    69.4\ndtype: float64"
     },
     "execution_count": 34,
     "metadata": {},
     "output_type": "execute_result"
    }
   ],
   "source": [
    "pd.Series(data=actors_dict)"
   ],
   "metadata": {
    "collapsed": false,
    "ExecuteTime": {
     "end_time": "2024-07-18T04:16:30.726429Z",
     "start_time": "2024-07-18T04:16:30.690022Z"
    }
   },
   "id": "47a45e86318feed2",
   "execution_count": 34
  },
  {
   "cell_type": "code",
   "outputs": [
    {
     "data": {
      "text/plain": "[('Robert Downey Jr.', 59.3),\n ('Meryl Streep', 74.2),\n ('Leonardo DiCaprio', 49),\n ('Viola Davis', 58),\n ('Denzel Washington', 69.4)]"
     },
     "execution_count": 35,
     "metadata": {},
     "output_type": "execute_result"
    }
   ],
   "source": [
    "list(zip(actor_names, actor_ages))"
   ],
   "metadata": {
    "collapsed": false,
    "ExecuteTime": {
     "end_time": "2024-07-18T04:16:30.741117Z",
     "start_time": "2024-07-18T04:16:30.705399Z"
    }
   },
   "id": "cf83efede239c929",
   "execution_count": 35
  },
  {
   "cell_type": "code",
   "outputs": [
    {
     "data": {
      "text/plain": "Robert Downey Jr.    59.3\nMeryl Streep         74.2\nLeonardo DiCaprio    49.0\nViola Davis          58.0\nDenzel Washington    69.4\ndtype: float64"
     },
     "execution_count": 36,
     "metadata": {},
     "output_type": "execute_result"
    }
   ],
   "source": [
    "pd.Series(dict(zip(actor_names, actor_ages)))"
   ],
   "metadata": {
    "collapsed": false,
    "ExecuteTime": {
     "end_time": "2024-07-18T04:16:30.797446Z",
     "start_time": "2024-07-18T04:16:30.744006Z"
    }
   },
   "id": "cd3c9fb040572d9",
   "execution_count": 36
  },
  {
   "cell_type": "markdown",
   "source": [
    "## Another Solution"
   ],
   "metadata": {
    "collapsed": false
   },
   "id": "cdd94c2b4924deef"
  },
  {
   "cell_type": "code",
   "outputs": [
    {
     "data": {
      "text/plain": "{'Robert Downey Jr.': 59.3,\n 'Meryl Streep': 74.2,\n 'Leonardo DiCaprio': 49,\n 'Viola Davis': 58,\n 'Denzel Washington': 69.4}"
     },
     "execution_count": 37,
     "metadata": {},
     "output_type": "execute_result"
    }
   ],
   "source": [
    "{name:age for name,age in zip(actor_names, actor_ages)}"
   ],
   "metadata": {
    "collapsed": false,
    "ExecuteTime": {
     "end_time": "2024-07-18T04:16:30.844312Z",
     "start_time": "2024-07-18T04:16:30.788840Z"
    }
   },
   "id": "c745621b48887afb",
   "execution_count": 37
  },
  {
   "cell_type": "markdown",
   "source": [
    "## Head And Tail"
   ],
   "metadata": {
    "collapsed": false
   },
   "id": "e91207fa0b2ee9e6"
  },
  {
   "cell_type": "code",
   "outputs": [
    {
     "data": {
      "text/plain": "(60, 60)"
     },
     "execution_count": 38,
     "metadata": {},
     "output_type": "execute_result"
    }
   ],
   "source": [
    "int_series = pd.Series(range(60))\n",
    "int_series.size, len(int_series)"
   ],
   "metadata": {
    "collapsed": false,
    "ExecuteTime": {
     "end_time": "2024-07-18T04:16:30.867954Z",
     "start_time": "2024-07-18T04:16:30.831159Z"
    }
   },
   "id": "59144c727a34205d",
   "execution_count": 38
  },
  {
   "cell_type": "code",
   "outputs": [
    {
     "data": {
      "text/plain": "0    0\n1    1\n2    2\n3    3\n4    4\ndtype: int64"
     },
     "execution_count": 39,
     "metadata": {},
     "output_type": "execute_result"
    }
   ],
   "source": [
    "int_series.head()"
   ],
   "metadata": {
    "collapsed": false,
    "ExecuteTime": {
     "end_time": "2024-07-18T04:16:30.927852Z",
     "start_time": "2024-07-18T04:16:30.864474Z"
    }
   },
   "id": "7e9617a398c8057f",
   "execution_count": 39
  },
  {
   "cell_type": "code",
   "outputs": [
    {
     "data": {
      "text/plain": "57    57\n58    58\n59    59\ndtype: int64"
     },
     "execution_count": 40,
     "metadata": {},
     "output_type": "execute_result"
    }
   ],
   "source": [
    "int_series.tail(n=3)"
   ],
   "metadata": {
    "collapsed": false,
    "ExecuteTime": {
     "end_time": "2024-07-18T04:16:30.954197Z",
     "start_time": "2024-07-18T04:16:30.918105Z"
    }
   },
   "id": "c9d15e67f505f36",
   "execution_count": 40
  },
  {
   "cell_type": "markdown",
   "source": [
    "## Extracting By Index Position"
   ],
   "metadata": {
    "collapsed": false
   },
   "id": "ce41458a4edbe6c1"
  },
  {
   "cell_type": "code",
   "outputs": [
    {
     "data": {
      "text/plain": "'abcdefghijklmnopqrstuvwxyz'"
     },
     "execution_count": 41,
     "metadata": {},
     "output_type": "execute_result"
    }
   ],
   "source": [
    "from string import ascii_lowercase\n",
    "\n",
    "ascii_lowercase"
   ],
   "metadata": {
    "collapsed": false,
    "ExecuteTime": {
     "end_time": "2024-07-18T04:16:30.997090Z",
     "start_time": "2024-07-18T04:16:30.949201Z"
    }
   },
   "id": "7986c95b96064c21",
   "execution_count": 41
  },
  {
   "cell_type": "code",
   "outputs": [
    {
     "data": {
      "text/plain": "0    abcdefghijklmnopqrstuvwxyz\ndtype: object"
     },
     "execution_count": 42,
     "metadata": {},
     "output_type": "execute_result"
    }
   ],
   "source": [
    "pd.Series(ascii_lowercase)"
   ],
   "metadata": {
    "collapsed": false,
    "ExecuteTime": {
     "end_time": "2024-07-18T04:16:31.013906Z",
     "start_time": "2024-07-18T04:16:30.991806Z"
    }
   },
   "id": "e6e94adc9b4285a8",
   "execution_count": 42
  },
  {
   "cell_type": "code",
   "outputs": [
    {
     "data": {
      "text/plain": "(['a',\n  'b',\n  'c',\n  'd',\n  'e',\n  'f',\n  'g',\n  'h',\n  'i',\n  'j',\n  'k',\n  'l',\n  'm',\n  'n',\n  'o',\n  'p',\n  'q',\n  'r',\n  's',\n  't',\n  'u',\n  'v',\n  'w',\n  'x',\n  'y',\n  'z'],\n 26)"
     },
     "execution_count": 43,
     "metadata": {},
     "output_type": "execute_result"
    }
   ],
   "source": [
    "list(ascii_lowercase), len(list(ascii_lowercase))"
   ],
   "metadata": {
    "collapsed": false,
    "ExecuteTime": {
     "end_time": "2024-07-18T04:16:31.056688Z",
     "start_time": "2024-07-18T04:16:31.015671Z"
    }
   },
   "id": "926f72641aef53f6",
   "execution_count": 43
  },
  {
   "cell_type": "code",
   "outputs": [
    {
     "data": {
      "text/plain": "0    a\n1    b\n2    c\n3    d\n4    e\ndtype: object"
     },
     "execution_count": 44,
     "metadata": {},
     "output_type": "execute_result"
    }
   ],
   "source": [
    "letters = list(ascii_lowercase)\n",
    "\n",
    "alphabet = pd.Series(letters)\n",
    "alphabet.head()"
   ],
   "metadata": {
    "collapsed": false,
    "ExecuteTime": {
     "end_time": "2024-07-18T04:16:31.071049Z",
     "start_time": "2024-07-18T04:16:31.047768Z"
    }
   },
   "id": "bf3d5af1d08a9c64",
   "execution_count": 44
  },
  {
   "cell_type": "code",
   "outputs": [
    {
     "data": {
      "text/plain": "'a'"
     },
     "execution_count": 45,
     "metadata": {},
     "output_type": "execute_result"
    }
   ],
   "source": [
    "alphabet[0]"
   ],
   "metadata": {
    "collapsed": false,
    "ExecuteTime": {
     "end_time": "2024-07-18T04:16:31.123930Z",
     "start_time": "2024-07-18T04:16:31.073073Z"
    }
   },
   "id": "48afba7becc2e903",
   "execution_count": 45
  },
  {
   "cell_type": "code",
   "outputs": [
    {
     "data": {
      "text/plain": "0    a\n1    b\n2    c\ndtype: object"
     },
     "execution_count": 46,
     "metadata": {},
     "output_type": "execute_result"
    }
   ],
   "source": [
    "alphabet[:3]"
   ],
   "metadata": {
    "collapsed": false,
    "ExecuteTime": {
     "end_time": "2024-07-18T04:16:31.138122Z",
     "start_time": "2024-07-18T04:16:31.114975Z"
    }
   },
   "id": "7246ffbcef143444",
   "execution_count": 46
  },
  {
   "cell_type": "code",
   "outputs": [
    {
     "data": {
      "text/plain": "5    f\n6    g\n7    h\n8    i\n9    j\ndtype: object"
     },
     "execution_count": 47,
     "metadata": {},
     "output_type": "execute_result"
    }
   ],
   "source": [
    "alphabet[5:10]"
   ],
   "metadata": {
    "collapsed": false,
    "ExecuteTime": {
     "end_time": "2024-07-18T04:16:31.183015Z",
     "start_time": "2024-07-18T04:16:31.140461Z"
    }
   },
   "id": "5789a4801cd26217",
   "execution_count": 47
  },
  {
   "cell_type": "code",
   "outputs": [
    {
     "data": {
      "text/plain": "20    u\n21    v\n22    w\n23    x\n24    y\n25    z\ndtype: object"
     },
     "execution_count": 48,
     "metadata": {},
     "output_type": "execute_result"
    }
   ],
   "source": [
    "alphabet[-6:]"
   ],
   "metadata": {
    "collapsed": false,
    "ExecuteTime": {
     "end_time": "2024-07-18T04:16:31.196821Z",
     "start_time": "2024-07-18T04:16:31.173080Z"
    }
   },
   "id": "ed94f0433d65070e",
   "execution_count": 48
  },
  {
   "cell_type": "markdown",
   "source": [
    "## Accessing Elements By Label"
   ],
   "metadata": {
    "collapsed": false
   },
   "id": "4f89a9471d4fc8bf"
  },
  {
   "cell_type": "code",
   "outputs": [
    {
     "data": {
      "text/plain": "'ABCDEFGHIJKLMNOPQRSTUVWXYZ'"
     },
     "execution_count": 49,
     "metadata": {},
     "output_type": "execute_result"
    }
   ],
   "source": [
    "from string import ascii_uppercase\n",
    "\n",
    "ascii_uppercase"
   ],
   "metadata": {
    "collapsed": false,
    "ExecuteTime": {
     "end_time": "2024-07-18T04:16:31.249398Z",
     "start_time": "2024-07-18T04:16:31.198433Z"
    }
   },
   "id": "3c5ae7e4ea99292d",
   "execution_count": 49
  },
  {
   "cell_type": "code",
   "outputs": [
    {
     "data": {
      "text/plain": "label_A    a\nlabel_B    b\nlabel_C    c\nlabel_D    d\nlabel_E    e\ndtype: object"
     },
     "execution_count": 50,
     "metadata": {},
     "output_type": "execute_result"
    }
   ],
   "source": [
    "labeled_alphabet = pd.Series(list(ascii_lowercase), index=map(lambda x: f'label_{x}', list(ascii_uppercase)))\n",
    "labeled_alphabet.head()"
   ],
   "metadata": {
    "collapsed": false,
    "ExecuteTime": {
     "end_time": "2024-07-18T04:16:31.262452Z",
     "start_time": "2024-07-18T04:16:31.241077Z"
    }
   },
   "id": "ea1882d4a4da0aa5",
   "execution_count": 50
  },
  {
   "cell_type": "code",
   "outputs": [
    {
     "data": {
      "text/plain": "('a', 'a')"
     },
     "execution_count": 51,
     "metadata": {},
     "output_type": "execute_result"
    }
   ],
   "source": [
    "labeled_alphabet.iloc[0], labeled_alphabet['label_A']"
   ],
   "metadata": {
    "collapsed": false,
    "ExecuteTime": {
     "end_time": "2024-07-18T04:16:31.304708Z",
     "start_time": "2024-07-18T04:16:31.263901Z"
    }
   },
   "id": "7958a9ff6a41b3f",
   "execution_count": 51
  },
  {
   "cell_type": "code",
   "outputs": [
    {
     "data": {
      "text/plain": "('k', 'k')"
     },
     "execution_count": 52,
     "metadata": {},
     "output_type": "execute_result"
    }
   ],
   "source": [
    "labeled_alphabet.iloc[10], labeled_alphabet['label_K']"
   ],
   "metadata": {
    "collapsed": false,
    "ExecuteTime": {
     "end_time": "2024-07-18T04:16:31.317790Z",
     "start_time": "2024-07-18T04:16:31.295959Z"
    }
   },
   "id": "280b1dc12221f80a",
   "execution_count": 52
  },
  {
   "cell_type": "code",
   "outputs": [
    {
     "data": {
      "text/plain": "label_A    a\nlabel_B    b\nlabel_C    c\ndtype: object"
     },
     "execution_count": 53,
     "metadata": {},
     "output_type": "execute_result"
    }
   ],
   "source": [
    "labeled_alphabet.iloc[:3]"
   ],
   "metadata": {
    "collapsed": false,
    "ExecuteTime": {
     "end_time": "2024-07-18T04:16:31.376401Z",
     "start_time": "2024-07-18T04:16:31.319901Z"
    }
   },
   "id": "de03648690757b65",
   "execution_count": 53
  },
  {
   "cell_type": "code",
   "outputs": [
    {
     "data": {
      "text/plain": "label_A    a\nlabel_B    b\nlabel_C    c\ndtype: object"
     },
     "execution_count": 54,
     "metadata": {},
     "output_type": "execute_result"
    }
   ],
   "source": [
    "labeled_alphabet[:'label_C']"
   ],
   "metadata": {
    "collapsed": false,
    "ExecuteTime": {
     "end_time": "2024-07-18T04:16:31.390381Z",
     "start_time": "2024-07-18T04:16:31.360365Z"
    }
   },
   "id": "4970a68691691278",
   "execution_count": 54
  },
  {
   "cell_type": "code",
   "outputs": [
    {
     "data": {
      "text/plain": "label_F    f\nlabel_G    g\nlabel_H    h\nlabel_I    i\nlabel_J    j\ndtype: object"
     },
     "execution_count": 55,
     "metadata": {},
     "output_type": "execute_result"
    }
   ],
   "source": [
    "labeled_alphabet[5:10]"
   ],
   "metadata": {
    "collapsed": false,
    "ExecuteTime": {
     "end_time": "2024-07-18T04:16:31.451743Z",
     "start_time": "2024-07-18T04:16:31.391286Z"
    }
   },
   "id": "df396c537fe4cb69",
   "execution_count": 55
  },
  {
   "cell_type": "code",
   "outputs": [
    {
     "data": {
      "text/plain": "label_F    f\nlabel_G    g\nlabel_H    h\nlabel_I    i\nlabel_J    j\ndtype: object"
     },
     "execution_count": 56,
     "metadata": {},
     "output_type": "execute_result"
    }
   ],
   "source": [
    "labeled_alphabet['label_F':'label_J']"
   ],
   "metadata": {
    "collapsed": false,
    "ExecuteTime": {
     "end_time": "2024-07-18T04:16:31.466735Z",
     "start_time": "2024-07-18T04:16:31.443337Z"
    }
   },
   "id": "de9652754d6533c4",
   "execution_count": 56
  },
  {
   "cell_type": "code",
   "outputs": [
    {
     "data": {
      "text/plain": "label_U    u\nlabel_V    v\nlabel_W    w\nlabel_X    x\nlabel_Y    y\nlabel_Z    z\ndtype: object"
     },
     "execution_count": 57,
     "metadata": {},
     "output_type": "execute_result"
    }
   ],
   "source": [
    "labeled_alphabet[-6:]"
   ],
   "metadata": {
    "collapsed": false,
    "ExecuteTime": {
     "end_time": "2024-07-18T04:16:31.503461Z",
     "start_time": "2024-07-18T04:16:31.468354Z"
    }
   },
   "id": "3b95ccade14ca194",
   "execution_count": 57
  },
  {
   "cell_type": "code",
   "outputs": [
    {
     "data": {
      "text/plain": "label_U    u\nlabel_V    v\nlabel_W    w\nlabel_X    x\nlabel_Y    y\nlabel_Z    z\ndtype: object"
     },
     "execution_count": 58,
     "metadata": {},
     "output_type": "execute_result"
    }
   ],
   "source": [
    "labeled_alphabet['label_U':]"
   ],
   "metadata": {
    "collapsed": false,
    "ExecuteTime": {
     "end_time": "2024-07-18T04:16:31.516580Z",
     "start_time": "2024-07-18T04:16:31.495137Z"
    }
   },
   "id": "c7909ceb849a75dc",
   "execution_count": 58
  },
  {
   "cell_type": "markdown",
   "source": [
    "## add_prefix() and add_suffix()"
   ],
   "metadata": {
    "collapsed": false
   },
   "id": "8b4afeb09f8bf57e"
  },
  {
   "cell_type": "code",
   "outputs": [
    {
     "data": {
      "text/plain": "0    a\n1    b\n2    c\n3    d\n4    e\ndtype: object"
     },
     "execution_count": 59,
     "metadata": {},
     "output_type": "execute_result"
    }
   ],
   "source": [
    "alphabet.head()"
   ],
   "metadata": {
    "collapsed": false,
    "ExecuteTime": {
     "end_time": "2024-07-18T04:16:31.567815Z",
     "start_time": "2024-07-18T04:16:31.518379Z"
    }
   },
   "id": "37440b63f4c70f6f",
   "execution_count": 59
  },
  {
   "cell_type": "code",
   "outputs": [
    {
     "data": {
      "text/plain": "label_0     a\nlabel_1     b\nlabel_2     c\nlabel_3     d\nlabel_4     e\nlabel_5     f\nlabel_6     g\nlabel_7     h\nlabel_8     i\nlabel_9     j\nlabel_10    k\nlabel_11    l\nlabel_12    m\nlabel_13    n\nlabel_14    o\nlabel_15    p\nlabel_16    q\nlabel_17    r\nlabel_18    s\nlabel_19    t\nlabel_20    u\nlabel_21    v\nlabel_22    w\nlabel_23    x\nlabel_24    y\nlabel_25    z\ndtype: object"
     },
     "execution_count": 60,
     "metadata": {},
     "output_type": "execute_result"
    }
   ],
   "source": [
    "alphabet.add_prefix('label_')"
   ],
   "metadata": {
    "collapsed": false,
    "ExecuteTime": {
     "end_time": "2024-07-18T04:16:31.580172Z",
     "start_time": "2024-07-18T04:16:31.559691Z"
    }
   },
   "id": "dca315e4ded79ab0",
   "execution_count": 60
  },
  {
   "cell_type": "code",
   "outputs": [],
   "source": [
    "alphabet = alphabet.add_suffix('_cool_ending')"
   ],
   "metadata": {
    "collapsed": false,
    "ExecuteTime": {
     "end_time": "2024-07-18T04:16:31.616036Z",
     "start_time": "2024-07-18T04:16:31.581548Z"
    }
   },
   "id": "f4ab19d5b12865bd",
   "execution_count": 61
  },
  {
   "cell_type": "code",
   "outputs": [
    {
     "data": {
      "text/plain": "0_cool_ending    a\n1_cool_ending    b\n2_cool_ending    c\n3_cool_ending    d\n4_cool_ending    e\ndtype: object"
     },
     "execution_count": 62,
     "metadata": {},
     "output_type": "execute_result"
    }
   ],
   "source": [
    "alphabet.head()"
   ],
   "metadata": {
    "collapsed": false,
    "ExecuteTime": {
     "end_time": "2024-07-18T04:16:31.628477Z",
     "start_time": "2024-07-18T04:16:31.608188Z"
    }
   },
   "id": "b269ef30ab6b9381",
   "execution_count": 62
  },
  {
   "cell_type": "markdown",
   "source": [
    "## Using Dot Notation"
   ],
   "metadata": {
    "collapsed": false
   },
   "id": "121ada853cc29452"
  },
  {
   "cell_type": "code",
   "outputs": [
    {
     "data": {
      "text/plain": "('v', 'v')"
     },
     "execution_count": 63,
     "metadata": {},
     "output_type": "execute_result"
    }
   ],
   "source": [
    "labeled_alphabet['label_V'], labeled_alphabet.label_V\n"
   ],
   "metadata": {
    "collapsed": false,
    "ExecuteTime": {
     "end_time": "2024-07-18T04:16:31.673997Z",
     "start_time": "2024-07-18T04:16:31.630045Z"
    }
   },
   "id": "a6e370f688e23716",
   "execution_count": 63
  },
  {
   "cell_type": "code",
   "outputs": [
    {
     "data": {
      "text/plain": "label_V    v\nlabel_W    w\nlabel_X    x\ndtype: object"
     },
     "execution_count": 64,
     "metadata": {},
     "output_type": "execute_result"
    }
   ],
   "source": [
    "labeled_alphabet['label_V':'label_X']"
   ],
   "metadata": {
    "collapsed": false,
    "ExecuteTime": {
     "end_time": "2024-07-18T04:16:31.685079Z",
     "start_time": "2024-07-18T04:16:31.666324Z"
    }
   },
   "id": "81326703867da40a",
   "execution_count": 64
  },
  {
   "cell_type": "markdown",
   "source": [
    "## Boolean Masks And The .loc Indexer"
   ],
   "metadata": {
    "collapsed": false
   },
   "id": "9e68558b0bcda329"
  },
  {
   "cell_type": "code",
   "outputs": [
    {
     "data": {
      "text/plain": "label_F    f\nlabel_G    g\nlabel_H    h\nlabel_I    i\nlabel_J    j\ndtype: object"
     },
     "execution_count": 65,
     "metadata": {},
     "output_type": "execute_result"
    }
   ],
   "source": [
    "labeled_alphabet['label_F':'label_J']"
   ],
   "metadata": {
    "collapsed": false,
    "ExecuteTime": {
     "end_time": "2024-07-18T04:16:31.731991Z",
     "start_time": "2024-07-18T04:16:31.687220Z"
    }
   },
   "id": "a9531ee1ea365e01",
   "execution_count": 65
  },
  {
   "cell_type": "code",
   "outputs": [
    {
     "data": {
      "text/plain": "label_F    f\nlabel_G    g\nlabel_H    h\nlabel_I    i\nlabel_J    j\ndtype: object"
     },
     "execution_count": 66,
     "metadata": {},
     "output_type": "execute_result"
    }
   ],
   "source": [
    "# loc\n",
    "\n",
    "labeled_alphabet.loc['label_F':'label_J']"
   ],
   "metadata": {
    "collapsed": false,
    "ExecuteTime": {
     "end_time": "2024-07-18T04:16:31.745092Z",
     "start_time": "2024-07-18T04:16:31.722953Z"
    }
   },
   "id": "c2f25c309c6dd7a5",
   "execution_count": 66
  },
  {
   "cell_type": "code",
   "outputs": [
    {
     "data": {
      "text/plain": "My Books\n0       Best Secret\n1    Seven Kingdoms\n2           My Hero\nName: My Fav Books, dtype: object"
     },
     "execution_count": 67,
     "metadata": {},
     "output_type": "execute_result"
    }
   ],
   "source": [
    "# boolean\n",
    "\n",
    "books_series"
   ],
   "metadata": {
    "collapsed": false,
    "ExecuteTime": {
     "end_time": "2024-07-18T04:16:31.788656Z",
     "start_time": "2024-07-18T04:16:31.746878Z"
    }
   },
   "id": "6e1e424f34ea7f8e",
   "execution_count": 67
  },
  {
   "cell_type": "code",
   "outputs": [
    {
     "data": {
      "text/plain": "My Books\n0    Best Secret\n2        My Hero\nName: My Fav Books, dtype: object"
     },
     "execution_count": 68,
     "metadata": {},
     "output_type": "execute_result"
    }
   ],
   "source": [
    "books_series.loc[[True, False, True]]"
   ],
   "metadata": {
    "collapsed": false,
    "ExecuteTime": {
     "end_time": "2024-07-18T04:16:31.801434Z",
     "start_time": "2024-07-18T04:16:31.781278Z"
    }
   },
   "id": "cb0ace33a0370c3e",
   "execution_count": 68
  },
  {
   "cell_type": "code",
   "outputs": [
    {
     "data": {
      "text/plain": "26"
     },
     "execution_count": 69,
     "metadata": {},
     "output_type": "execute_result"
    }
   ],
   "source": [
    "labeled_alphabet.size"
   ],
   "metadata": {
    "collapsed": false,
    "ExecuteTime": {
     "end_time": "2024-07-18T04:16:31.837942Z",
     "start_time": "2024-07-18T04:16:31.802712Z"
    }
   },
   "id": "9f99e12323c8e0d5",
   "execution_count": 69
  },
  {
   "cell_type": "code",
   "outputs": [
    {
     "data": {
      "text/plain": "label_A    a\nlabel_B    b\nlabel_C    c\nlabel_D    d\nlabel_E    e\nlabel_F    f\nlabel_G    g\nlabel_H    h\nlabel_I    i\nlabel_J    j\nlabel_K    k\nlabel_L    l\nlabel_M    m\nlabel_N    n\nlabel_O    o\nlabel_P    p\nlabel_Q    q\nlabel_R    r\nlabel_S    s\nlabel_T    t\nlabel_U    u\nlabel_V    v\nlabel_W    w\nlabel_X    x\nlabel_Y    y\nlabel_Z    z\ndtype: object"
     },
     "execution_count": 70,
     "metadata": {},
     "output_type": "execute_result"
    }
   ],
   "source": [
    "# labeled_alphabet.loc[True, False, True]\n",
    "\n",
    "labeled_alphabet.loc[[True for i in range(labeled_alphabet.size)]]"
   ],
   "metadata": {
    "collapsed": false,
    "ExecuteTime": {
     "end_time": "2024-07-18T04:16:31.850659Z",
     "start_time": "2024-07-18T04:16:31.830366Z"
    }
   },
   "id": "4f4c8b1cf5a07bdc",
   "execution_count": 70
  },
  {
   "cell_type": "code",
   "outputs": [
    {
     "data": {
      "text/plain": "label_A    a\nlabel_C    c\nlabel_E    e\nlabel_G    g\nlabel_I    i\nlabel_K    k\nlabel_M    m\nlabel_O    o\nlabel_Q    q\nlabel_S    s\nlabel_U    u\nlabel_W    w\nlabel_Y    y\ndtype: object"
     },
     "execution_count": 71,
     "metadata": {},
     "output_type": "execute_result"
    }
   ],
   "source": [
    "labeled_alphabet.loc[[True if i%2==0 else False for i in range(labeled_alphabet.size)]]"
   ],
   "metadata": {
    "collapsed": false,
    "ExecuteTime": {
     "end_time": "2024-07-18T04:16:31.910367Z",
     "start_time": "2024-07-18T04:16:31.852895Z"
    }
   },
   "id": "6a9b705a94b3a284",
   "execution_count": 71
  },
  {
   "cell_type": "markdown",
   "source": [
    "## Extracting By Position With .iloc"
   ],
   "metadata": {
    "collapsed": false
   },
   "id": "a49dfdeef03793c1"
  },
  {
   "cell_type": "code",
   "outputs": [],
   "source": [
    "# iloc => integer loc => indexing by position\n",
    "# loc => location => indexing by label"
   ],
   "metadata": {
    "collapsed": false,
    "ExecuteTime": {
     "end_time": "2024-07-18T04:16:31.929961Z",
     "start_time": "2024-07-18T04:16:31.890984Z"
    }
   },
   "id": "511a4c86b578726e",
   "execution_count": 72
  },
  {
   "cell_type": "code",
   "outputs": [
    {
     "data": {
      "text/plain": "('a', 'b')"
     },
     "execution_count": 73,
     "metadata": {},
     "output_type": "execute_result"
    }
   ],
   "source": [
    "labeled_alphabet.iloc[0], labeled_alphabet.iloc[1]"
   ],
   "metadata": {
    "collapsed": false,
    "ExecuteTime": {
     "end_time": "2024-07-18T04:16:31.966096Z",
     "start_time": "2024-07-18T04:16:31.926870Z"
    }
   },
   "id": "d702946bec117094",
   "execution_count": 73
  },
  {
   "cell_type": "code",
   "outputs": [
    {
     "data": {
      "text/plain": "label_B    b\nlabel_C    c\ndtype: object"
     },
     "execution_count": 74,
     "metadata": {},
     "output_type": "execute_result"
    }
   ],
   "source": [
    "labeled_alphabet.iloc[1:3]"
   ],
   "metadata": {
    "collapsed": false,
    "ExecuteTime": {
     "end_time": "2024-07-18T04:16:31.998509Z",
     "start_time": "2024-07-18T04:16:31.971079Z"
    }
   },
   "id": "7085a154aead1309",
   "execution_count": 74
  },
  {
   "cell_type": "code",
   "outputs": [
    {
     "data": {
      "text/plain": "label_B    b\nlabel_E    e\nlabel_J    j\ndtype: object"
     },
     "execution_count": 75,
     "metadata": {},
     "output_type": "execute_result"
    }
   ],
   "source": [
    "labeled_alphabet.iloc[[1, 4, 9]]"
   ],
   "metadata": {
    "collapsed": false,
    "ExecuteTime": {
     "end_time": "2024-07-18T04:16:32.035930Z",
     "start_time": "2024-07-18T04:16:31.991039Z"
    }
   },
   "id": "7e4afb1f8f826847",
   "execution_count": 75
  },
  {
   "cell_type": "markdown",
   "source": [
    "## Using Callables With .loc And .iloc"
   ],
   "metadata": {
    "collapsed": false
   },
   "id": "acfdac46ea96048a"
  },
  {
   "cell_type": "code",
   "outputs": [
    {
     "data": {
      "text/plain": "'v'"
     },
     "execution_count": 76,
     "metadata": {},
     "output_type": "execute_result"
    }
   ],
   "source": [
    "labeled_alphabet.loc['label_V']"
   ],
   "metadata": {
    "collapsed": false,
    "ExecuteTime": {
     "end_time": "2024-07-18T04:16:32.051609Z",
     "start_time": "2024-07-18T04:16:32.030494Z"
    }
   },
   "id": "5cbfb67b610ac42d",
   "execution_count": 76
  },
  {
   "cell_type": "code",
   "outputs": [
    {
     "data": {
      "text/plain": "'v'"
     },
     "execution_count": 77,
     "metadata": {},
     "output_type": "execute_result"
    }
   ],
   "source": [
    "labeled_alphabet.loc[lambda x: 'label_V']"
   ],
   "metadata": {
    "collapsed": false,
    "ExecuteTime": {
     "end_time": "2024-07-18T04:16:32.097087Z",
     "start_time": "2024-07-18T04:16:32.053325Z"
    }
   },
   "id": "419417dc047544c6",
   "execution_count": 77
  },
  {
   "cell_type": "code",
   "outputs": [
    {
     "data": {
      "text/plain": "label_V    v\nlabel_X    x\ndtype: object"
     },
     "execution_count": 78,
     "metadata": {},
     "output_type": "execute_result"
    }
   ],
   "source": [
    "labeled_alphabet.loc[lambda x: ['label_V', 'label_X']]\n"
   ],
   "metadata": {
    "collapsed": false,
    "ExecuteTime": {
     "end_time": "2024-07-18T04:16:32.110835Z",
     "start_time": "2024-07-18T04:16:32.088557Z"
    }
   },
   "id": "159f8eec9bbbf789",
   "execution_count": 78
  },
  {
   "cell_type": "code",
   "outputs": [
    {
     "data": {
      "text/plain": "label_A    a\nlabel_C    c\nlabel_E    e\nlabel_G    g\nlabel_I    i\nlabel_K    k\nlabel_M    m\nlabel_O    o\nlabel_Q    q\nlabel_S    s\nlabel_U    u\nlabel_W    w\nlabel_Y    y\ndtype: object"
     },
     "execution_count": 79,
     "metadata": {},
     "output_type": "execute_result"
    }
   ],
   "source": [
    "labeled_alphabet.loc[lambda x: [True if i%2==0 else False for i in range(labeled_alphabet.size)]]"
   ],
   "metadata": {
    "collapsed": false,
    "ExecuteTime": {
     "end_time": "2024-07-18T04:16:32.160094Z",
     "start_time": "2024-07-18T04:16:32.113880Z"
    }
   },
   "id": "963de3e79f881819",
   "execution_count": 79
  },
  {
   "cell_type": "code",
   "outputs": [],
   "source": [
    "def every_fifth(x):\n",
    "    return [True if i%5==0 else False for i in range(x.size)]"
   ],
   "metadata": {
    "collapsed": false,
    "ExecuteTime": {
     "end_time": "2024-07-18T04:16:32.175384Z",
     "start_time": "2024-07-18T04:16:32.151301Z"
    }
   },
   "id": "b342689a453d8be3",
   "execution_count": 80
  },
  {
   "cell_type": "code",
   "outputs": [
    {
     "data": {
      "text/plain": "label_A    a\nlabel_F    f\nlabel_K    k\nlabel_P    p\nlabel_U    u\nlabel_Z    z\ndtype: object"
     },
     "execution_count": 81,
     "metadata": {},
     "output_type": "execute_result"
    }
   ],
   "source": [
    "labeled_alphabet.iloc[every_fifth]"
   ],
   "metadata": {
    "collapsed": false,
    "ExecuteTime": {
     "end_time": "2024-07-18T04:16:32.209779Z",
     "start_time": "2024-07-18T04:16:32.178749Z"
    }
   },
   "id": "f6e4b41e8b0f90f7",
   "execution_count": 81
  },
  {
   "cell_type": "markdown",
   "source": [
    "## Selecting With .get()"
   ],
   "metadata": {
    "collapsed": false
   },
   "id": "2a9e6fb92355a92c"
  },
  {
   "cell_type": "code",
   "outputs": [
    {
     "data": {
      "text/plain": "('i', 'i', 'i')"
     },
     "execution_count": 82,
     "metadata": {},
     "output_type": "execute_result"
    }
   ],
   "source": [
    "labeled_alphabet.get('label_I'), labeled_alphabet.loc['label_I'], labeled_alphabet['label_I']"
   ],
   "metadata": {
    "collapsed": false,
    "ExecuteTime": {
     "end_time": "2024-07-18T04:16:32.222236Z",
     "start_time": "2024-07-18T04:16:32.202413Z"
    }
   },
   "id": "556282e6d4f13c69",
   "execution_count": 82
  },
  {
   "cell_type": "code",
   "outputs": [
    {
     "data": {
      "text/plain": "'Could not find any labels'"
     },
     "execution_count": 83,
     "metadata": {},
     "output_type": "execute_result"
    }
   ],
   "source": [
    "labeled_alphabet.get('label_Unknown', default='Could not find any labels')"
   ],
   "metadata": {
    "collapsed": false,
    "ExecuteTime": {
     "end_time": "2024-07-18T04:16:32.269478Z",
     "start_time": "2024-07-18T04:16:32.223385Z"
    }
   },
   "id": "de5fa36756d63b0c",
   "execution_count": 83
  },
  {
   "cell_type": "markdown",
   "source": [
    "## Challenge"
   ],
   "metadata": {
    "collapsed": false
   },
   "id": "240e553f6839b485"
  },
  {
   "cell_type": "markdown",
   "source": [
    "1. Create a series of length 100 containing the squares of integers from 0 to 99. Assign it to the variable squares."
   ],
   "metadata": {
    "collapsed": false
   },
   "id": "191ebbac9252de98"
  },
  {
   "cell_type": "code",
   "outputs": [
    {
     "data": {
      "text/plain": "95    9025\n96    9216\n97    9409\n98    9604\n99    9801\ndtype: int64"
     },
     "execution_count": 89,
     "metadata": {},
     "output_type": "execute_result"
    }
   ],
   "source": [
    "squares = pd.Series([i**2 for i in range(100)])\n",
    "squares.tail()"
   ],
   "metadata": {
    "collapsed": false,
    "ExecuteTime": {
     "end_time": "2024-07-18T04:22:20.209965Z",
     "start_time": "2024-07-18T04:22:20.178042Z"
    }
   },
   "id": "ac74232718a0e318",
   "execution_count": 89
  },
  {
   "cell_type": "markdown",
   "source": [
    "2. Extract the last three items from the squares series using square bracket indexing"
   ],
   "metadata": {
    "collapsed": false
   },
   "id": "2d0d0f35f70a6a5a"
  },
  {
   "cell_type": "code",
   "outputs": [
    {
     "data": {
      "text/plain": "97    9409\n98    9604\n99    9801\ndtype: int64"
     },
     "execution_count": 91,
     "metadata": {},
     "output_type": "execute_result"
    }
   ],
   "source": [
    "squares[-3:]"
   ],
   "metadata": {
    "collapsed": false,
    "ExecuteTime": {
     "end_time": "2024-07-18T04:23:10.239362Z",
     "start_time": "2024-07-18T04:23:10.230828Z"
    }
   },
   "id": "48e9570055903980",
   "execution_count": 91
  },
  {
   "cell_type": "markdown",
   "source": [
    "3. Repeat step 2 but using tail "
   ],
   "metadata": {
    "collapsed": false
   },
   "id": "54412b37b4a2fe06"
  },
  {
   "cell_type": "code",
   "outputs": [
    {
     "data": {
      "text/plain": "97    9409\n98    9604\n99    9801\ndtype: int64"
     },
     "execution_count": 92,
     "metadata": {},
     "output_type": "execute_result"
    }
   ],
   "source": [
    "squares.tail(3)"
   ],
   "metadata": {
    "collapsed": false,
    "ExecuteTime": {
     "end_time": "2024-07-18T04:23:41.365656Z",
     "start_time": "2024-07-18T04:23:41.339379Z"
    }
   },
   "id": "9b1bdf84d12576d6",
   "execution_count": 92
  },
  {
   "cell_type": "markdown",
   "source": [
    "4. Verify that output of steps 2 and 3 is the same using the equals method"
   ],
   "metadata": {
    "collapsed": false
   },
   "id": "c18ddd1443aad973"
  },
  {
   "cell_type": "code",
   "outputs": [
    {
     "data": {
      "text/plain": "True"
     },
     "execution_count": 93,
     "metadata": {},
     "output_type": "execute_result"
    }
   ],
   "source": [
    "squares.tail(3).equals(squares[-3:])"
   ],
   "metadata": {
    "collapsed": false,
    "ExecuteTime": {
     "end_time": "2024-07-18T04:24:30.528550Z",
     "start_time": "2024-07-18T04:24:30.503379Z"
    }
   },
   "id": "6986166940ee208a",
   "execution_count": 93
  },
  {
   "cell_type": "code",
   "outputs": [],
   "source": [],
   "metadata": {
    "collapsed": false
   },
   "id": "a43cec99a6b63278"
  }
 ],
 "metadata": {
  "kernelspec": {
   "display_name": "Python 3",
   "language": "python",
   "name": "python3"
  },
  "language_info": {
   "codemirror_mode": {
    "name": "ipython",
    "version": 2
   },
   "file_extension": ".py",
   "mimetype": "text/x-python",
   "name": "python",
   "nbconvert_exporter": "python",
   "pygments_lexer": "ipython2",
   "version": "2.7.6"
  }
 },
 "nbformat": 4,
 "nbformat_minor": 5
}
